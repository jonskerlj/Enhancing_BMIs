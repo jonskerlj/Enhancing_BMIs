{
 "cells": [
  {
   "cell_type": "code",
   "execution_count": 1,
   "metadata": {},
   "outputs": [],
   "source": [
    "import pandas as pd\n",
    "import numpy as np\n",
    "import xarray as xr\n",
    "\n",
    "import os\n",
    "from tqdm.auto import tqdm\n",
    "\n",
    "import matplotlib.pyplot as plt\n",
    "import seaborn as sns"
   ]
  },
  {
   "cell_type": "code",
   "execution_count": 2,
   "metadata": {},
   "outputs": [],
   "source": [
    "from pyaldata import *"
   ]
  },
  {
   "cell_type": "code",
   "execution_count": 88,
   "metadata": {},
   "outputs": [],
   "source": [
    "# Load data\n",
    "data_dir = \".\"\n",
    "fname = os.path.join(data_dir, \"RS_8.mat\")"
   ]
  },
  {
   "cell_type": "code",
   "execution_count": 89,
   "metadata": {},
   "outputs": [],
   "source": [
    "# load TrialData .mat file into a DataFrame\n",
    "df = mat2dataframe(fname, shift_idx_fields=True)"
   ]
  },
  {
   "cell_type": "code",
   "execution_count": 90,
   "metadata": {},
   "outputs": [
    {
     "name": "stdout",
     "output_type": "stream",
     "text": [
      "0    0.01\n",
      "1    0.01\n",
      "2    0.01\n",
      "3    0.01\n",
      "4    0.01\n",
      "Name: bin_size, dtype: float64\n",
      "\n",
      "0    0.03\n",
      "1    0.03\n",
      "2    0.03\n",
      "3    0.03\n",
      "4    0.03\n",
      "Name: bin_size, dtype: float64\n"
     ]
    }
   ],
   "source": [
    "# Preprocessing\n",
    "\n",
    "# combine time bins into longer ones\n",
    "td = combine_time_bins(df, 3)\n",
    "print(df.head().bin_size)\n",
    "print()\n",
    "print(td.head().bin_size)"
   ]
  },
  {
   "cell_type": "code",
   "execution_count": 91,
   "metadata": {},
   "outputs": [
    {
     "name": "stdout",
     "output_type": "stream",
     "text": [
      "original:  (48, 67)\n",
      "combined:  (16, 67)\n"
     ]
    }
   ],
   "source": [
    "print(\"original: \", df.M1_spikes[0].shape)\n",
    "print(\"combined: \", td.M1_spikes[0].shape)"
   ]
  },
  {
   "cell_type": "code",
   "execution_count": 92,
   "metadata": {},
   "outputs": [
    {
     "name": "stdout",
     "output_type": "stream",
     "text": [
      "original:  (48, 67)\n",
      "removed:   (16, 58)\n"
     ]
    }
   ],
   "source": [
    "# Remove low-firing neurons\n",
    "td = remove_low_firing_neurons(td, \"M1_spikes\",  3)\n",
    "td = remove_low_firing_neurons(td, \"PMd_spikes\", 3)\n",
    "\n",
    "print(\"original: \", df.M1_spikes[0].shape)\n",
    "print(\"removed:  \", td.M1_spikes[0].shape)"
   ]
  },
  {
   "cell_type": "code",
   "execution_count": 93,
   "metadata": {},
   "outputs": [],
   "source": [
    "# Smooting the signal\n",
    "\n",
    "td = smooth_signals(td, [\"M1_spikes\", \"PMd_spikes\"], std=0.05)\n",
    "\n"
   ]
  },
  {
   "cell_type": "code",
   "execution_count": 94,
   "metadata": {},
   "outputs": [],
   "source": [
    "# Combine M1 and PMd\n",
    "td = merge_signals(td, [\"M1_spikes\", \"PMd_spikes\"], \"both_spikes\")"
   ]
  },
  {
   "cell_type": "code",
   "execution_count": 95,
   "metadata": {},
   "outputs": [
    {
     "name": "stdout",
     "output_type": "stream",
     "text": [
      "(26, 58) (26, 32)\n",
      "(26, 90)\n"
     ]
    }
   ],
   "source": [
    "print(td.M1_spikes[1].shape, td.PMd_spikes[1].shape)\n",
    "print(td.both_spikes[1].shape)\n"
   ]
  },
  {
   "cell_type": "code",
   "execution_count": 96,
   "metadata": {},
   "outputs": [
    {
     "name": "stdout",
     "output_type": "stream",
     "text": [
      "(303, 2)\n",
      "(303, 2)\n",
      "(303, 58)\n",
      "(303, 32)\n",
      "(303, 90)\n"
     ]
    }
   ],
   "source": [
    "N = td.shape[0]\n",
    "\n",
    "# Smallest length of a successful trial\n",
    "#min_len = 20\n",
    "\n",
    "for i in range(N):\n",
    "    \n",
    "    \n",
    "    # get position\n",
    "    pos = td.pos[i]\n",
    "\n",
    "    \n",
    "    # get velocities for this trial\n",
    "    vel = td.vel[i]\n",
    "   \n",
    "    \n",
    "    # get M1 spikes\n",
    "    M1 = td.M1_spikes[i]\n",
    "    \n",
    "    # get PMd_spikes\n",
    "    PMd = td.PMd_spikes[i]\n",
    "    \n",
    "    # get both\n",
    "    both_spikes = td.both_spikes[i]\n",
    "    \n",
    "    \n",
    "    if (i == 0):\n",
    "        grouped_pos = pos\n",
    "        grouped_vel = vel\n",
    "\n",
    "        grouped_M1 = M1\n",
    "        grouped_PMd = PMd\n",
    "        grouped_both_spikes = both_spikes\n",
    "    else:\n",
    "        grouped_pos = np.append(grouped_pos, pos, axis=0)\n",
    "        grouped_vel = np.append(grouped_vel, vel, axis=0)\n",
    "        grouped_M1 = np.append(grouped_M1, M1, axis=0)\n",
    "        grouped_PMd = np.append(grouped_PMd, PMd, axis=0)\n",
    "        grouped_both_spikes = np.append(grouped_both_spikes, both_spikes, axis=0);\n",
    " \n",
    "print(grouped_pos.shape)    \n",
    "print(grouped_vel.shape)\n",
    "print(grouped_M1.shape)\n",
    "print(grouped_PMd.shape)\n",
    "print(grouped_both_spikes.shape)\n",
    "   \n",
    "    "
   ]
  },
  {
   "cell_type": "code",
   "execution_count": 97,
   "metadata": {},
   "outputs": [],
   "source": [
    "# Save the data in right format\n",
    "import pickle\n",
    "\n",
    "data_folder='' #FOLDER YOU WANT TO SAVE THE DATA TO\n",
    "\n",
    "with open(data_folder+'RS_8.pickle','wb') as f:\n",
    "    pickle.dump([grouped_M1, grouped_PMd, grouped_both_spikes, grouped_pos, grouped_vel],f)"
   ]
  },
  {
   "cell_type": "code",
   "execution_count": null,
   "metadata": {},
   "outputs": [],
   "source": []
  },
  {
   "cell_type": "code",
   "execution_count": null,
   "metadata": {},
   "outputs": [],
   "source": []
  }
 ],
 "metadata": {
  "kernelspec": {
   "display_name": "Python 3",
   "language": "python",
   "name": "python3"
  },
  "language_info": {
   "codemirror_mode": {
    "name": "ipython",
    "version": 3
   },
   "file_extension": ".py",
   "mimetype": "text/x-python",
   "name": "python",
   "nbconvert_exporter": "python",
   "pygments_lexer": "ipython3",
   "version": "3.7.0"
  }
 },
 "nbformat": 4,
 "nbformat_minor": 4
}
