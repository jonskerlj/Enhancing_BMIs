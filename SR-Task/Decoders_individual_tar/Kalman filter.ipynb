{
 "cells": [
  {
   "cell_type": "code",
   "execution_count": 1,
   "metadata": {},
   "outputs": [],
   "source": [
    "#Import standard packages\n",
    "import numpy as np\n",
    "import matplotlib.pyplot as plt\n",
    "%matplotlib inline\n",
    "from scipy import io\n",
    "from scipy import stats\n",
    "from sklearn.metrics import r2_score\n",
    "import pickle\n",
    "from tqdm import tqdm\n",
    "import csv\n",
    "\n",
    "#Import function to get the covariate matrix that includes spike history from previous bins\n",
    "from Neural_Decoding.preprocessing_funcs import get_spikes_with_history\n",
    "\n",
    "#Import decoder functions\n",
    "from Neural_Decoding.decoders import KalmanFilterDecoder"
   ]
  },
  {
   "cell_type": "code",
   "execution_count": 12,
   "metadata": {},
   "outputs": [],
   "source": [
    "# import the data\n",
    "import os\n",
    "\n",
    "path = '../preprocessed_data/individual_targets/'\n",
    "\n",
    "R2 = np.empty((2,8))\n",
    "KF_models = []\n",
    "# User \n",
    "lag=0 #What time bin of spikes should be used relative to the output\n",
    "#(lag=-1 means use the spikes 1 bin before the output)\n",
    "\n",
    "col = 0\n",
    "for filename in os.listdir(path):\n",
    "    if filename.endswith('.pickle'):\n",
    "        with open(os.path.join(path, filename),'rb') as f:\n",
    "            M1, PMd, M1_PMd,pos_binned,vels_binned=pickle.load(f,encoding='latin1') #If using python 3\n",
    "            \n",
    "            # group neural data and kinematics\n",
    "            neural_data_combined = [M1]\n",
    "            for (i, neural_data) in enumerate(neural_data_combined):\n",
    "\n",
    "                X_kf = neural_data\n",
    "                #The final output covariates include position, velocity, and acceleration\n",
    "                y_kf=np.concatenate((pos_binned,vels_binned),axis=1)\n",
    "\n",
    "\n",
    "                # Take into account lag (if it applies to the analysis)\n",
    "                num_examples_kf=X_kf.shape[0]\n",
    "\n",
    "                #Re-align data to take lag into account\n",
    "                if lag<0:\n",
    "                    y_kf=y_kf[-lag:,:]\n",
    "                    X_kf=X_kf[0:num_examples+lag,:]\n",
    "                if lag>0:\n",
    "                    y_kf=y_kf[0:num_examples-lag,:]\n",
    "                    X_kf=X_kf[lag:num_examples,:]\n",
    "    \n",
    "    \n",
    "                # Split into training / testing / validation sets\n",
    "                #Set what part of data should be part of the training/testing/validation sets\n",
    "                training_range=[0.15, 1]\n",
    "                testing_range=[0.7, 0.85]\n",
    "                valid_range=[0,0.15]\n",
    "\n",
    "                # Split data:\n",
    "                num_examples_kf=X_kf.shape[0]\n",
    "\n",
    "                ##Note that each range has a buffer of 1 bin at the beginning and end\n",
    "                #This makes it so that the different sets don't include overlapping data\n",
    "                training_set=np.arange(int(np.round(training_range[0]*num_examples_kf))+1,int(np.round(training_range[1]*num_examples_kf))-1)\n",
    "                testing_set=np.arange(int(np.round(testing_range[0]*num_examples_kf))+1,int(np.round(testing_range[1]*num_examples_kf))-1)\n",
    "                valid_set=np.arange(int(np.round(valid_range[0]*num_examples_kf))+1,int(np.round(valid_range[1]*num_examples_kf))-1)\n",
    "\n",
    "                #Get training data\n",
    "                X_kf_train=X_kf[training_set,:]\n",
    "                y_kf_train=y_kf[training_set,:]\n",
    "\n",
    "                #Get testing data\n",
    "                X_kf_test=X_kf[testing_set,:]\n",
    "                y_kf_test=y_kf[testing_set,:]\n",
    "\n",
    "                #Get validation data\n",
    "                X_kf_valid=X_kf[valid_set,:]\n",
    "                y_kf_valid=y_kf[valid_set,:]\n",
    "\n",
    "                #  Preprocessing: Normalization and zero-centering\n",
    "                #Z-score inputs \n",
    "                X_kf_train_mean=np.nanmean(X_kf_train,axis=0)\n",
    "                X_kf_train_std=np.nanstd(X_kf_train,axis=0)\n",
    "                X_kf_train=(X_kf_train-X_kf_train_mean)/X_kf_train_std\n",
    "                X_kf_test=(X_kf_test-X_kf_train_mean)/X_kf_train_std\n",
    "                X_kf_valid=(X_kf_valid-X_kf_train_mean)/X_kf_train_std\n",
    "\n",
    "                #Zero-center outputs\n",
    "                y_kf_train_mean=np.mean(y_kf_train,axis=0)\n",
    "                y_kf_train=y_kf_train-y_kf_train_mean\n",
    "                y_kf_test=y_kf_test-y_kf_train_mean\n",
    "                y_kf_valid=y_kf_valid-y_kf_train_mean\n",
    "\n",
    "                # Run decoder\n",
    "                # Declare model\n",
    "                model_kf=KalmanFilterDecoder(C=1) #There is one optional parameter that is set to the default in this example (see ReadMe)\n",
    "\n",
    "                #Fit model\n",
    "                model_kf.fit(X_kf_train,y_kf_train)\n",
    "\n",
    "                #Get predictions\n",
    "                y_valid_predicted_kf=model_kf.predict(X_kf_valid,y_kf_valid)\n",
    "\n",
    "                R2_pos_vw = np.array([r2_score(y_kf_valid[:,0:2],y_valid_predicted_kf[:,0:2], multioutput='variance_weighted')])\n",
    "                R2_vel_vw = R2_vw_2 = np.array([r2_score(y_kf_valid[:,2:4],y_valid_predicted_kf[:,2:4], multioutput='variance_weighted')])\n",
    "                # Save the R2 value for a given neural data and kinematics\n",
    "                R2[0,col] = R2_pos_vw\n",
    "                R2[1,col] = R2_vel_vw\n",
    "\n",
    "                # store the model - maybe needed later\n",
    "                KF_models.append(model_kf)\n",
    "            col = col +1"
   ]
  },
  {
   "cell_type": "code",
   "execution_count": 13,
   "metadata": {},
   "outputs": [
    {
     "name": "stdout",
     "output_type": "stream",
     "text": [
      "[0.36440311 0.44742724]\n"
     ]
    }
   ],
   "source": [
    "R2_mean = np.average(R2,axis=1)\n",
    "print(R2_mean)"
   ]
  },
  {
   "cell_type": "code",
   "execution_count": 5,
   "metadata": {},
   "outputs": [],
   "source": [
    "# get average of R2 values for each kinematic\n",
    "R2_mean = np.average(R2,axis=1)\n",
    "R2_std = np.std(R2,axis=1)\n",
    "\n",
    "# Export the data into a csv file for further analysis\n",
    "csv_rowlist = [['R^2 values','Kalman Filter', 'M1 data'], ['Target','1','2','3','4','5','6','7','8','Average', 'Std. dev.'], ['position',R2[0,0],R2[0,1],R2[0,2],R2[0,3],R2[0,4],R2[0,5],R2[0,6],R2[0,7],R2_mean[0],R2_std[0]], ['velocity',R2[1,0],R2[1,1],R2[1,2],R2[1,3],R2[1,4],R2[1,5],R2[1,6],R2[1,7],R2_mean[1],R2_std[1]]]\n",
    "\n",
    "export_path = '../Results/Ind_tar/KF_raw_RS_tar.csv'\n",
    "with open(export_path, 'w', newline='') as file:\n",
    "    writer = csv.writer(file)\n",
    "    writer.writerows(csv_rowlist)"
   ]
  },
  {
   "cell_type": "code",
   "execution_count": 6,
   "metadata": {},
   "outputs": [
    {
     "name": "stdout",
     "output_type": "stream",
     "text": [
      "[[ 0.55620767  0.57202969  0.50066018  0.32536452  0.34179489  0.23041525\n",
      "   0.26839182  0.20073228]\n",
      " [ 0.34756191  0.3820538   0.58136809  0.49652826  0.54937019  0.16222823\n",
      "  -0.11113971  0.60134446]]\n"
     ]
    }
   ],
   "source": [
    "print(R2)"
   ]
  },
  {
   "cell_type": "code",
   "execution_count": null,
   "metadata": {},
   "outputs": [],
   "source": []
  }
 ],
 "metadata": {
  "kernelspec": {
   "display_name": "Python 3",
   "language": "python",
   "name": "python3"
  },
  "language_info": {
   "codemirror_mode": {
    "name": "ipython",
    "version": 3
   },
   "file_extension": ".py",
   "mimetype": "text/x-python",
   "name": "python",
   "nbconvert_exporter": "python",
   "pygments_lexer": "ipython3",
   "version": "3.7.0"
  }
 },
 "nbformat": 4,
 "nbformat_minor": 4
}
