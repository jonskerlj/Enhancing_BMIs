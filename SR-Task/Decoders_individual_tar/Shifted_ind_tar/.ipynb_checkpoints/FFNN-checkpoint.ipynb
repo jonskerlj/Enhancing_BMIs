{
 "cells": [
  {
   "cell_type": "code",
   "execution_count": 1,
   "metadata": {},
   "outputs": [],
   "source": [
    "#Import standard packages\n",
    "import numpy as np\n",
    "import matplotlib.pyplot as plt\n",
    "%matplotlib inline\n",
    "from scipy import io\n",
    "from scipy import stats\n",
    "from sklearn.metrics import r2_score\n",
    "import pickle\n",
    "from tqdm import tqdm\n",
    "import csv\n",
    "\n",
    "#Import function to get the covariate matrix that includes spike history from previous bins\n",
    "from Neural_Decoding.preprocessing_funcs import get_spikes_with_history\n",
    "\n",
    "#Import decoder functions\n",
    "from Neural_Decoding.decoders import WienerFilterDecoder\n",
    "\n",
    "\n",
    "#Import metrics\n",
    "from Neural_Decoding.metrics import get_R2\n",
    "from Neural_Decoding.metrics import get_rho\n",
    "\n",
    "#Import hyperparameter optimization packages\n",
    "try:\n",
    "    from hyperopt import fmin, hp, Trials, tpe, STATUS_OK\n",
    "except ImportError:\n",
    "    print(\"\\nWARNING: hyperopt package is not installed. You will be unable to use section 5.\")\n",
    "    pass\n",
    "\n",
    "#Import decoder functions\n",
    "from Neural_Decoding.decoders import DenseNNDecoder"
   ]
  },
  {
   "cell_type": "code",
   "execution_count": 6,
   "metadata": {},
   "outputs": [
    {
     "name": "stdout",
     "output_type": "stream",
     "text": [
      "100%|█████████████████████████████████████████████████| 5/5 [00:06<00:00,  1.38s/trial, best loss: -0.3587928682460873]\n",
      "100%|████████████████████████████████████████████████| 5/5 [00:09<00:00,  1.94s/trial, best loss: -0.46102086181185675]\n",
      "100%|█████████████████████████████████████████████████| 5/5 [00:06<00:00,  1.25s/trial, best loss: -0.3889667666183259]\n",
      "100%|██████████████████████████████████████████████████| 5/5 [00:11<00:00,  2.29s/trial, best loss: -0.632489099720043]\n",
      "100%|████████████████████████████████████████████████| 5/5 [00:11<00:00,  2.38s/trial, best loss: -0.36225798207147397]\n",
      "100%|█████████████████████████████████████████████████| 5/5 [00:11<00:00,  2.38s/trial, best loss: -0.6607644374176627]\n",
      "100%|████████████████████████████████████████████████| 5/5 [00:14<00:00,  2.82s/trial, best loss: -0.43017715592579386]\n",
      "100%|█████████████████████████████████████████████████| 5/5 [00:07<00:00,  1.54s/trial, best loss: -0.6414191663022323]\n",
      "100%|█████████████████████████████████████████████████| 5/5 [00:06<00:00,  1.21s/trial, best loss: -0.1298840851866669]\n",
      "100%|█████████████████████████████████████████████████| 5/5 [00:11<00:00,  2.31s/trial, best loss: -0.5443804404443638]\n",
      "100%|█████████████████████████████████████████████████| 5/5 [00:19<00:00,  3.91s/trial, best loss: -0.5426399519376435]\n",
      "100%|█████████████████████████████████████████████████| 5/5 [00:09<00:00,  1.81s/trial, best loss: -0.6059293674406683]\n",
      "100%|████████████████████████████████████████████████| 5/5 [00:12<00:00,  2.56s/trial, best loss: -0.23980107814646473]\n",
      "100%|█████████████████████████████████████████████████| 5/5 [00:13<00:00,  2.67s/trial, best loss: -0.4243467194580702]\n",
      "100%|█████████████████████████████████████████████████| 5/5 [00:11<00:00,  2.39s/trial, best loss: -0.4474476415247384]\n",
      "100%|█████████████████████████████████████████████████| 5/5 [00:08<00:00,  1.61s/trial, best loss: -0.7012776049573829]\n"
     ]
    }
   ],
   "source": [
    "# import the data\n",
    "import os\n",
    "\n",
    "path = '../../preprocessed_data/shifted_ind_tar/'\n",
    "\n",
    "R2 = np.empty((2,8))\n",
    "FFNN_models = []\n",
    "\n",
    "col = 0\n",
    "for filename in os.listdir(path):\n",
    "    if filename.endswith('.pickle'):\n",
    "        with open(os.path.join(path, filename),'rb') as f:\n",
    "            M1, PMd, M1_PMd,pos_binned,vels_binned=pickle.load(f,encoding='latin1') #If using python 3\n",
    "            \n",
    "            # group neural data and kinematics\n",
    "            neural_data_combined = [M1]\n",
    "            kinematics = [pos_binned, vels_binned]\n",
    "            for (i, neural_data) in enumerate(neural_data_combined):\n",
    "                for (j, output) in enumerate(kinematics):\n",
    "                    # Preprocess data\n",
    "                    bins_before=6 #How many bins of neural data prior to the output are used for decoding\n",
    "                    bins_current=1 #Whether to use concurrent time bin of neural data\n",
    "                    bins_after=0 #How many bins of neural data after the output are used for decoding\n",
    "\n",
    "                    # Format for recurrent neural networks (SimpleRNN, GRU, LSTM)\n",
    "                    # Function to get the covariate matrix that includes spike history from previous bins\n",
    "                    X=get_spikes_with_history(neural_data,bins_before,bins_after,bins_current)\n",
    "\n",
    "                    # Format for Wiener Filter, Wiener Cascade, XGBoost, and Dense Neural Network\n",
    "                    #Put in \"flat\" format, so each \"neuron / time\" is a single feature\n",
    "                    X_flat=X.reshape(X.shape[0],(X.shape[1]*X.shape[2]))\n",
    "                \n",
    "                    # Output covariates\n",
    "                    #Set decoding output\n",
    "                    y=output\n",
    "\n",
    "                    # Split into training / testing / validation sets\n",
    "                    #Set what part of data should be part of the training/testing/validation sets\n",
    "                    training_range=[0, 0.7]\n",
    "                    testing_range=[0.7, 0.85]\n",
    "                    valid_range=[0.85,1]\n",
    "\n",
    "                    # Split data:\n",
    "                    num_examples=X.shape[0]\n",
    "\n",
    "                    #Note that each range has a buffer of\"bins_before\" bins at the beginning, and \"bins_after\" bins at the end\n",
    "                    #This makes it so that the different sets don't include overlapping neural data\n",
    "                    training_set=np.arange(int(np.round(training_range[0]*num_examples))+bins_before,int(np.round(training_range[1]*num_examples))-bins_after)\n",
    "                    testing_set=np.arange(int(np.round(testing_range[0]*num_examples))+bins_before,int(np.round(testing_range[1]*num_examples))-bins_after)\n",
    "                    valid_set=np.arange(int(np.round(valid_range[0]*num_examples))+bins_before,int(np.round(valid_range[1]*num_examples))-bins_after)\n",
    "\n",
    "                    #Get training data\n",
    "                    X_train=X[training_set,:,:]\n",
    "                    X_flat_train=X_flat[training_set,:]\n",
    "                    y_train=y[training_set,:]\n",
    "\n",
    "                    #Get testing data\n",
    "                    X_test=X[testing_set,:,:]\n",
    "                    X_flat_test=X_flat[testing_set,:]\n",
    "                    y_test=y[testing_set,:]\n",
    "\n",
    "                    #Get validation data\n",
    "                    X_valid=X[valid_set,:,:]\n",
    "                    X_flat_valid=X_flat[valid_set,:]\n",
    "                    y_valid=y[valid_set,:]\n",
    "\n",
    "                    # Process covariates\n",
    "                    #Z-score \"X\" inputs. \n",
    "                    #X_train_mean=np.nanmean(X_train,axis=0)\n",
    "                    #X_train_std=np.nanstd(X_train,axis=0)\n",
    "                    #X_train=(X_train-X_train_mean)/X_train_std\n",
    "                    #X_test=(X_test-X_train_mean)/X_train_std\n",
    "                    #X_valid=(X_valid-X_train_mean)/X_train_std\n",
    "\n",
    "                    #Z-score \"X_flat\" inputs. \n",
    "                    #X_flat_train_mean=np.nanmean(X_flat_train,axis=0)\n",
    "                    #X_flat_train_std=np.nanstd(X_flat_train,axis=0)\n",
    "                    #X_flat_train=(X_flat_train-X_flat_train_mean)/X_flat_train_std\n",
    "                    #X_flat_test=(X_flat_test-X_flat_train_mean)/X_flat_train_std\n",
    "                   # X_flat_valid=(X_flat_valid-X_flat_train_mean)/X_flat_train_std\n",
    "\n",
    "                    #Zero-center outputs\n",
    "                    #y_train_mean=np.mean(y_train,axis=0)\n",
    "                    #y_train=y_train-y_train_mean\n",
    "                    #y_test=y_test-y_train_mean\n",
    "                    #y_valid=y_valid-y_train_mean\n",
    "\n",
    "                    #Do optimization\n",
    "                    # Define parameters for hyperoptimisation\n",
    "                    def dnn_evaluate2(params):\n",
    "                        #Put parameters in proper format\n",
    "                        num_units=int(params['num_units'])\n",
    "                        frac_dropout=float(params['frac_dropout'])\n",
    "                        n_epochs=int(params['n_epochs'])\n",
    "                        model_dnn=DenseNNDecoder(units=[num_units,num_units],dropout=frac_dropout,num_epochs=n_epochs) #Define model\n",
    "                        model_dnn.fit(X_flat_train,y_train) #Fit model\n",
    "                        y_valid_predicted_dnn=model_dnn.predict(X_flat_valid) #Get validation set predictions\n",
    "                        return -np.mean(get_R2(y_valid,y_valid_predicted_dnn)) #Return -R2 value of validation set\n",
    "\n",
    "                    #The range of values I'll look at for the parameter\n",
    "                    #\"hp.quniform\" will allow us to look at integer (rather than continuously spaced) values.\n",
    "                    #So for \"num_units\", we are looking at values between 50 and 700 by 10 (50,60,70,...700)\n",
    "                    #\"hp.uniform\" looks at continuously spaced values\n",
    "                    space = {\n",
    "                        'frac_dropout': hp.uniform('frac_dropout', 0., 0.5),\n",
    "                        'num_units': hp.quniform('num_units', 50,700,10),\n",
    "                        'n_epochs': hp.quniform('n_epochs', 2,15,1),\n",
    "                    }\n",
    "                    #object that holds iteration results\n",
    "                    trials = Trials()\n",
    "\n",
    "                    #Set the number of evaluations below (20 in this example)\n",
    "                    hyperoptBest = fmin(dnn_evaluate2, space, algo=tpe.suggest, max_evals=5, trials=trials)        \n",
    "\n",
    "\n",
    "                    # Run decoder\n",
    "                    #Declare model\n",
    "                    model_dnn=DenseNNDecoder(units=int(hyperoptBest['num_units']),dropout=hyperoptBest['frac_dropout'],num_epochs=int(hyperoptBest['n_epochs']))\n",
    "\n",
    "                    #Fit model\n",
    "                    model_dnn.fit(X_flat_train,y_train)\n",
    "\n",
    "                    #Get predictions\n",
    "                    y_valid_predicted_dnn=model_dnn.predict(X_flat_valid)\n",
    "\n",
    "                    R2_vw = r2_score(y_valid,y_valid_predicted_dnn, multioutput='variance_weighted')\n",
    "\n",
    "                    # Save the R2 value for a given neural data and kinematics\n",
    "                    R2[2*i+j,col] = R2_vw\n",
    "                    \n",
    "                    # store the model - maybe needed later\n",
    "                    FFNN_models.append(model_dnn)\n",
    "                    \n",
    "                col = col +1\n",
    "            "
   ]
  },
  {
   "cell_type": "code",
   "execution_count": 6,
   "metadata": {},
   "outputs": [],
   "source": [
    "# get average of R2 values for each kinematic\n",
    "R2_mean = np.average(R2,axis=1)\n",
    "R2_std = np.std(R2,axis=1)\n",
    "\n",
    "# Export the data into a csv file for further analysis\n",
    "csv_rowlist = [['R^2 values','FFNN', 'M1 data'], ['Target','1','2','3','4','5','6','7','8','Average', 'Std. dev.'], ['position',R2[0,0],R2[0,1],R2[0,2],R2[0,3],R2[0,4],R2[0,5],R2[0,6],R2[0,7],R2_mean[0],R2_std[0]], ['velocity',R2[1,0],R2[1,1],R2[1,2],R2[1,3],R2[1,4],R2[1,5],R2[1,6],R2[1,7],R2_mean[1],R2_std[1]]]\n",
    "\n",
    "export_path = 'FFNN_raw_RS_tar.csv'\n",
    "with open(export_path, 'w', newline='') as file:\n",
    "    writer = csv.writer(file)\n",
    "    writer.writerows(csv_rowlist)"
   ]
  },
  {
   "cell_type": "code",
   "execution_count": 5,
   "metadata": {},
   "outputs": [
    {
     "name": "stdout",
     "output_type": "stream",
     "text": [
      "[[0.43341557 0.64538072 0.39930473 0.36501368 0.43936692 0.40409658\n",
      "  0.21447114 0.26935815]\n",
      " [0.60063708 0.60218886 0.6724991  0.65619043 0.62517047 0.51871286\n",
      "  0.42981472 0.71790789]]\n"
     ]
    }
   ],
   "source": [
    "print(R2)"
   ]
  },
  {
   "cell_type": "code",
   "execution_count": 4,
   "metadata": {},
   "outputs": [
    {
     "name": "stdout",
     "output_type": "stream",
     "text": [
      "[[0.39541246 0.57211093 0.44744162 0.40301741 0.45732746 0.34244499\n",
      "  0.25853581 0.30140291]\n",
      " [0.6631718  0.61491967 0.69576859 0.63361147 0.60794084 0.48664303\n",
      "  0.46108061 0.67930704]]\n"
     ]
    }
   ],
   "source": [
    "print(R2)"
   ]
  },
  {
   "cell_type": "code",
   "execution_count": 5,
   "metadata": {},
   "outputs": [
    {
     "name": "stdout",
     "output_type": "stream",
     "text": [
      "[0.3972117  0.60530538]\n"
     ]
    }
   ],
   "source": [
    "# get average of R2 values for each kinematic\n",
    "R2_mean = np.average(R2,axis=1)\n",
    "R2_std = np.std(R2,axis=1)\n",
    "\n",
    "print(R2_mean)"
   ]
  },
  {
   "cell_type": "code",
   "execution_count": 7,
   "metadata": {},
   "outputs": [
    {
     "name": "stdout",
     "output_type": "stream",
     "text": [
      "[0.33068193 0.59409823]\n"
     ]
    }
   ],
   "source": [
    "# get average of R2 values for each kinematic\n",
    "R2_mean = np.average(R2,axis=1)\n",
    "R2_std = np.std(R2,axis=1)\n",
    "\n",
    "print(R2_mean)"
   ]
  },
  {
   "cell_type": "code",
   "execution_count": 8,
   "metadata": {},
   "outputs": [
    {
     "name": "stdout",
     "output_type": "stream",
     "text": [
      "[[0.49602172 0.24531966 0.38603518 0.342392   0.27077261 0.16653406\n",
      "  0.39431409 0.34406615]\n",
      " [0.57433033 0.5956202  0.69367422 0.58871552 0.61074419 0.52385841\n",
      "  0.45372963 0.71211335]]\n"
     ]
    }
   ],
   "source": [
    "print(R2)"
   ]
  },
  {
   "cell_type": "code",
   "execution_count": null,
   "metadata": {},
   "outputs": [],
   "source": []
  }
 ],
 "metadata": {
  "kernelspec": {
   "display_name": "Python 3",
   "language": "python",
   "name": "python3"
  },
  "language_info": {
   "codemirror_mode": {
    "name": "ipython",
    "version": 3
   },
   "file_extension": ".py",
   "mimetype": "text/x-python",
   "name": "python",
   "nbconvert_exporter": "python",
   "pygments_lexer": "ipython3",
   "version": "3.7.0"
  }
 },
 "nbformat": 4,
 "nbformat_minor": 4
}
