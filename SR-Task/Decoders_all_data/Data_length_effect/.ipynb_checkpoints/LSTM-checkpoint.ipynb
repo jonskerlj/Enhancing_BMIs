{
 "cells": [
  {
   "cell_type": "code",
   "execution_count": 3,
   "metadata": {},
   "outputs": [],
   "source": [
    "#Import standard packages\n",
    "import numpy as np\n",
    "import matplotlib.pyplot as plt\n",
    "%matplotlib inline\n",
    "from scipy import io\n",
    "from scipy import stats\n",
    "from sklearn.metrics import r2_score\n",
    "import pickle\n",
    "from tqdm import tqdm\n",
    "import csv\n",
    "# keras - for LSTM\n",
    "import gc\n",
    "from keras import backend as K\n",
    "\n",
    "\n",
    "#Import function to get the covariate matrix that includes spike history from previous bins\n",
    "from Neural_Decoding.preprocessing_funcs import get_spikes_with_history\n",
    "\n",
    "#Import metrics\n",
    "from Neural_Decoding.metrics import get_R2\n",
    "from Neural_Decoding.metrics import get_rho\n",
    "\n",
    "#Import hyperparameter optimization packages\n",
    "try:\n",
    "    from hyperopt import fmin, hp, Trials, tpe, STATUS_OK\n",
    "except ImportError:\n",
    "    print(\"\\nWARNING: hyperopt package is not installed\")\n",
    "    pass\n",
    "\n",
    "#Import decoder functions\n",
    "from Neural_Decoding.decoders import LSTMDecoder"
   ]
  },
  {
   "cell_type": "code",
   "execution_count": 2,
   "metadata": {},
   "outputs": [],
   "source": [
    "#Get Data in the correct format\n",
    "#enter the folder where the data is\n",
    "folder='../../preprocessed_data/'\n",
    "\n",
    "with open(folder+'all_data_SR.pickle','rb') as f:\n",
    "    #If using python 3\n",
    "    M1, PMd, M1_PMd,pos_binned,vels_binned=pickle.load(f,encoding='latin1') "
   ]
  },
  {
   "cell_type": "code",
   "execution_count": 9,
   "metadata": {},
   "outputs": [
    {
     "name": "stderr",
     "output_type": "stream",
     "text": [
      " 10%|████████▎                                                                          | 1/10 [00:19<02:51, 19.08s/it]"
     ]
    },
    {
     "name": "stdout",
     "output_type": "stream",
     "text": [
      "[[0.5749833 ]\n",
      " [0.79458516]]\n"
     ]
    },
    {
     "name": "stderr",
     "output_type": "stream",
     "text": [
      "\r",
      " 20%|████████████████▌                                                                  | 2/10 [00:37<02:27, 18.49s/it]"
     ]
    },
    {
     "name": "stdout",
     "output_type": "stream",
     "text": [
      "[[0.57636465]\n",
      " [0.80000756]]\n"
     ]
    },
    {
     "name": "stderr",
     "output_type": "stream",
     "text": [
      "\r",
      " 30%|████████████████████████▉                                                          | 3/10 [00:54<02:05, 17.89s/it]"
     ]
    },
    {
     "name": "stdout",
     "output_type": "stream",
     "text": [
      "[[0.61249013]\n",
      " [0.79611655]]\n"
     ]
    },
    {
     "name": "stderr",
     "output_type": "stream",
     "text": [
      "\r",
      " 40%|█████████████████████████████████▏                                                 | 4/10 [01:10<01:42, 17.05s/it]"
     ]
    },
    {
     "name": "stdout",
     "output_type": "stream",
     "text": [
      "[[0.61750718]\n",
      " [0.78997592]]\n"
     ]
    },
    {
     "name": "stderr",
     "output_type": "stream",
     "text": [
      "\r",
      " 50%|█████████████████████████████████████████▌                                         | 5/10 [01:24<01:19, 16.00s/it]"
     ]
    },
    {
     "name": "stdout",
     "output_type": "stream",
     "text": [
      "[[0.59482529]\n",
      " [0.78584025]]\n"
     ]
    },
    {
     "name": "stderr",
     "output_type": "stream",
     "text": [
      "\r",
      " 60%|█████████████████████████████████████████████████▊                                 | 6/10 [01:36<00:59, 14.84s/it]"
     ]
    },
    {
     "name": "stdout",
     "output_type": "stream",
     "text": [
      "[[0.60015756]\n",
      " [0.77942839]]\n"
     ]
    },
    {
     "name": "stderr",
     "output_type": "stream",
     "text": [
      "\r",
      " 70%|██████████████████████████████████████████████████████████                         | 7/10 [01:48<00:41, 13.72s/it]"
     ]
    },
    {
     "name": "stdout",
     "output_type": "stream",
     "text": [
      "[[0.58042   ]\n",
      " [0.76153995]]\n"
     ]
    },
    {
     "name": "stderr",
     "output_type": "stream",
     "text": [
      "\r",
      " 80%|██████████████████████████████████████████████████████████████████▍                | 8/10 [01:58<00:24, 12.49s/it]"
     ]
    },
    {
     "name": "stdout",
     "output_type": "stream",
     "text": [
      "[[0.56742827]\n",
      " [0.74821273]]\n"
     ]
    },
    {
     "name": "stderr",
     "output_type": "stream",
     "text": [
      "\r",
      " 90%|██████████████████████████████████████████████████████████████████████████▋        | 9/10 [02:06<00:11, 11.17s/it]"
     ]
    },
    {
     "name": "stdout",
     "output_type": "stream",
     "text": [
      "[[0.52411642]\n",
      " [0.71544917]]\n"
     ]
    },
    {
     "name": "stderr",
     "output_type": "stream",
     "text": [
      "100%|██████████████████████████████████████████████████████████████████████████████████| 10/10 [02:14<00:00, 13.45s/it]"
     ]
    },
    {
     "name": "stdout",
     "output_type": "stream",
     "text": [
      "[[0.47162856]\n",
      " [0.61532291]]\n"
     ]
    },
    {
     "name": "stderr",
     "output_type": "stream",
     "text": [
      "\n"
     ]
    }
   ],
   "source": [
    "#neural_data_combined = [M1, PMd, M1_PMd]\n",
    "neural_data_combined = [M1]\n",
    "kinematics = [pos_binned, vels_binned]\n",
    "\n",
    "#percantage of data used\n",
    "percentage = [1, 0.9, 0.8, 0.7, 0.6, 0.5, 0.4, 0.3, 0.2, 0.1]\n",
    "\n",
    "#test = [pos_binned]\n",
    "R2_final = np.zeros((2, 10))\n",
    "\n",
    "for i in tqdm(range(len(percentage))):\n",
    "    part = percentage[i]\n",
    "    R2 = np.zeros((2,1))\n",
    "    for col, neural_data in enumerate(neural_data_combined):\n",
    "        row = 0\n",
    "        for output in kinematics:\n",
    "            # Preprocess data\n",
    "            bins_before=6 #How many bins of neural data prior to the output are used for decoding\n",
    "            bins_current=1 #Whether to use concurrent time bin of neural data\n",
    "            bins_after=0 #How many bins of neural data after the output are used for decoding\n",
    "\n",
    "            # Format for recurrent neural networks (SimpleRNN, GRU, LSTM)\n",
    "            # Function to get the covariate matrix that includes spike history from previous bins\n",
    "            X=get_spikes_with_history(neural_data,bins_before,bins_after,bins_current)\n",
    "\n",
    "            # Format for Wiener Filter, Wiener Cascade, XGBoost, and Dense Neural Network\n",
    "            #Put in \"flat\" format, so each \"neuron / time\" is a single feature\n",
    "            X_flat=X.reshape(X.shape[0],(X.shape[1]*X.shape[2]))\n",
    "\n",
    "            # Output covariates\n",
    "            #Set decoding output\n",
    "            y=output\n",
    "\n",
    "            #Set what part of data should be part of the training/testing/validation sets\n",
    "            training_range = [0, 0.8]\n",
    "            training_range = [x*part for x in training_range]\n",
    "            testing_range = [0.7, 0.85]\n",
    "            testing_range = [x*part for x in testing_range]\n",
    "            valid_range = [0.8*part,1]\n",
    "\n",
    "\n",
    "            num_examples=X.shape[0]\n",
    "\n",
    "            #Note that each range has a buffer of\"bins_before\" bins at the beginning, and \"bins_after\" bins at the end\n",
    "            #This makes it so that the different sets don't include overlapping neural data\n",
    "            training_set=np.arange(int(np.round(training_range[0]*num_examples))+bins_before,int(np.round(training_range[1]*num_examples))-bins_after)\n",
    "            testing_set=np.arange(int(np.round(testing_range[0]*num_examples))+bins_before,int(np.round(testing_range[1]*num_examples))-bins_after)\n",
    "            valid_set=np.arange(int(np.round(valid_range[0]*num_examples))+bins_before,int(np.round(valid_range[1]*num_examples))-bins_after)\n",
    "\n",
    "            #Get training data\n",
    "            X_train=X[training_set,:,:]\n",
    "            X_flat_train=X_flat[training_set,:]\n",
    "            y_train=y[training_set,:]\n",
    "\n",
    "            #Get testing data\n",
    "            X_test=X[testing_set,:,:]\n",
    "            X_flat_test=X_flat[testing_set,:]\n",
    "            y_test=y[testing_set,:]\n",
    "\n",
    "            #Get validation data\n",
    "            X_valid=X[valid_set,:,:]\n",
    "            X_flat_valid=X_flat[valid_set,:]\n",
    "            y_valid=y[valid_set,:]\n",
    "\n",
    "            # Process covariates\n",
    "            #Z-score \"X\" inputs. \n",
    "            X_train_mean=np.nanmean(X_train,axis=0)\n",
    "            X_train_std=np.nanstd(X_train,axis=0)\n",
    "            X_train=(X_train-X_train_mean)/X_train_std\n",
    "            X_test=(X_test-X_train_mean)/X_train_std\n",
    "            X_valid=(X_valid-X_train_mean)/X_train_std\n",
    "\n",
    "            #Z-score \"X_flat\" inputs. \n",
    "            X_flat_train_mean=np.nanmean(X_flat_train,axis=0)\n",
    "            X_flat_train_std=np.nanstd(X_flat_train,axis=0)\n",
    "            X_flat_train=(X_flat_train-X_flat_train_mean)/X_flat_train_std\n",
    "            X_flat_test=(X_flat_test-X_flat_train_mean)/X_flat_train_std\n",
    "            X_flat_valid=(X_flat_valid-X_flat_train_mean)/X_flat_train_std\n",
    "\n",
    "            #Zero-center outputs\n",
    "            y_train_mean=np.mean(y_train,axis=0)\n",
    "            y_train=y_train-y_train_mean\n",
    "            y_test=y_test-y_train_mean\n",
    "            y_valid=y_valid-y_train_mean\n",
    "\n",
    "            #Do optimization\n",
    "\n",
    "            def lstm_evaluate2(params):\n",
    "                #Put parameters in proper format\n",
    "                num_units=int(params['num_units'])\n",
    "                frac_dropout=float(params['frac_dropout'])\n",
    "                n_epochs=int(params['n_epochs'])\n",
    "                model_lstm=LSTMDecoder(units=num_units,dropout=frac_dropout,num_epochs=n_epochs) #Define model\n",
    "                model_lstm.fit(X_train,y_train) #Fit model\n",
    "                y_valid_predicted_lstm=model_lstm.predict(X_valid) #Get validation set predictions\n",
    "                #del model_lstm\n",
    "                # K.clear_session()\n",
    "                #gc.collect()\n",
    "                return -np.mean(get_R2(y_valid,y_valid_predicted_lstm)) #Return -R2 value of validation set\n",
    "\n",
    "            #The range of values I'll look at for the parameter\n",
    "            #\"hp.quniform\" will allow us to look at integer (rather than continuously spaced) values.\n",
    "            #So for \"num_units\", we are looking at values between 50 and 700 by 10 (50,60,70,...700)\n",
    "            #\"hp.uniform\" looks at continuously spaced values\n",
    "            space = {\n",
    "                'frac_dropout': hp.uniform('frac_dropout', 0., 0.5),\n",
    "                'num_units': hp.quniform('num_units', 50,700,10),\n",
    "                'n_epochs': hp.quniform('n_epochs', 2,15,1),\n",
    "            }\n",
    "\n",
    "            #object that holds iteration results\n",
    "            trials = Trials()\n",
    "\n",
    "            #Set the number of evaluations below (20 in this example)\n",
    "            #hyperoptBest = fmin(lstm_evaluate2, space, algo=tpe.suggest, max_evals=1, trials=trials)\n",
    "\n",
    "            #Declare model\n",
    "            #model_lstm=LSTMDecoder(units=int(hyperoptBest['num_units']),dropout=hyperoptBest['frac_dropout'],num_epochs=int(hyperoptBest['n_epochs']))\n",
    "            model_lstm=LSTMDecoder(units=60,dropout=0.17774,num_epochs=4)\n",
    "            #Fit model\n",
    "            model_lstm.fit(X_train,y_train)\n",
    "\n",
    "            #Get predictions\n",
    "            y_valid_predicted_lstm=model_lstm.predict(X_valid)\n",
    "\n",
    "            R2_vw = r2_score(y_valid,y_valid_predicted_lstm, multioutput='variance_weighted')\n",
    "\n",
    "            # Store the R2 value\n",
    "            R2[row,col] = R2_vw\n",
    "            row += 1\n",
    "    print(R2)\n",
    "    R2_final[:,i] = np.squeeze(R2)\n",
    "    #np.average(R2,axis=1)\n",
    "    "
   ]
  },
  {
   "cell_type": "code",
   "execution_count": 8,
   "metadata": {},
   "outputs": [],
   "source": [
    "# Export the data into a csv file for further analysis\n",
    "csv_rowlist = [['','LSTM'], ['R^2 values','Position', 'Velocity'], ['M1', R2[0,0], R2[0,1]], ['PMd',  R2[1,0], R2[1,1]],['M1 & PMd', R2[2,0], R2[2,1]]]\n",
    "\n",
    "#export_path = '../Results/LSTM_raw_SR.csv'\n",
    "#with open(export_path, 'w', newline='') as file:\n",
    "#    writer = csv.writer(file)\n",
    "#    writer.writerows(csv_rowlist)"
   ]
  },
  {
   "cell_type": "code",
   "execution_count": 7,
   "metadata": {},
   "outputs": [
    {
     "name": "stdout",
     "output_type": "stream",
     "text": [
      "[[0.53220922 0.79155185]\n",
      " [0.2606351  0.51156161]\n",
      " [0.61764008 0.81966029]]\n"
     ]
    }
   ],
   "source": [
    "print(R2)"
   ]
  },
  {
   "cell_type": "code",
   "execution_count": 1,
   "metadata": {},
   "outputs": [
    {
     "name": "stdout",
     "output_type": "stream",
     "text": [
      "[[0.5749833, 0.57636465, 0.61249013, 0.61750718, 0.59482529, 0.60015756, 0.58042, 0.56742827, 0.52411642, 0.47162856], [0.79458516, 0.80000756, 0.79611655, 0.78997592, 0.78584025, 0.77942839, 0.76153995, 0.74821273, 0.71544917, 0.61532291]]\n"
     ]
    }
   ],
   "source": [
    "R2_final = [[0.5749833,  0.57636465, 0.61249013, 0.61750718, 0.59482529, 0.60015756,  0.58042,    0.56742827,0.52411642, 0.47162856], [0.79458516, 0.80000756, 0.79611655, 0.78997592, 0.78584025, 0.77942839,  0.76153995, 0.74821273, 0.71544917, 0.61532291]]\n",
    "print(R2_final)"
   ]
  },
  {
   "cell_type": "code",
   "execution_count": 2,
   "metadata": {},
   "outputs": [
    {
     "name": "stdout",
     "output_type": "stream",
     "text": [
      "[100, 90, 80, 70, 60, 50, 40, 30, 20, 10]\n"
     ]
    },
    {
     "ename": "NameError",
     "evalue": "name 'plt' is not defined",
     "output_type": "error",
     "traceback": [
      "\u001b[1;31m---------------------------------------------------------------------------\u001b[0m",
      "\u001b[1;31mNameError\u001b[0m                                 Traceback (most recent call last)",
      "\u001b[1;32m<ipython-input-2-e3a4800209fe>\u001b[0m in \u001b[0;36m<module>\u001b[1;34m\u001b[0m\n\u001b[0;32m      2\u001b[0m \u001b[0mprint\u001b[0m\u001b[1;33m(\u001b[0m\u001b[0mx\u001b[0m\u001b[1;33m)\u001b[0m\u001b[1;33m\u001b[0m\u001b[0m\n\u001b[0;32m      3\u001b[0m \u001b[0mind\u001b[0m \u001b[1;33m=\u001b[0m \u001b[1;33m[\u001b[0m\u001b[1;36m0.408\u001b[0m\u001b[1;33m,\u001b[0m \u001b[1;36m0.408\u001b[0m\u001b[1;33m,\u001b[0m\u001b[1;36m0.408\u001b[0m\u001b[1;33m,\u001b[0m \u001b[1;36m0.408\u001b[0m\u001b[1;33m,\u001b[0m\u001b[1;36m0.408\u001b[0m\u001b[1;33m,\u001b[0m \u001b[1;36m0.408\u001b[0m\u001b[1;33m,\u001b[0m\u001b[1;36m0.408\u001b[0m\u001b[1;33m,\u001b[0m \u001b[1;36m0.408\u001b[0m\u001b[1;33m,\u001b[0m\u001b[1;36m0.408\u001b[0m\u001b[1;33m,\u001b[0m \u001b[1;36m0.408\u001b[0m\u001b[1;33m]\u001b[0m\u001b[1;33m\u001b[0m\u001b[0m\n\u001b[1;32m----> 4\u001b[1;33m \u001b[0mplt\u001b[0m\u001b[1;33m.\u001b[0m\u001b[0mplot\u001b[0m\u001b[1;33m(\u001b[0m\u001b[0mx\u001b[0m\u001b[1;33m,\u001b[0m \u001b[0mR2_final\u001b[0m\u001b[1;33m[\u001b[0m\u001b[1;36m0\u001b[0m\u001b[1;33m]\u001b[0m\u001b[1;33m,\u001b[0m \u001b[1;34m'o'\u001b[0m\u001b[1;33m,\u001b[0m\u001b[0mlabel\u001b[0m\u001b[1;33m=\u001b[0m\u001b[1;34m'all data decoder'\u001b[0m\u001b[1;33m)\u001b[0m\u001b[1;33m\u001b[0m\u001b[0m\n\u001b[0m\u001b[0;32m      5\u001b[0m \u001b[0mplt\u001b[0m\u001b[1;33m.\u001b[0m\u001b[0mplot\u001b[0m\u001b[1;33m(\u001b[0m\u001b[0mx\u001b[0m\u001b[1;33m,\u001b[0m \u001b[0mind\u001b[0m\u001b[1;33m,\u001b[0m \u001b[1;34m'r'\u001b[0m\u001b[1;33m,\u001b[0m\u001b[0mlabel\u001b[0m\u001b[1;33m=\u001b[0m\u001b[1;34m'avg. ind. targets decoder'\u001b[0m\u001b[1;33m)\u001b[0m\u001b[1;33m\u001b[0m\u001b[0m\n\u001b[0;32m      6\u001b[0m \u001b[0mplt\u001b[0m\u001b[1;33m.\u001b[0m\u001b[0mtitle\u001b[0m\u001b[1;33m(\u001b[0m\u001b[1;34m'LSTM: R2 vs % of data used (Position)'\u001b[0m\u001b[1;33m)\u001b[0m\u001b[1;33m\u001b[0m\u001b[0m\n",
      "\u001b[1;31mNameError\u001b[0m: name 'plt' is not defined"
     ]
    }
   ],
   "source": [
    "x = [100, 90, 80, 70, 60, 50 ,40 ,30 ,20 ,10]\n",
    "print(x)\n",
    "ind = [0.408, 0.408,0.408, 0.408,0.408, 0.408,0.408, 0.408,0.408, 0.408]\n",
    "plt.plot(x, R2_final[0], 'o',label='all data decoder')\n",
    "plt.plot(x, ind, 'r',label='avg. ind. targets decoder')\n",
    "plt.title('LSTM: R2 vs % of data used (Position)')\n",
    "plt.ylabel('R2 value')\n",
    "plt.legend()\n",
    "plt.savefig('LSTM_SR_data_length_pos.png')"
   ]
  },
  {
   "cell_type": "code",
   "execution_count": 19,
   "metadata": {},
   "outputs": [
    {
     "name": "stdout",
     "output_type": "stream",
     "text": [
      "[0.68, 0.8]\n"
     ]
    }
   ],
   "source": [
    "valid_range=[0.85,1]\n",
    "valid_range = [x*part for x in valid_range]\n",
    "print(valid_range)"
   ]
  },
  {
   "cell_type": "code",
   "execution_count": 5,
   "metadata": {},
   "outputs": [
    {
     "data": {
      "image/png": "[encoded data removed]",
      "text/plain": [
       "<Figure size 432x288 with 1 Axes>"
      ]
     },
     "metadata": {
      "needs_background": "light"
     },
     "output_type": "display_data"
    }
   ],
   "source": [
    "x = [100, 90, 80, 70, 60, 50 ,40 ,30 ,20 ,10]\n",
    "\n",
    "ind = [0.594, 0.594,0.594, 0.594,0.594, 0.594,0.594, 0.594,0.594, 0.594]\n",
    "plt.plot(x, R2_final[1], 'o',label='all data decoder')\n",
    "plt.plot(x, ind, 'r',label='avg. ind. targets decoder')\n",
    "plt.title('LSTM: R2 vs % of data used (Velocity)')\n",
    "plt.ylabel('R2 value')\n",
    "plt.legend()\n",
    "plt.savefig('LSTM_SR_data_length_vel.png')"
   ]
  },
  {
   "cell_type": "code",
   "execution_count": null,
   "metadata": {},
   "outputs": [],
   "source": []
  }
 ],
 "metadata": {
  "kernelspec": {
   "display_name": "Python 3",
   "language": "python",
   "name": "python3"
  },
  "language_info": {
   "codemirror_mode": {
    "name": "ipython",
    "version": 3
   },
   "file_extension": ".py",
   "mimetype": "text/x-python",
   "name": "python",
   "nbconvert_exporter": "python",
   "pygments_lexer": "ipython3",
   "version": "3.7.0"
  }
 },
 "nbformat": 4,
 "nbformat_minor": 4
}
