{
 "cells": [
  {
   "cell_type": "code",
   "execution_count": 1,
   "metadata": {},
   "outputs": [],
   "source": [
    "#Import standard packages\n",
    "import numpy as np\n",
    "import matplotlib.pyplot as plt\n",
    "%matplotlib inline\n",
    "from scipy import io\n",
    "from scipy import stats\n",
    "from sklearn.metrics import r2_score\n",
    "import pickle\n",
    "from tqdm import tqdm\n",
    "import csv\n",
    "\n",
    "#Import function to get the covariate matrix that includes spike history from previous bins\n",
    "from Neural_Decoding.preprocessing_funcs import get_spikes_with_history\n",
    "\n",
    "#Import metrics\n",
    "from Neural_Decoding.metrics import get_R2\n",
    "from Neural_Decoding.metrics import get_rho\n",
    "\n",
    "#Import hyperparameter optimization packages\n",
    "try:\n",
    "    from hyperopt import fmin, hp, Trials, tpe, STATUS_OK\n",
    "except ImportError:\n",
    "    print(\"\\nWARNING: hyperopt package is not installed. You will be unable to use section 5.\")\n",
    "    pass\n",
    "\n",
    "#Import decoder functions\n",
    "from Neural_Decoding.decoders import DenseNNDecoder"
   ]
  },
  {
   "cell_type": "code",
   "execution_count": 3,
   "metadata": {},
   "outputs": [],
   "source": [
    "#Get Data in the correct format\n",
    "#enter the folder where the data is\n",
    "folder='../../preprocessed_data/'\n",
    "\n",
    "with open(folder+'all_data_SR.pickle','rb') as f:\n",
    "    #If using python 3\n",
    "    M1, PMd, M1_PMd,pos_binned,vels_binned=pickle.load(f,encoding='latin1') "
   ]
  },
  {
   "cell_type": "code",
   "execution_count": 14,
   "metadata": {
    "scrolled": true
   },
   "outputs": [
    {
     "name": "stderr",
     "output_type": "stream",
     "text": [
      "  0%|                                                                                           | 0/10 [00:00<?, ?it/s]\n",
      "  0%|                                                                                            | 0/1 [00:00<?, ?it/s]\u001b[A"
     ]
    },
    {
     "name": "stdout",
     "output_type": "stream",
     "text": [
      "\n",
      "\n",
      "  0%|                                                                            | 0/1 [00:00<?, ?trial/s, best loss=?]\u001b[A\u001b[A\n",
      "\n",
      "100%|█████████████████████████████████████████████████| 1/1 [00:07<00:00,  7.98s/trial, best loss: -0.6437585730678949]\u001b[A\u001b[A\n",
      "\n",
      "\n",
      "  0%|                                                                            | 0/1 [00:00<?, ?trial/s, best loss=?]\u001b[A\u001b[A\n",
      "\n",
      "100%|█████████████████████████████████████████████████| 1/1 [00:24<00:00, 24.83s/trial, best loss: -0.8191143835390206]\u001b[A\u001b[A\n"
     ]
    },
    {
     "name": "stderr",
     "output_type": "stream",
     "text": [
      "\n",
      "100%|████████████████████████████████████████████████████████████████████████████████████| 1/1 [00:48<00:00, 48.54s/it]\u001b[A\n",
      " 10%|████████▎                                                                          | 1/10 [00:48<07:16, 48.55s/it]\n",
      "  0%|                                                                                            | 0/1 [00:00<?, ?it/s]\u001b[A"
     ]
    },
    {
     "name": "stdout",
     "output_type": "stream",
     "text": [
      "[[0.62566004]\n",
      " [0.78155998]]\n",
      "\n",
      "\n",
      "  0%|                                                                            | 0/1 [00:00<?, ?trial/s, best loss=?]\u001b[A\u001b[A\n",
      "\n",
      "100%|█████████████████████████████████████████████████| 1/1 [00:18<00:00, 18.69s/trial, best loss: -0.6233995157621537]\u001b[A\u001b[A\n",
      "\n",
      "\n",
      "  0%|                                                                            | 0/1 [00:00<?, ?trial/s, best loss=?]\u001b[A\u001b[A\n",
      "\n",
      "100%|█████████████████████████████████████████████████| 1/1 [00:08<00:00,  8.76s/trial, best loss: -0.8049506630910563]\u001b[A\u001b[A\n"
     ]
    },
    {
     "name": "stderr",
     "output_type": "stream",
     "text": [
      "\n",
      "100%|████████████████████████████████████████████████████████████████████████████████████| 1/1 [00:41<00:00, 41.26s/it]\u001b[A\n",
      " 20%|████████████████▌                                                                  | 2/10 [01:29<05:54, 44.27s/it]\n",
      "  0%|                                                                                            | 0/1 [00:00<?, ?it/s]\u001b[A"
     ]
    },
    {
     "name": "stdout",
     "output_type": "stream",
     "text": [
      "[[0.59393973]\n",
      " [0.76825137]]\n",
      "\n",
      "\n",
      "  0%|                                                                            | 0/1 [00:00<?, ?trial/s, best loss=?]\u001b[A\u001b[A\n",
      "\n",
      "100%|█████████████████████████████████████████████████| 1/1 [00:12<00:00, 12.14s/trial, best loss: -0.6259970396176006]\u001b[A\u001b[A\n",
      "\n",
      "\n",
      "  0%|                                                                            | 0/1 [00:00<?, ?trial/s, best loss=?]\u001b[A\u001b[A\n",
      "\n",
      "100%|█████████████████████████████████████████████████| 1/1 [00:05<00:00,  5.66s/trial, best loss: -0.8057640949688165]\u001b[A\u001b[A\n"
     ]
    },
    {
     "name": "stderr",
     "output_type": "stream",
     "text": [
      "\n",
      "100%|████████████████████████████████████████████████████████████████████████████████████| 1/1 [00:26<00:00, 26.65s/it]\u001b[A\n",
      " 30%|████████████████████████▉                                                          | 3/10 [01:56<04:13, 36.22s/it]\n",
      "  0%|                                                                                            | 0/1 [00:00<?, ?it/s]\u001b[A"
     ]
    },
    {
     "name": "stdout",
     "output_type": "stream",
     "text": [
      "[[0.60089459]\n",
      " [0.7655123 ]]\n",
      "\n",
      "\n",
      "  0%|                                                                            | 0/1 [00:00<?, ?trial/s, best loss=?]\u001b[A\u001b[A\n",
      "\n",
      "100%|██████████████████████████████████████████████████| 1/1 [00:12<00:00, 12.51s/trial, best loss: -0.654560652894701]\u001b[A\u001b[A\n",
      "\n",
      "\n",
      "  0%|                                                                            | 0/1 [00:00<?, ?trial/s, best loss=?]\u001b[A\u001b[A\n",
      "\n",
      "100%|██████████████████████████████████████████████████| 1/1 [00:21<00:00, 21.81s/trial, best loss: -0.798878644590922]\u001b[A\u001b[A\n"
     ]
    },
    {
     "name": "stderr",
     "output_type": "stream",
     "text": [
      "\n",
      "100%|████████████████████████████████████████████████████████████████████████████████████| 1/1 [00:48<00:00, 48.07s/it]\u001b[A\n",
      " 40%|█████████████████████████████████▏                                                 | 4/10 [02:44<04:05, 40.90s/it]\n",
      "  0%|                                                                                            | 0/1 [00:00<?, ?it/s]\u001b[A"
     ]
    },
    {
     "name": "stdout",
     "output_type": "stream",
     "text": [
      "[[0.63122683]\n",
      " [0.76433825]]\n",
      "\n",
      "\n",
      "  0%|                                                                            | 0/1 [00:00<?, ?trial/s, best loss=?]\u001b[A\u001b[A\n",
      "\n",
      "100%|█████████████████████████████████████████████████| 1/1 [00:14<00:00, 14.43s/trial, best loss: -0.6354911735265578]\u001b[A\u001b[A\n",
      "\n",
      "\n",
      "  0%|                                                                            | 0/1 [00:00<?, ?trial/s, best loss=?]\u001b[A\u001b[A\n",
      "\n",
      "100%|█████████████████████████████████████████████████| 1/1 [00:17<00:00, 17.20s/trial, best loss: -0.7925917092666368]\u001b[A\u001b[A\n"
     ]
    },
    {
     "name": "stderr",
     "output_type": "stream",
     "text": [
      "\n",
      "100%|████████████████████████████████████████████████████████████████████████████████████| 1/1 [00:44<00:00, 44.68s/it]\u001b[A\n",
      " 50%|█████████████████████████████████████████▌                                         | 5/10 [03:29<03:31, 42.27s/it]\n",
      "  0%|                                                                                            | 0/1 [00:00<?, ?it/s]\u001b[A"
     ]
    },
    {
     "name": "stdout",
     "output_type": "stream",
     "text": [
      "[[0.619327 ]\n",
      " [0.7648632]]\n",
      "\n",
      "\n",
      "  0%|                                                                            | 0/1 [00:00<?, ?trial/s, best loss=?]\u001b[A\u001b[A\n",
      "\n",
      "100%|█████████████████████████████████████████████████| 1/1 [00:02<00:00,  2.86s/trial, best loss: -0.6292670359349126]\u001b[A\u001b[A\n",
      "\n",
      "\n",
      "  0%|                                                                            | 0/1 [00:00<?, ?trial/s, best loss=?]\u001b[A\u001b[A\n",
      "\n",
      "100%|█████████████████████████████████████████████████| 1/1 [00:06<00:00,  6.97s/trial, best loss: -0.7835020744497667]\u001b[A\u001b[A\n"
     ]
    },
    {
     "name": "stderr",
     "output_type": "stream",
     "text": [
      "\n",
      "100%|████████████████████████████████████████████████████████████████████████████████████| 1/1 [00:15<00:00, 15.36s/it]\u001b[A\n",
      " 60%|█████████████████████████████████████████████████▊                                 | 6/10 [03:44<02:12, 33.12s/it]\n",
      "  0%|                                                                                            | 0/1 [00:00<?, ?it/s]\u001b[A"
     ]
    },
    {
     "name": "stdout",
     "output_type": "stream",
     "text": [
      "[[0.60270948]\n",
      " [0.77267797]]\n",
      "\n",
      "\n",
      "  0%|                                                                            | 0/1 [00:00<?, ?trial/s, best loss=?]\u001b[A\u001b[A\n",
      "\n",
      "100%|█████████████████████████████████████████████████| 1/1 [00:07<00:00,  7.06s/trial, best loss: -0.5959991180290365]\u001b[A\u001b[A\n",
      "\n",
      "\n",
      "  0%|                                                                            | 0/1 [00:00<?, ?trial/s, best loss=?]\u001b[A\u001b[A\n",
      "\n",
      "100%|███████████████████████████████████████████████████| 1/1 [00:02<00:00,  2.15s/trial, best loss: -0.77795135095748]\u001b[A\u001b[A\n"
     ]
    },
    {
     "name": "stderr",
     "output_type": "stream",
     "text": [
      "\n",
      "100%|████████████████████████████████████████████████████████████████████████████████████| 1/1 [00:16<00:00, 16.18s/it]\u001b[A\n",
      " 70%|██████████████████████████████████████████████████████████                         | 7/10 [04:00<01:22, 27.59s/it]\n",
      "  0%|                                                                                            | 0/1 [00:00<?, ?it/s]\u001b[A"
     ]
    },
    {
     "name": "stdout",
     "output_type": "stream",
     "text": [
      "[[0.60037793]\n",
      " [0.76971266]]\n",
      "\n",
      "\n",
      "  0%|                                                                            | 0/1 [00:00<?, ?trial/s, best loss=?]\u001b[A\u001b[A\n",
      "\n",
      "100%|█████████████████████████████████████████████████| 1/1 [00:04<00:00,  4.89s/trial, best loss: -0.5885519107786946]\u001b[A\u001b[A\n",
      "\n",
      "\n",
      "  0%|                                                                            | 0/1 [00:00<?, ?trial/s, best loss=?]\u001b[A\u001b[A\n",
      "\n",
      "100%|█████████████████████████████████████████████████| 1/1 [00:04<00:00,  4.50s/trial, best loss: -0.7638130873158029]\u001b[A\u001b[A\n"
     ]
    },
    {
     "name": "stderr",
     "output_type": "stream",
     "text": [
      "\n",
      "100%|████████████████████████████████████████████████████████████████████████████████████| 1/1 [00:15<00:00, 15.50s/it]\u001b[A\n",
      " 80%|██████████████████████████████████████████████████████████████████▍                | 8/10 [04:16<00:47, 23.74s/it]\n",
      "  0%|                                                                                            | 0/1 [00:00<?, ?it/s]\u001b[A"
     ]
    },
    {
     "name": "stdout",
     "output_type": "stream",
     "text": [
      "[[0.56465377]\n",
      " [0.75648495]]\n",
      "\n",
      "\n",
      "  0%|                                                                            | 0/1 [00:00<?, ?trial/s, best loss=?]\u001b[A\u001b[A\n",
      "\n",
      "100%|█████████████████████████████████████████████████| 1/1 [00:01<00:00,  1.84s/trial, best loss: -0.5472472911356908]\u001b[A\u001b[A\n",
      "\n",
      "\n",
      "  0%|                                                                            | 0/1 [00:00<?, ?trial/s, best loss=?]\u001b[A\u001b[A\n",
      "\n",
      "100%|█████████████████████████████████████████████████| 1/1 [00:04<00:00,  4.07s/trial, best loss: -0.7498737689089983]\u001b[A\u001b[A\n"
     ]
    },
    {
     "name": "stderr",
     "output_type": "stream",
     "text": [
      "\n",
      "100%|████████████████████████████████████████████████████████████████████████████████████| 1/1 [00:09<00:00,  9.69s/it]\u001b[A\n",
      " 90%|██████████████████████████████████████████████████████████████████████████▋        | 9/10 [04:26<00:19, 19.35s/it]\n",
      "  0%|                                                                                            | 0/1 [00:00<?, ?it/s]\u001b[A"
     ]
    },
    {
     "name": "stdout",
     "output_type": "stream",
     "text": [
      "[[0.52854936]\n",
      " [0.72121261]]\n",
      "\n",
      "\n",
      "  0%|                                                                            | 0/1 [00:00<?, ?trial/s, best loss=?]\u001b[A\u001b[A\n",
      "\n",
      "100%|████████████████████████████████████████████████| 1/1 [00:04<00:00,  4.55s/trial, best loss: -0.44700764210161337]\u001b[A\u001b[A\n",
      "\n",
      "\n",
      "  0%|                                                                            | 0/1 [00:00<?, ?trial/s, best loss=?]\u001b[A\u001b[A\n",
      "\n",
      "100%|█████████████████████████████████████████████████| 1/1 [00:02<00:00,  2.14s/trial, best loss: -0.6787783708693859]\u001b[A\u001b[A\n"
     ]
    },
    {
     "name": "stderr",
     "output_type": "stream",
     "text": [
      "\n",
      "100%|████████████████████████████████████████████████████████████████████████████████████| 1/1 [00:10<00:00, 10.06s/it]\u001b[A\n",
      "100%|██████████████████████████████████████████████████████████████████████████████████| 10/10 [04:36<00:00, 27.61s/it]"
     ]
    },
    {
     "name": "stdout",
     "output_type": "stream",
     "text": [
      "[[0.4530982 ]\n",
      " [0.68520864]]\n"
     ]
    },
    {
     "name": "stderr",
     "output_type": "stream",
     "text": [
      "\n"
     ]
    }
   ],
   "source": [
    "#neural_data_combined = [M1, PMd, M1_PMd]\n",
    "neural_data_combined = [M1]\n",
    "kinematics = [pos_binned, vels_binned]\n",
    "\n",
    "#percantage of data used\n",
    "percentage = [1, 0.9, 0.8, 0.7, 0.6, 0.5, 0.4, 0.3, 0.2, 0.1]\n",
    "\n",
    "#test = [pos_binned]\n",
    "R2_final = np.zeros((2, 10))\n",
    "\n",
    "\n",
    "test = [pos_binned]\n",
    "\n",
    "for i in tqdm(range(len(percentage))):\n",
    "    part = percentage[i]\n",
    "\n",
    "    R2 = np.empty((2,1))\n",
    "\n",
    "    for col in tqdm(range(1)):\n",
    "        neural_data = neural_data_combined[col]\n",
    "        row = 0\n",
    "        for output in kinematics:\n",
    "            # Preprocess data\n",
    "            bins_before=6 #How many bins of neural data prior to the output are used for decoding\n",
    "            bins_current=1 #Whether to use concurrent time bin of neural data\n",
    "            bins_after=0 #How many bins of neural data after the output are used for decoding\n",
    "\n",
    "            # Format for recurrent neural networks (SimpleRNN, GRU, LSTM)\n",
    "            # Function to get the covariate matrix that includes spike history from previous bins\n",
    "            X=get_spikes_with_history(neural_data,bins_before,bins_after,bins_current)\n",
    "\n",
    "            # Format for Wiener Filter, Wiener Cascade, XGBoost, and Dense Neural Network\n",
    "            #Put in \"flat\" format, so each \"neuron / time\" is a single feature\n",
    "            X_flat=X.reshape(X.shape[0],(X.shape[1]*X.shape[2]))\n",
    "\n",
    "            # Output covariates\n",
    "            #Set decoding output\n",
    "            y=output\n",
    "\n",
    "            #Set what part of data should be part of the training/testing/validation sets\n",
    "            training_range = [0, 0.8]\n",
    "            training_range = [x*part for x in training_range]\n",
    "            testing_range = [0.7, 0.85]\n",
    "            testing_range = [x*part for x in testing_range]\n",
    "            valid_range = [0.8*part,1]\n",
    "            \n",
    "\n",
    "            num_examples=X.shape[0]\n",
    "\n",
    "            #Note that each range has a buffer of\"bins_before\" bins at the beginning, and \"bins_after\" bins at the end\n",
    "            #This makes it so that the different sets don't include overlapping neural data\n",
    "            training_set=np.arange(int(np.round(training_range[0]*num_examples))+bins_before,int(np.round(training_range[1]*num_examples))-bins_after)\n",
    "            testing_set=np.arange(int(np.round(testing_range[0]*num_examples))+bins_before,int(np.round(testing_range[1]*num_examples))-bins_after)\n",
    "            valid_set=np.arange(int(np.round(valid_range[0]*num_examples))+bins_before,int(np.round(valid_range[1]*num_examples))-bins_after)\n",
    "\n",
    "            #Get training data\n",
    "            X_train=X[training_set,:,:]\n",
    "            X_flat_train=X_flat[training_set,:]\n",
    "            y_train=y[training_set,:]\n",
    "\n",
    "            #Get testing data\n",
    "            X_test=X[testing_set,:,:]\n",
    "            X_flat_test=X_flat[testing_set,:]\n",
    "            y_test=y[testing_set,:]\n",
    "\n",
    "            #Get validation data\n",
    "            X_valid=X[valid_set,:,:]\n",
    "            X_flat_valid=X_flat[valid_set,:]\n",
    "            y_valid=y[valid_set,:]\n",
    "\n",
    "            # Process covariates\n",
    "            #Z-score \"X\" inputs. \n",
    "            X_train_mean=np.nanmean(X_train,axis=0)\n",
    "            X_train_std=np.nanstd(X_train,axis=0)\n",
    "            X_train=(X_train-X_train_mean)/X_train_std\n",
    "            X_test=(X_test-X_train_mean)/X_train_std\n",
    "            X_valid=(X_valid-X_train_mean)/X_train_std\n",
    "\n",
    "            #Z-score \"X_flat\" inputs. \n",
    "            X_flat_train_mean=np.nanmean(X_flat_train,axis=0)\n",
    "            X_flat_train_std=np.nanstd(X_flat_train,axis=0)\n",
    "            X_flat_train=(X_flat_train-X_flat_train_mean)/X_flat_train_std\n",
    "            X_flat_test=(X_flat_test-X_flat_train_mean)/X_flat_train_std\n",
    "            X_flat_valid=(X_flat_valid-X_flat_train_mean)/X_flat_train_std\n",
    "\n",
    "            #Zero-center outputs\n",
    "            y_train_mean=np.mean(y_train,axis=0)\n",
    "            y_train=y_train-y_train_mean\n",
    "            y_test=y_test-y_train_mean\n",
    "            y_valid=y_valid-y_train_mean\n",
    "\n",
    "\n",
    "            #Do optimization\n",
    "            # Define parameters for hyperoptimisation\n",
    "            def dnn_evaluate2(params):\n",
    "                #Put parameters in proper format\n",
    "                num_units=int(params['num_units'])\n",
    "                frac_dropout=float(params['frac_dropout'])\n",
    "                n_epochs=int(params['n_epochs'])\n",
    "                model_dnn=DenseNNDecoder(units=[num_units,num_units],dropout=frac_dropout,num_epochs=n_epochs) #Define model\n",
    "                model_dnn.fit(X_flat_train,y_train) #Fit model\n",
    "                y_valid_predicted_dnn=model_dnn.predict(X_flat_valid) #Get validation set predictions\n",
    "                return -np.mean(get_R2(y_valid,y_valid_predicted_dnn)) #Return -R2 value of validation set\n",
    "\n",
    "            #The range of values I'll look at for the parameter\n",
    "            #\"hp.quniform\" will allow us to look at integer (rather than continuously spaced) values.\n",
    "            #So for \"num_units\", we are looking at values between 50 and 700 by 10 (50,60,70,...700)\n",
    "            #\"hp.uniform\" looks at continuously spaced values\n",
    "            space = {\n",
    "                'frac_dropout': hp.uniform('frac_dropout', 0., 0.5),\n",
    "                'num_units': hp.quniform('num_units', 50,700,10),\n",
    "                'n_epochs': hp.quniform('n_epochs', 2,15,1),\n",
    "            }\n",
    "\n",
    "            #object that holds iteration results\n",
    "            trials = Trials()\n",
    "\n",
    "            #Set the number of evaluations below (20 in this example)\n",
    "            hyperoptBest = fmin(dnn_evaluate2, space, algo=tpe.suggest, max_evals=1, trials=trials)\n",
    "\n",
    "            #print(\"R2_validation\",-trials.best_trial['result']['loss'])\n",
    "\n",
    "            #print(type(hyperoptBest['num_units']))\n",
    "            #print(type(hyperoptBest['frac_dropout']))\n",
    "            #print(type(hyperoptBest['n_epochs']))\n",
    "            #Declare model\n",
    "            model_dnn=DenseNNDecoder(units=int(hyperoptBest['num_units']),dropout=hyperoptBest['frac_dropout'],num_epochs=int(hyperoptBest['n_epochs']))\n",
    "\n",
    "            #Fit model\n",
    "            model_dnn.fit(X_flat_train,y_train)\n",
    "\n",
    "            #Get predictions\n",
    "            y_valid_predicted_dnn=model_dnn.predict(X_flat_valid)\n",
    "\n",
    "            R2_vw = r2_score(y_valid,y_valid_predicted_dnn, multioutput='variance_weighted')\n",
    "\n",
    "            # Store the R2 value\n",
    "            R2[row,col] = R2_vw\n",
    "            # increase the column counter\n",
    "            row += 1\n",
    "    print(R2)\n",
    "    R2_final[:,i] = np.squeeze(R2)"
   ]
  },
  {
   "cell_type": "code",
   "execution_count": 4,
   "metadata": {},
   "outputs": [],
   "source": [
    "# Export the data into a csv file for further analysis\n",
    "csv_rowlist = [['','FFNN'], ['R^2 values','Position', 'Velocity'], ['M1', R2[0,0], R2[0,1]], ['PMd',  R2[1,0], R2[1,1]],['M1 & PMd', R2[2,0], R2[2,1]]]\n",
    "\n",
    "#export_path = '../Results/FFNN_raw_SR.csv'\n",
    "#with open(export_path, 'w', newline='') as file:\n",
    "#    writer = csv.writer(file)\n",
    "#   writer.writerows(csv_rowlist)"
   ]
  },
  {
   "cell_type": "code",
   "execution_count": 15,
   "metadata": {},
   "outputs": [
    {
     "name": "stdout",
     "output_type": "stream",
     "text": [
      "[[0.62566004 0.59393973 0.60089459 0.63122683 0.619327   0.60270948\n",
      "  0.60037793 0.56465377 0.52854936 0.4530982 ]\n",
      " [0.78155998 0.76825137 0.7655123  0.76433825 0.7648632  0.77267797\n",
      "  0.76971266 0.75648495 0.72121261 0.68520864]]\n"
     ]
    }
   ],
   "source": [
    "print(R2_final)"
   ]
  },
  {
   "cell_type": "code",
   "execution_count": 25,
   "metadata": {},
   "outputs": [
    {
     "name": "stdout",
     "output_type": "stream",
     "text": [
      "[100, 90, 80, 70, 60, 50, 40, 30, 20, 10]\n"
     ]
    },
    {
     "data": {
      "image/png": "[encoded data removed]",
      "text/plain": [
       "<Figure size 432x288 with 1 Axes>"
      ]
     },
     "metadata": {
      "needs_background": "light"
     },
     "output_type": "display_data"
    }
   ],
   "source": [
    "x = [100, 90, 80, 70, 60, 50 ,40 ,30 ,20 ,10]\n",
    "print(x)\n",
    "plt.plot(x, R2_final[0,:], 'o')\n",
    "plt.xlabel('Percentage of data used [%]')\n",
    "plt.title('FFNN: R2 vs % of data used (Position)')\n",
    "plt.ylabel('R2 value')\n",
    "plt.savefig('FFNN_SR_data_length.png')"
   ]
  },
  {
   "cell_type": "code",
   "execution_count": 26,
   "metadata": {},
   "outputs": [
    {
     "name": "stdout",
     "output_type": "stream",
     "text": [
      "[100, 90, 80, 70, 60, 50, 40, 30, 20, 10]\n"
     ]
    },
    {
     "data": {
      "text/plain": [
       "Text(0, 0.5, 'R2 value')"
      ]
     },
     "execution_count": 26,
     "metadata": {},
     "output_type": "execute_result"
    },
    {
     "data": {
      "image/png": "[encoded data removed]",
      "text/plain": [
       "<Figure size 432x288 with 1 Axes>"
      ]
     },
     "metadata": {
      "needs_background": "light"
     },
     "output_type": "display_data"
    }
   ],
   "source": [
    "x = [100, 90, 80, 70, 60, 50 ,40 ,30 ,20 ,10]\n",
    "print(x)\n",
    "plt.plot(x, R2_final[1,:], 'o')\n",
    "plt.xlabel('Percentage of data used [%]')\n",
    "plt.title('FFNN: R2 vs data length')\n",
    "plt.ylabel('R2 value')\n"
   ]
  },
  {
   "cell_type": "code",
   "execution_count": null,
   "metadata": {},
   "outputs": [],
   "source": []
  }
 ],
 "metadata": {
  "kernelspec": {
   "display_name": "Python 3",
   "language": "python",
   "name": "python3"
  },
  "language_info": {
   "codemirror_mode": {
    "name": "ipython",
    "version": 3
   },
   "file_extension": ".py",
   "mimetype": "text/x-python",
   "name": "python",
   "nbconvert_exporter": "python",
   "pygments_lexer": "ipython3",
   "version": "3.7.0"
  }
 },
 "nbformat": 4,
 "nbformat_minor": 4
}
