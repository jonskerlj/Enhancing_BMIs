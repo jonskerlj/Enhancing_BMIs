{
 "cells": [
  {
   "cell_type": "code",
   "execution_count": 2,
   "metadata": {},
   "outputs": [],
   "source": [
    "#Import standard packages\n",
    "import numpy as np\n",
    "import matplotlib.pyplot as plt\n",
    "%matplotlib inline\n",
    "from scipy import io\n",
    "from scipy import stats\n",
    "from sklearn.metrics import r2_score\n",
    "import pickle\n",
    "from tqdm import tqdm\n",
    "import csv\n",
    "\n",
    "#Import function to get the covariate matrix that includes spike history from previous bins\n",
    "from Neural_Decoding.preprocessing_funcs import get_spikes_with_history\n",
    "\n",
    "#Import metrics\n",
    "from Neural_Decoding.metrics import get_R2\n",
    "from Neural_Decoding.metrics import get_rho\n",
    "\n",
    "#Import hyperparameter optimization packages\n",
    "try:\n",
    "    from hyperopt import fmin, hp, Trials, tpe, STATUS_OK\n",
    "except ImportError:\n",
    "    print(\"\\nWARNING: hyperopt package is not installed. You will be unable to use section 5.\")\n",
    "    pass\n",
    "\n",
    "#Import decoder functions\n",
    "from Neural_Decoding.decoders import DenseNNDecoder"
   ]
  },
  {
   "cell_type": "code",
   "execution_count": 3,
   "metadata": {},
   "outputs": [],
   "source": [
    "#Get Data in the correct format\n",
    "#enter the folder where the data is\n",
    "folder='../../preprocessed_data/'\n",
    "\n",
    "with open(folder+'all_data_SR.pickle','rb') as f:\n",
    "    #If using python 3\n",
    "    M1, PMd, M1_PMd,pos_binned,vels_binned=pickle.load(f,encoding='latin1') "
   ]
  },
  {
   "cell_type": "code",
   "execution_count": 8,
   "metadata": {
    "scrolled": true
   },
   "outputs": [
    {
     "name": "stderr",
     "output_type": "stream",
     "text": [
      "  0%|                                                                                           | 0/10 [00:00<?, ?it/s]\n",
      "  0%|                                                                                            | 0/1 [00:00<?, ?it/s]\u001b[A"
     ]
    },
    {
     "name": "stdout",
     "output_type": "stream",
     "text": [
      "\n",
      "\n",
      "  0%|                                                                            | 0/2 [00:00<?, ?trial/s, best loss=?]\u001b[A\u001b[A\n",
      "\n",
      " 50%|████████████████████████▌                        | 1/2 [00:11<00:11, 11.79s/trial, best loss: -0.5950335970558792]\u001b[A\u001b[A\n",
      "\n",
      "100%|█████████████████████████████████████████████████| 2/2 [00:19<00:00,  9.89s/trial, best loss: -0.5950335970558792]\u001b[A\u001b[A\n",
      "\n",
      "\n",
      "  0%|                                                                            | 0/2 [00:00<?, ?trial/s, best loss=?]\u001b[A\u001b[A\n",
      "\n",
      " 50%|████████████████████████▌                        | 1/2 [00:14<00:14, 14.37s/trial, best loss: -0.8010227384496674]\u001b[A\u001b[A\n",
      "\n",
      "100%|█████████████████████████████████████████████████| 2/2 [00:17<00:00,  8.91s/trial, best loss: -0.8010227384496674]\u001b[A\u001b[A\n"
     ]
    },
    {
     "name": "stderr",
     "output_type": "stream",
     "text": [
      "\n",
      "100%|████████████████████████████████████████████████████████████████████████████████████| 1/1 [00:54<00:00, 54.47s/it]\u001b[A\n",
      " 10%|████████▎                                                                          | 1/10 [00:54<08:10, 54.49s/it]\n",
      "  0%|                                                                                            | 0/1 [00:00<?, ?it/s]\u001b[A"
     ]
    },
    {
     "name": "stdout",
     "output_type": "stream",
     "text": [
      "[[0.60078505]\n",
      " [0.78292957]]\n",
      "\n",
      "\n",
      "  0%|                                                                            | 0/2 [00:00<?, ?trial/s, best loss=?]\u001b[A\u001b[A\n",
      "\n",
      " 50%|████████████████████████▌                        | 1/2 [00:15<00:15, 15.37s/trial, best loss: -0.5714246702111025]\u001b[A\u001b[A\n",
      "\n",
      "100%|█████████████████████████████████████████████████| 2/2 [00:23<00:00, 11.88s/trial, best loss: -0.5714246702111025]\u001b[A\u001b[A\n",
      "\n",
      "\n",
      "  0%|                                                                            | 0/2 [00:00<?, ?trial/s, best loss=?]\u001b[A\u001b[A\n",
      "\n",
      " 50%|████████████████████████▌                        | 1/2 [00:21<00:21, 21.88s/trial, best loss: -0.7886629075022336]\u001b[A\u001b[A\n",
      "\n",
      "100%|█████████████████████████████████████████████████| 2/2 [01:13<00:00, 37.00s/trial, best loss: -0.7949056254030726]\u001b[A\u001b[A\n"
     ]
    },
    {
     "name": "stderr",
     "output_type": "stream",
     "text": [
      "\n",
      "100%|███████████████████████████████████████████████████████████████████████████████████| 1/1 [02:11<00:00, 131.56s/it]\u001b[A\n",
      " 20%|████████████████▌                                                                  | 2/10 [03:06<13:18, 99.83s/it]\n",
      "  0%|                                                                                            | 0/1 [00:00<?, ?it/s]\u001b[A"
     ]
    },
    {
     "name": "stdout",
     "output_type": "stream",
     "text": [
      "[[0.5700437]\n",
      " [0.765842 ]]\n",
      "\n",
      "\n",
      "  0%|                                                                            | 0/2 [00:00<?, ?trial/s, best loss=?]\u001b[A\u001b[A\n",
      "\n",
      " 50%|████████████████████████▌                        | 1/2 [00:03<00:03,  3.71s/trial, best loss: -0.5839809737591949]\u001b[A\u001b[A\n",
      "\n",
      "100%|█████████████████████████████████████████████████| 2/2 [00:19<00:00,  9.64s/trial, best loss: -0.6029699546145315]\u001b[A\u001b[A\n",
      "\n",
      "\n",
      "  0%|                                                                            | 0/2 [00:00<?, ?trial/s, best loss=?]\u001b[A\u001b[A\n",
      "\n",
      " 50%|████████████████████████▌                        | 1/2 [00:30<00:30, 30.73s/trial, best loss: -0.7952919139800194]\u001b[A\u001b[A\n",
      "\n",
      "100%|█████████████████████████████████████████████████| 2/2 [00:45<00:00, 22.68s/trial, best loss: -0.7952919139800194]\u001b[A\u001b[A\n"
     ]
    },
    {
     "name": "stderr",
     "output_type": "stream",
     "text": [
      "\n",
      "100%|████████████████████████████████████████████████████████████████████████████████████| 1/1 [01:27<00:00, 87.16s/it]\u001b[A\n",
      " 30%|████████████████████████▉                                                          | 3/10 [04:33<10:58, 94.05s/it]\n",
      "  0%|                                                                                            | 0/1 [00:00<?, ?it/s]\u001b[A"
     ]
    },
    {
     "name": "stdout",
     "output_type": "stream",
     "text": [
      "[[0.54944553]\n",
      " [0.79437068]]\n",
      "\n",
      "\n",
      "  0%|                                                                            | 0/2 [00:00<?, ?trial/s, best loss=?]\u001b[A\u001b[A\n",
      "\n",
      " 50%|████████████████████████▌                        | 1/2 [00:44<00:44, 44.84s/trial, best loss: -0.5611715202280122]\u001b[A\u001b[A\n",
      "\n",
      "100%|█████████████████████████████████████████████████| 2/2 [01:02<00:00, 31.02s/trial, best loss: -0.5795700471668725]\u001b[A\u001b[A\n",
      "\n",
      "\n",
      "  0%|                                                                            | 0/2 [00:00<?, ?trial/s, best loss=?]\u001b[A\u001b[A\n",
      "\n",
      " 50%|████████████████████████▌                        | 1/2 [00:09<00:09,  9.80s/trial, best loss: -0.7908960795515314]\u001b[A\u001b[A\n",
      "\n",
      "100%|█████████████████████████████████████████████████| 2/2 [00:18<00:00,  9.27s/trial, best loss: -0.7908960795515314]\u001b[A\u001b[A\n"
     ]
    },
    {
     "name": "stderr",
     "output_type": "stream",
     "text": [
      "\n",
      "100%|████████████████████████████████████████████████████████████████████████████████████| 1/1 [01:33<00:00, 93.85s/it]\u001b[A\n",
      " 40%|█████████████████████████████████▏                                                 | 4/10 [06:07<09:23, 93.98s/it]\n",
      "  0%|                                                                                            | 0/1 [00:00<?, ?it/s]\u001b[A"
     ]
    },
    {
     "name": "stdout",
     "output_type": "stream",
     "text": [
      "[[0.57163801]\n",
      " [0.80398869]]\n",
      "\n",
      "\n",
      "  0%|                                                                            | 0/2 [00:00<?, ?trial/s, best loss=?]\u001b[A\u001b[A\n",
      "\n",
      " 50%|████████████████████████▌                        | 1/2 [00:08<00:08,  8.51s/trial, best loss: -0.5131027171389854]\u001b[A\u001b[A\n",
      "\n",
      "100%|█████████████████████████████████████████████████| 2/2 [00:25<00:00, 12.88s/trial, best loss: -0.5204051266690501]\u001b[A\u001b[A\n",
      "\n",
      "\n",
      "  0%|                                                                            | 0/2 [00:00<?, ?trial/s, best loss=?]\u001b[A\u001b[A\n",
      "\n",
      " 50%|████████████████████████▌                        | 1/2 [00:13<00:13, 13.65s/trial, best loss: -0.7915009421060888]\u001b[A\u001b[A\n",
      "\n",
      "100%|█████████████████████████████████████████████████| 2/2 [00:20<00:00, 10.16s/trial, best loss: -0.7915009421060888]\u001b[A\u001b[A\n"
     ]
    },
    {
     "name": "stderr",
     "output_type": "stream",
     "text": [
      "\n",
      "100%|████████████████████████████████████████████████████████████████████████████████████| 1/1 [01:03<00:00, 63.70s/it]\u001b[A\n",
      " 50%|█████████████████████████████████████████▌                                         | 5/10 [07:10<06:55, 83.06s/it]\n",
      "  0%|                                                                                            | 0/1 [00:00<?, ?it/s]\u001b[A"
     ]
    },
    {
     "name": "stdout",
     "output_type": "stream",
     "text": [
      "[[0.49493322]\n",
      " [0.78609571]]\n",
      "\n",
      "\n",
      "  0%|                                                                            | 0/2 [00:00<?, ?trial/s, best loss=?]\u001b[A\u001b[A\n",
      "\n",
      " 50%|████████████████████████▌                        | 1/2 [00:09<00:09,  9.59s/trial, best loss: -0.5185432964610641]\u001b[A\u001b[A\n",
      "\n",
      "100%|█████████████████████████████████████████████████| 2/2 [00:20<00:00, 10.15s/trial, best loss: -0.5185432964610641]\u001b[A\u001b[A\n",
      "\n",
      "\n",
      "  0%|                                                                            | 0/2 [00:00<?, ?trial/s, best loss=?]\u001b[A\u001b[A\n",
      "\n",
      " 50%|████████████████████████▌                        | 1/2 [00:12<00:12, 12.83s/trial, best loss: -0.7783116563197464]\u001b[A\u001b[A\n",
      "\n",
      "100%|█████████████████████████████████████████████████| 2/2 [00:23<00:00, 11.51s/trial, best loss: -0.7783116563197464]\u001b[A\u001b[A\n"
     ]
    },
    {
     "name": "stderr",
     "output_type": "stream",
     "text": [
      "\n",
      "100%|████████████████████████████████████████████████████████████████████████████████████| 1/1 [00:55<00:00, 55.36s/it]\u001b[A\n",
      " 60%|█████████████████████████████████████████████████▊                                 | 6/10 [08:06<04:54, 73.65s/it]\n",
      "  0%|                                                                                            | 0/1 [00:00<?, ?it/s]\u001b[A"
     ]
    },
    {
     "name": "stdout",
     "output_type": "stream",
     "text": [
      "[[0.50453518]\n",
      " [0.76316145]]\n",
      "\n",
      "\n",
      "  0%|                                                                            | 0/2 [00:00<?, ?trial/s, best loss=?]\u001b[A\u001b[A\n",
      "\n",
      " 50%|████████████████████████▌                        | 1/2 [00:20<00:20, 20.46s/trial, best loss: -0.5374591352494975]\u001b[A\u001b[A\n",
      "\n",
      "100%|█████████████████████████████████████████████████| 2/2 [00:23<00:00, 11.91s/trial, best loss: -0.5374591352494975]\u001b[A\u001b[A\n",
      "\n",
      "\n",
      "  0%|                                                                            | 0/2 [00:00<?, ?trial/s, best loss=?]\u001b[A\u001b[A\n",
      "\n",
      " 50%|████████████████████████▌                        | 1/2 [00:03<00:03,  3.74s/trial, best loss: -0.7648392469395835]\u001b[A\u001b[A\n",
      "\n",
      "100%|█████████████████████████████████████████████████| 2/2 [00:17<00:00,  8.67s/trial, best loss: -0.7648392469395835]\u001b[A\u001b[A\n"
     ]
    },
    {
     "name": "stderr",
     "output_type": "stream",
     "text": [
      "\n",
      "100%|████████████████████████████████████████████████████████████████████████████████████| 1/1 [00:52<00:00, 52.55s/it]\u001b[A\n",
      " 70%|██████████████████████████████████████████████████████████                         | 7/10 [08:58<03:20, 66.76s/it]\n",
      "  0%|                                                                                            | 0/1 [00:00<?, ?it/s]\u001b[A"
     ]
    },
    {
     "name": "stdout",
     "output_type": "stream",
     "text": [
      "[[0.52712345]\n",
      " [0.76893071]]\n",
      "\n",
      "\n",
      "  0%|                                                                            | 0/2 [00:00<?, ?trial/s, best loss=?]\u001b[A\u001b[A\n",
      "\n",
      " 50%|████████████████████████                        | 1/2 [00:07<00:07,  7.50s/trial, best loss: -0.26876518246961917]\u001b[A\u001b[A\n",
      "\n",
      "100%|████████████████████████████████████████████████| 2/2 [00:10<00:00,  5.01s/trial, best loss: -0.26876518246961917]\u001b[A\u001b[A\n",
      "\n",
      "\n",
      "  0%|                                                                            | 0/2 [00:00<?, ?trial/s, best loss=?]\u001b[A\u001b[A\n",
      "\n",
      " 50%|████████████████████████▌                        | 1/2 [00:04<00:04,  4.94s/trial, best loss: -0.7464125260171299]\u001b[A\u001b[A\n",
      "\n",
      "100%|█████████████████████████████████████████████████| 2/2 [00:19<00:00,  9.85s/trial, best loss: -0.7464125260171299]\u001b[A\u001b[A\n"
     ]
    },
    {
     "name": "stderr",
     "output_type": "stream",
     "text": [
      "\n",
      "100%|████████████████████████████████████████████████████████████████████████████████████| 1/1 [00:37<00:00, 37.05s/it]\u001b[A\n",
      " 80%|██████████████████████████████████████████████████████████████████▍                | 8/10 [09:35<01:54, 57.30s/it]\n",
      "  0%|                                                                                            | 0/1 [00:00<?, ?it/s]\u001b[A"
     ]
    },
    {
     "name": "stdout",
     "output_type": "stream",
     "text": [
      "[[0.24294997]\n",
      " [0.73130214]]\n",
      "\n",
      "\n",
      "  0%|                                                                            | 0/2 [00:00<?, ?trial/s, best loss=?]\u001b[A\u001b[A\n",
      "\n",
      " 50%|████████████████████████                        | 1/2 [00:07<00:07,  7.23s/trial, best loss: -0.14920703449505912]\u001b[A\u001b[A\n",
      "\n",
      "100%|████████████████████████████████████████████████| 2/2 [00:09<00:00,  4.81s/trial, best loss: -0.14920703449505912]\u001b[A\u001b[A\n",
      "\n",
      "\n",
      "  0%|                                                                            | 0/2 [00:00<?, ?trial/s, best loss=?]\u001b[A\u001b[A\n",
      "\n",
      " 50%|████████████████████████▌                        | 1/2 [00:02<00:02,  2.36s/trial, best loss: -0.7309274912505321]\u001b[A\u001b[A\n",
      "\n",
      "100%|█████████████████████████████████████████████████| 2/2 [00:09<00:00,  4.72s/trial, best loss: -0.7309274912505321]\u001b[A\u001b[A\n"
     ]
    },
    {
     "name": "stderr",
     "output_type": "stream",
     "text": [
      "\n",
      "100%|████████████████████████████████████████████████████████████████████████████████████| 1/1 [00:25<00:00, 25.27s/it]\u001b[A\n",
      " 90%|██████████████████████████████████████████████████████████████████████████▋        | 9/10 [10:01<00:47, 47.29s/it]\n",
      "  0%|                                                                                            | 0/1 [00:00<?, ?it/s]\u001b[A"
     ]
    },
    {
     "name": "stdout",
     "output_type": "stream",
     "text": [
      "[[0.19381601]\n",
      " [0.67088435]]\n",
      "\n",
      "\n",
      "  0%|                                                                            | 0/2 [00:00<?, ?trial/s, best loss=?]\u001b[A\u001b[A\n",
      "\n",
      " 50%|████████████████████████                        | 1/2 [00:03<00:03,  3.55s/trial, best loss: -0.13425822763044415]\u001b[A\u001b[A\n",
      "\n",
      "100%|████████████████████████████████████████████████| 2/2 [00:06<00:00,  3.09s/trial, best loss: -0.13425822763044415]\u001b[A\u001b[A\n",
      "\n",
      "\n",
      "  0%|                                                                            | 0/2 [00:00<?, ?trial/s, best loss=?]\u001b[A\u001b[A\n",
      "\n",
      " 50%|████████████████████████▌                        | 1/2 [00:02<00:02,  2.16s/trial, best loss: -0.5584700450591311]\u001b[A\u001b[A\n",
      "\n",
      "100%|█████████████████████████████████████████████████| 2/2 [00:07<00:00,  3.87s/trial, best loss: -0.5807650089283146]\u001b[A\u001b[A\n"
     ]
    },
    {
     "name": "stderr",
     "output_type": "stream",
     "text": [
      "\n",
      "100%|████████████████████████████████████████████████████████████████████████████████████| 1/1 [00:19<00:00, 19.47s/it]\u001b[A\n",
      "100%|██████████████████████████████████████████████████████████████████████████████████| 10/10 [10:20<00:00, 62.06s/it]"
     ]
    },
    {
     "name": "stdout",
     "output_type": "stream",
     "text": [
      "[[0.1017176 ]\n",
      " [0.50317855]]\n"
     ]
    },
    {
     "name": "stderr",
     "output_type": "stream",
     "text": [
      "\n"
     ]
    }
   ],
   "source": [
    "#neural_data_combined = [M1, PMd, M1_PMd]\n",
    "neural_data_combined = [M1]\n",
    "kinematics = [pos_binned, vels_binned]\n",
    "\n",
    "#percantage of data used\n",
    "percentage = [1, 0.9, 0.8, 0.7, 0.6, 0.5, 0.4, 0.3, 0.2, 0.1]\n",
    "\n",
    "#test = [pos_binned]\n",
    "R2_final = np.zeros((2, 10))\n",
    "\n",
    "\n",
    "test = [pos_binned]\n",
    "\n",
    "for i in tqdm(range(len(percentage))):\n",
    "    part = percentage[i]\n",
    "\n",
    "    R2 = np.empty((2,1))\n",
    "\n",
    "    for col in tqdm(range(1)):\n",
    "        neural_data = neural_data_combined[col]\n",
    "        row = 0\n",
    "        for output in kinematics:\n",
    "            # Preprocess data\n",
    "            bins_before=6 #How many bins of neural data prior to the output are used for decoding\n",
    "            bins_current=1 #Whether to use concurrent time bin of neural data\n",
    "            bins_after=0 #How many bins of neural data after the output are used for decoding\n",
    "\n",
    "            # Format for recurrent neural networks (SimpleRNN, GRU, LSTM)\n",
    "            # Function to get the covariate matrix that includes spike history from previous bins\n",
    "            X=get_spikes_with_history(neural_data,bins_before,bins_after,bins_current)\n",
    "\n",
    "            # Format for Wiener Filter, Wiener Cascade, XGBoost, and Dense Neural Network\n",
    "            #Put in \"flat\" format, so each \"neuron / time\" is a single feature\n",
    "            X_flat=X.reshape(X.shape[0],(X.shape[1]*X.shape[2]))\n",
    "\n",
    "            # Output covariates\n",
    "            #Set decoding output\n",
    "            y=output\n",
    "\n",
    "            #Set what part of data should be part of the training/testing/validation sets\n",
    "            training_range = [0, 0.8]\n",
    "            training_range = [x*part for x in training_range]\n",
    "            testing_range = [0.8, 0.9]\n",
    "            testing_range = [x*part for x in testing_range]\n",
    "            valid_range = [0.9,1]\n",
    "            valid_range = [x*part for x in valid_range]\n",
    "\n",
    "            num_examples=X.shape[0]\n",
    "\n",
    "            #Note that each range has a buffer of\"bins_before\" bins at the beginning, and \"bins_after\" bins at the end\n",
    "            #This makes it so that the different sets don't include overlapping neural data\n",
    "            training_set=np.arange(int(np.round(training_range[0]*num_examples))+bins_before,int(np.round(training_range[1]*num_examples))-bins_after)\n",
    "            testing_set=np.arange(int(np.round(testing_range[0]*num_examples))+bins_before,int(np.round(testing_range[1]*num_examples))-bins_after)\n",
    "            valid_set=np.arange(int(np.round(valid_range[0]*num_examples))+bins_before,int(np.round(valid_range[1]*num_examples))-bins_after)\n",
    "\n",
    "            #Get training data\n",
    "            X_train=X[training_set,:,:]\n",
    "            X_flat_train=X_flat[training_set,:]\n",
    "            y_train=y[training_set,:]\n",
    "\n",
    "            #Get testing data\n",
    "            X_test=X[testing_set,:,:]\n",
    "            X_flat_test=X_flat[testing_set,:]\n",
    "            y_test=y[testing_set,:]\n",
    "\n",
    "            #Get validation data\n",
    "            X_valid=X[valid_set,:,:]\n",
    "            X_flat_valid=X_flat[valid_set,:]\n",
    "            y_valid=y[valid_set,:]\n",
    "\n",
    "            # Process covariates\n",
    "            #Z-score \"X\" inputs. \n",
    "            X_train_mean=np.nanmean(X_train,axis=0)\n",
    "            X_train_std=np.nanstd(X_train,axis=0)\n",
    "            X_train=(X_train-X_train_mean)/X_train_std\n",
    "            X_test=(X_test-X_train_mean)/X_train_std\n",
    "            X_valid=(X_valid-X_train_mean)/X_train_std\n",
    "\n",
    "            #Z-score \"X_flat\" inputs. \n",
    "            X_flat_train_mean=np.nanmean(X_flat_train,axis=0)\n",
    "            X_flat_train_std=np.nanstd(X_flat_train,axis=0)\n",
    "            X_flat_train=(X_flat_train-X_flat_train_mean)/X_flat_train_std\n",
    "            X_flat_test=(X_flat_test-X_flat_train_mean)/X_flat_train_std\n",
    "            X_flat_valid=(X_flat_valid-X_flat_train_mean)/X_flat_train_std\n",
    "\n",
    "            #Zero-center outputs\n",
    "            y_train_mean=np.mean(y_train,axis=0)\n",
    "            y_train=y_train-y_train_mean\n",
    "            y_test=y_test-y_train_mean\n",
    "            y_valid=y_valid-y_train_mean\n",
    "\n",
    "\n",
    "            #Do optimization\n",
    "            # Define parameters for hyperoptimisation\n",
    "            def dnn_evaluate2(params):\n",
    "                #Put parameters in proper format\n",
    "                num_units=int(params['num_units'])\n",
    "                frac_dropout=float(params['frac_dropout'])\n",
    "                n_epochs=int(params['n_epochs'])\n",
    "                model_dnn=DenseNNDecoder(units=[num_units,num_units],dropout=frac_dropout,num_epochs=n_epochs) #Define model\n",
    "                model_dnn.fit(X_flat_train,y_train) #Fit model\n",
    "                y_valid_predicted_dnn=model_dnn.predict(X_flat_valid) #Get validation set predictions\n",
    "                return -np.mean(get_R2(y_valid,y_valid_predicted_dnn)) #Return -R2 value of validation set\n",
    "\n",
    "            #The range of values I'll look at for the parameter\n",
    "            #\"hp.quniform\" will allow us to look at integer (rather than continuously spaced) values.\n",
    "            #So for \"num_units\", we are looking at values between 50 and 700 by 10 (50,60,70,...700)\n",
    "            #\"hp.uniform\" looks at continuously spaced values\n",
    "            space = {\n",
    "                'frac_dropout': hp.uniform('frac_dropout', 0., 0.5),\n",
    "                'num_units': hp.quniform('num_units', 50,700,10),\n",
    "                'n_epochs': hp.quniform('n_epochs', 2,15,1),\n",
    "            }\n",
    "\n",
    "            #object that holds iteration results\n",
    "            trials = Trials()\n",
    "\n",
    "            #Set the number of evaluations below (20 in this example)\n",
    "            hyperoptBest = fmin(dnn_evaluate2, space, algo=tpe.suggest, max_evals=2, trials=trials)\n",
    "\n",
    "            #print(\"R2_validation\",-trials.best_trial['result']['loss'])\n",
    "\n",
    "            #print(type(hyperoptBest['num_units']))\n",
    "            #print(type(hyperoptBest['frac_dropout']))\n",
    "            #print(type(hyperoptBest['n_epochs']))\n",
    "            #Declare model\n",
    "            model_dnn=DenseNNDecoder(units=int(hyperoptBest['num_units']),dropout=hyperoptBest['frac_dropout'],num_epochs=int(hyperoptBest['n_epochs']))\n",
    "\n",
    "            #Fit model\n",
    "            model_dnn.fit(X_flat_train,y_train)\n",
    "\n",
    "            #Get predictions\n",
    "            y_valid_predicted_dnn=model_dnn.predict(X_flat_valid)\n",
    "\n",
    "            R2_vw = r2_score(y_valid,y_valid_predicted_dnn, multioutput='variance_weighted')\n",
    "\n",
    "            # Store the R2 value\n",
    "            R2[row,col] = R2_vw\n",
    "            # increase the column counter\n",
    "            row += 1\n",
    "    print(R2)\n",
    "    R2_final[:,i] = np.squeeze(R2)"
   ]
  },
  {
   "cell_type": "code",
   "execution_count": 9,
   "metadata": {},
   "outputs": [
    {
     "name": "stdout",
     "output_type": "stream",
     "text": [
      "[[0.60078505 0.5700437  0.54944553 0.57163801 0.49493322 0.50453518\n",
      "  0.52712345 0.24294997 0.19381601 0.1017176 ]\n",
      " [0.78292957 0.765842   0.79437068 0.80398869 0.78609571 0.76316145\n",
      "  0.76893071 0.73130214 0.67088435 0.50317855]]\n"
     ]
    }
   ],
   "source": [
    "print(R2_final)"
   ]
  },
  {
   "cell_type": "code",
   "execution_count": 4,
   "metadata": {},
   "outputs": [],
   "source": [
    "# Export the data into a csv file for further analysis\n",
    "csv_rowlist = [['','FFNN'], ['R^2 values','Position', 'Velocity'], ['M1', R2[0,0], R2[0,1]], ['PMd',  R2[1,0], R2[1,1]],['M1 & PMd', R2[2,0], R2[2,1]]]\n",
    "\n",
    "#export_path = '../Results/FFNN_raw_SR.csv'\n",
    "#with open(export_path, 'w', newline='') as file:\n",
    "#    writer = csv.writer(file)\n",
    "#   writer.writerows(csv_rowlist)"
   ]
  },
  {
   "cell_type": "code",
   "execution_count": 12,
   "metadata": {},
   "outputs": [
    {
     "name": "stdout",
     "output_type": "stream",
     "text": [
      "[0.62566004, 0.59393973, 0.60089459, 0.63122683, 0.619327, 0.60270948, 0.60037793, 0.56465377, 0.52854936, 0.4530982]\n"
     ]
    }
   ],
   "source": [
    "R2_final = [[0.62566004, 0.59393973, 0.60089459, 0.63122683, 0.619327,   0.60270948,  0.60037793, 0.56465377, 0.52854936, 0.4530982],[0.78155998, 0.76825137, 0.7655123,  0.76433825, 0.7648632,  0.77267797,  0.76971266, 0.75648495, 0.72121261, 0.68520864]]\n",
    "print(R2_final[0])"
   ]
  },
  {
   "cell_type": "code",
   "execution_count": 27,
   "metadata": {},
   "outputs": [
    {
     "name": "stdout",
     "output_type": "stream",
     "text": [
      "[100, 90, 80, 70, 60, 50, 40, 30, 20, 10]\n"
     ]
    },
    {
     "data": {
      "image/png": "[encoded data removed]",
      "text/plain": [
       "<Figure size 432x288 with 1 Axes>"
      ]
     },
     "metadata": {
      "needs_background": "light"
     },
     "output_type": "display_data"
    }
   ],
   "source": [
    "x = [100, 90, 80, 70, 60, 50 ,40 ,30 ,20 ,10]\n",
    "print(x)\n",
    "ind = [0.406, 0.406,0.406, 0.406,0.406, 0.406,0.406, 0.406,0.406, 0.406]\n",
    "plt.plot(x, R2_final[0], 'o',label='all data decoder')\n",
    "plt.plot(x, ind, 'r',label='avg. ind. targets decoder')\n",
    "plt.xlabel('Percentage of data used [%]')\n",
    "plt.title('FFNN: R2 vs % of data used (Position)')\n",
    "plt.ylabel('R2 value')\n",
    "plt.legend()\n",
    "plt.savefig('FFNN_SR_data_length_pos.png')"
   ]
  },
  {
   "cell_type": "code",
   "execution_count": 28,
   "metadata": {},
   "outputs": [
    {
     "data": {
      "text/plain": [
       "<matplotlib.legend.Legend at 0x1b0829d1978>"
      ]
     },
     "execution_count": 28,
     "metadata": {},
     "output_type": "execute_result"
    },
    {
     "data": {
      "image/png": "[encoded data removed]",
      "text/plain": [
       "<Figure size 432x288 with 1 Axes>"
      ]
     },
     "metadata": {
      "needs_background": "light"
     },
     "output_type": "display_data"
    }
   ],
   "source": [
    "x = [100, 90, 80, 70, 60, 50 ,40 ,30 ,20 ,10]\n",
    "\n",
    "ind = [0.603, 0.603,0.603, 0.603,0.603, 0.603,0.603, 0.603,0.603, 0.603]\n",
    "plt.plot(x, R2_final[1], 'o',label='all data decoder')\n",
    "plt.plot(x, ind, 'r',label='avg. ind. targets decoder')\n",
    "plt.xlabel('Percentage of data used [%]')\n",
    "plt.title('FFNN: R2 vs % of data used (Velocity)')\n",
    "plt.ylabel('R2 value')\n",
    "plt.savefig('FFNN_SR_data_length_vel.png')\n",
    "plt.legend()"
   ]
  },
  {
   "cell_type": "code",
   "execution_count": null,
   "metadata": {},
   "outputs": [],
   "source": []
  }
 ],
 "metadata": {
  "kernelspec": {
   "display_name": "Python 3",
   "language": "python",
   "name": "python3"
  },
  "language_info": {
   "codemirror_mode": {
    "name": "ipython",
    "version": 3
   },
   "file_extension": ".py",
   "mimetype": "text/x-python",
   "name": "python",
   "nbconvert_exporter": "python",
   "pygments_lexer": "ipython3",
   "version": "3.7.0"
  }
 },
 "nbformat": 4,
 "nbformat_minor": 4
}
