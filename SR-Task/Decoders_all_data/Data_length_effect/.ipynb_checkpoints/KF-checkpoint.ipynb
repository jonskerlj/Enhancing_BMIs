{
 "cells": [
  {
   "cell_type": "code",
   "execution_count": 6,
   "metadata": {},
   "outputs": [],
   "source": [
    "#Import standard packages\n",
    "import numpy as np\n",
    "import matplotlib.pyplot as plt\n",
    "%matplotlib inline\n",
    "from scipy import io\n",
    "from scipy import stats\n",
    "from sklearn.metrics import r2_score\n",
    "import pickle\n",
    "from tqdm import tqdm\n",
    "import csv\n",
    "\n",
    "#Import function to get the covariate matrix that includes spike history from previous bins\n",
    "from Neural_Decoding.preprocessing_funcs import get_spikes_with_history\n",
    "\n",
    "\n",
    "#Import decoder functions\n",
    "from Neural_Decoding.decoders import KalmanFilterDecoder"
   ]
  },
  {
   "cell_type": "code",
   "execution_count": 7,
   "metadata": {},
   "outputs": [],
   "source": [
    "#Get Data in the correct format\n",
    "#enter the folder where the data is\n",
    "folder='../../preprocessed_data/'\n",
    "\n",
    "with open(folder+'all_data_SR.pickle','rb') as f:\n",
    "    #If using python 3\n",
    "    M1, PMd, M1_PMd,pos_binned,vels_binned=pickle.load(f,encoding='latin1') "
   ]
  },
  {
   "cell_type": "code",
   "execution_count": 19,
   "metadata": {
    "scrolled": true
   },
   "outputs": [
    {
     "name": "stderr",
     "output_type": "stream",
     "text": [
      "100%|██████████████████████████████████████████████████████████████████████████████████| 10/10 [00:09<00:00,  1.08it/s]\n"
     ]
    }
   ],
   "source": [
    "#neural_data_combined = [M1, PMd, M1_PMd]\n",
    "neural_data_combined = [M1]\n",
    "kinematics = [pos_binned, vels_binned]\n",
    "\n",
    "#percantage of data used\n",
    "percentage = [1, 0.9, 0.8, 0.7, 0.6, 0.5, 0.4, 0.3, 0.2, 0.1]\n",
    "\n",
    "#test = [pos_binned]\n",
    "R2_final = np.zeros((2, 10))\n",
    "\n",
    "lag = 0\n",
    "test = [pos_binned]\n",
    "\n",
    "for i in tqdm(range(len(percentage))):\n",
    "    part = percentage[i]\n",
    "\n",
    "\n",
    "\n",
    "    \n",
    "    neural_data = neural_data_combined[0]\n",
    "    row = 0\n",
    "\n",
    "    # Formatting for KF\n",
    "    # Input\n",
    "    #The covariate is simply the matrix of firing rates for all neurons over time\n",
    "    X_kf=neural_data\n",
    "    # Output\n",
    "    #The final output covariates include position, velocity, and acceleration\n",
    "    y_kf=np.concatenate((pos_binned,vels_binned),axis=1)\n",
    "\n",
    "    # Take into account lag (if it applies to the analysis)\n",
    "    num_examples=X_kf.shape[0]\n",
    "\n",
    "    #Re-align data to take lag into account\n",
    "    if lag<0:\n",
    "        y_kf=y_kf[-lag:,:]\n",
    "        X_kf=X_kf[0:num_examples+lag,:]\n",
    "    if lag>0:\n",
    "        y_kf=y_kf[0:num_examples-lag,:]\n",
    "        X_kf=X_kf[lag:num_examples,:]\n",
    "\n",
    "    # Splitting data into training/testing/validation sets\n",
    "    #Set what part of data should be part of the training/testing/validation sets\n",
    "    training_range = [0, 0.7]\n",
    "    training_range = [x*part for x in training_range]\n",
    "    testing_range = [0.7, 0.85]\n",
    "    testing_range = [x*part for x in testing_range]\n",
    "    valid_range = [0.85,1]\n",
    "    valid_range = [x*part for x in valid_range]\n",
    "\n",
    "    # Split data for KF\n",
    "    #Number of examples after taking into account bins removed for lag alignment\n",
    "    num_examples_kf=X_kf.shape[0]\n",
    "\n",
    "    #Note that each range has a buffer of 1 bin at the beginning and end\n",
    "    #This makes it so that the different sets don't include overlapping data\n",
    "    training_set=np.arange(int(np.round(training_range[0]*num_examples_kf))+1,int(np.round(training_range[1]*num_examples_kf))-1)\n",
    "    testing_set=np.arange(int(np.round(testing_range[0]*num_examples_kf))+1,int(np.round(testing_range[1]*num_examples_kf))-1)\n",
    "    valid_set=np.arange(int(np.round(valid_range[0]*num_examples_kf))+1,int(np.round(valid_range[1]*num_examples_kf))-1)\n",
    "\n",
    "    #Get training data\n",
    "    X_kf_train=X_kf[training_set,:]\n",
    "    y_kf_train=y_kf[training_set,:]\n",
    "\n",
    "    #Get testing data\n",
    "    X_kf_test=X_kf[testing_set,:]\n",
    "    y_kf_test=y_kf[testing_set,:]\n",
    "\n",
    "    #Get validation data\n",
    "    X_kf_valid=X_kf[valid_set,:]\n",
    "    y_kf_valid=y_kf[valid_set,:]\n",
    "\n",
    "    #  Preprocessing: Normalization and zero-centering\n",
    "    #Z-score inputs \n",
    "    X_kf_train_mean=np.nanmean(X_kf_train,axis=0)\n",
    "    X_kf_train_std=np.nanstd(X_kf_train,axis=0)\n",
    "    X_kf_train=(X_kf_train-X_kf_train_mean)/X_kf_train_std\n",
    "    X_kf_test=(X_kf_test-X_kf_train_mean)/X_kf_train_std\n",
    "    X_kf_valid=(X_kf_valid-X_kf_train_mean)/X_kf_train_std\n",
    "\n",
    "    #Zero-center outputs\n",
    "    y_kf_train_mean=np.mean(y_kf_train,axis=0)\n",
    "    y_kf_train=y_kf_train-y_kf_train_mean\n",
    "    y_kf_test=y_kf_test-y_kf_train_mean\n",
    "    y_kf_valid=y_kf_valid-y_kf_train_mean\n",
    "\n",
    "    # Run the decoders\n",
    "    # 1. Kalman filter\n",
    "    #Declare model\n",
    "    model_kf=KalmanFilterDecoder(C=1) #There is one optional parameter that is set to the default in this example (see ReadMe)\n",
    "\n",
    "    #Fit model\n",
    "    model_kf.fit(X_kf_train,y_kf_train)\n",
    "\n",
    "    #Get predictions\n",
    "    y_valid_predicted_kf=model_kf.predict(X_kf_valid,y_kf_valid)\n",
    "\n",
    "    R2_pos = r2_score(y_kf_valid[:,0:2],y_valid_predicted_kf[:,0:2], multioutput='variance_weighted')\n",
    "    R2_vel = r2_score(y_kf_valid[:,2:4],y_valid_predicted_kf[:,2:4], multioutput='variance_weighted')\n",
    "\n",
    "    #R2[i,:] = R2_pos, R2_vel\n",
    "\n",
    "    # increase the column counter\n",
    "    row += 1\n",
    "\n",
    "    R2_final[0,i] = R2_pos\n",
    "    R2_final[1,i] = R2_vel"
   ]
  },
  {
   "cell_type": "code",
   "execution_count": 20,
   "metadata": {},
   "outputs": [
    {
     "name": "stdout",
     "output_type": "stream",
     "text": [
      "[[0.6112266  0.60151829 0.59561908 0.57827905 0.58296628 0.59076415\n",
      "  0.56062362 0.51511342 0.58705174 0.26810461]\n",
      " [0.64017173 0.62976355 0.62695435 0.63567135 0.62968234 0.58715673\n",
      "  0.56865127 0.61019115 0.5220634  0.27808821]]\n"
     ]
    }
   ],
   "source": [
    "print(R2_final)"
   ]
  },
  {
   "cell_type": "code",
   "execution_count": null,
   "metadata": {},
   "outputs": [],
   "source": []
  }
 ],
 "metadata": {
  "kernelspec": {
   "display_name": "Python 3",
   "language": "python",
   "name": "python3"
  },
  "language_info": {
   "codemirror_mode": {
    "name": "ipython",
    "version": 3
   },
   "file_extension": ".py",
   "mimetype": "text/x-python",
   "name": "python",
   "nbconvert_exporter": "python",
   "pygments_lexer": "ipython3",
   "version": "3.7.0"
  }
 },
 "nbformat": 4,
 "nbformat_minor": 4
}
