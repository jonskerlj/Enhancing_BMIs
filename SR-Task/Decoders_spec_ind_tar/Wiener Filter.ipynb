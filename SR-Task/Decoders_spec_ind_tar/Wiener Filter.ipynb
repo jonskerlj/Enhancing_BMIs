{
 "cells": [
  {
   "cell_type": "code",
   "execution_count": 1,
   "metadata": {},
   "outputs": [],
   "source": [
    "#Import standard packages\n",
    "import numpy as np\n",
    "import matplotlib.pyplot as plt\n",
    "%matplotlib inline\n",
    "from scipy import io\n",
    "from scipy import stats\n",
    "from sklearn.metrics import r2_score\n",
    "import pickle\n",
    "from tqdm import tqdm\n",
    "import csv\n",
    "\n",
    "#Import function to get the covariate matrix that includes spike history from previous bins\n",
    "from Neural_Decoding.preprocessing_funcs import get_spikes_with_history\n",
    "\n",
    "#Import decoder functions\n",
    "from Neural_Decoding.decoders import WienerFilterDecoder"
   ]
  },
  {
   "cell_type": "code",
   "execution_count": 12,
   "metadata": {},
   "outputs": [],
   "source": [
    "# import the data\n",
    "import os\n",
    "\n",
    "path = '../preprocessed_data/special_ind_tar/'\n",
    "\n",
    "R2 = np.empty((2,8))\n",
    "\n",
    "for (col,filename) in enumerate(sorted(os.listdir(path))):\n",
    "    if filename.endswith('.pickle'):\n",
    "        \n",
    "        with open(os.path.join(path, filename),'rb') as f:\n",
    "            M1, PMd, M1_PMd,pos_binned,vels_binned=pickle.load(f,encoding='latin1') #If using python 3\n",
    "            # group neural data and kinematics\n",
    "            neural_data_combined = [M1]\n",
    "            kinematics = [pos_binned, vels_binned]\n",
    "            for (i, neural_data) in enumerate(neural_data_combined):\n",
    "                for (j, output) in enumerate(kinematics):\n",
    "                    # Preprocess data\n",
    "                    bins_before=6 #How many bins of neural data prior to the output are used for decoding\n",
    "                    bins_current=1 #Whether to use concurrent time bin of neural data\n",
    "                    bins_after=0 #How many bins of neural data after the output are used for decoding\n",
    "\n",
    "                    # Format for recurrent neural networks (SimpleRNN, GRU, LSTM)\n",
    "                    # Function to get the covariate matrix that includes spike history from previous bins\n",
    "                    X=get_spikes_with_history(neural_data,bins_before,bins_after,bins_current)\n",
    "\n",
    "                    # Format for Wiener Filter, Wiener Cascade, XGBoost, and Dense Neural Network\n",
    "                    #Put in \"flat\" format, so each \"neuron / time\" is a single feature\n",
    "                    X_flat=X.reshape(X.shape[0],(X.shape[1]*X.shape[2]))\n",
    "                \n",
    "                    # Output covariates\n",
    "                    #Set decoding output\n",
    "                    y=output\n",
    "\n",
    "                    # Split into training / testing / validation sets\n",
    "                    #Set what part of data should be part of the training/testing/validation sets\n",
    "                    training_range=[0, 0.7]\n",
    "                    testing_range=[0.7, 0.85]\n",
    "                    valid_range=[0.85,1]\n",
    "\n",
    "                    # Split data:\n",
    "                    num_examples=X.shape[0]\n",
    "\n",
    "                    #Note that each range has a buffer of\"bins_before\" bins at the beginning, and \"bins_after\" bins at the end\n",
    "                    #This makes it so that the different sets don't include overlapping neural data\n",
    "                    training_set=np.arange(int(np.round(training_range[0]*num_examples))+bins_before,int(np.round(training_range[1]*num_examples))-bins_after)\n",
    "                    testing_set=np.arange(int(np.round(testing_range[0]*num_examples))+bins_before,int(np.round(testing_range[1]*num_examples))-bins_after)\n",
    "                    valid_set=np.arange(int(np.round(valid_range[0]*num_examples))+bins_before,int(np.round(valid_range[1]*num_examples))-bins_after)\n",
    "\n",
    "                    #Get training data\n",
    "                    X_train=X[training_set,:,:]\n",
    "                    X_flat_train=X_flat[training_set,:]\n",
    "                    y_train=y[training_set,:]\n",
    "\n",
    "                    #Get testing data\n",
    "                    X_test=X[testing_set,:,:]\n",
    "                    X_flat_test=X_flat[testing_set,:]\n",
    "                    y_test=y[testing_set,:]\n",
    "\n",
    "                    #Get validation data\n",
    "                    X_valid=X[valid_set,:,:]\n",
    "                    X_flat_valid=X_flat[valid_set,:]\n",
    "                    y_valid=y[valid_set,:]\n",
    "\n",
    "                    # Process covariates\n",
    "                    #Z-score \"X\" inputs. \n",
    "                    #X_train_mean=np.nanmean(X_train,axis=0)\n",
    "                   # X_train_std=np.nanstd(X_train,axis=0)\n",
    "                    #X_train=(X_train-X_train_mean)/X_train_std\n",
    "                    #X_test=(X_test-X_train_mean)/X_train_std\n",
    "                    #X_valid=(X_valid-X_train_mean)/X_train_std\n",
    "\n",
    "                    #Z-score \"X_flat\" inputs. \n",
    "                    #X_flat_train_mean=np.nanmean(X_flat_train,axis=0)\n",
    "                   # X_flat_train_std=np.nanstd(X_flat_train,axis=0)\n",
    "                    #X_flat_train=(X_flat_train-X_flat_train_mean)/X_flat_train_std\n",
    "                    #X_flat_test=(X_flat_test-X_flat_train_mean)/X_flat_train_std\n",
    "                    #X_flat_valid=(X_flat_valid-X_flat_train_mean)/X_flat_train_std\n",
    "\n",
    "                    #Zero-center outputs\n",
    "                   # y_train_mean=np.nanmean(y_train,axis=0)\n",
    "                    #y_train=y_train-y_train_mean\n",
    "                    #y_test=y_test-y_train_mean\n",
    "                    #y_valid=y_valid-y_train_mean\n",
    "\n",
    "                    # Run decoder\n",
    "                    #Declare model\n",
    "                    model_wf=WienerFilterDecoder()\n",
    "\n",
    "                    #Fit model\n",
    "                    model_wf.fit(X_flat_train,y_train)\n",
    "                    \n",
    "                    #Get predictions\n",
    "                    y_valid_predicted_wf=model_wf.predict(X_flat_valid)\n",
    "\n",
    "                    R2_vw = r2_score(y_valid,y_valid_predicted_wf, multioutput='variance_weighted')\n",
    "                    R2[2*i+j,col] = R2_vw\n",
    "            \n",
    "            "
   ]
  },
  {
   "cell_type": "code",
   "execution_count": 15,
   "metadata": {},
   "outputs": [],
   "source": [
    "# get average of R2 values for each kinematic\n",
    "R2_mean = np.average(R2,axis=1)\n",
    "R2_std = np.std(R2,axis=1)\n",
    "\n",
    "# Export the data into a csv file for further analysis\n",
    "#csv_rowlist = [['R^2 values','Wiener Filter', 'M1 data'], ['Target','1','2','3','4','5','6','7','8','Average', 'Std. dev.'], ['position',R2[0,0],R2[0,1],R2[0,2],R2[0,3],R2[0,4],R2[0,5],R2[0,6],R2[0,7],R2_mean[0],R2_std[0]], ['velocity',R2[1,0],R2[1,1],R2[1,2],R2[1,3],R2[1,4],R2[1,5],R2[1,6],R2[1,7],R2_mean[1],R2_std[1]]]\n",
    "\n",
    "#export_path = '../Results/Ind_tar/WF_raw_RS_tar.csv'\n",
    "#with open(export_path, 'w', newline='') as file:\n",
    "   # writer = csv.writer(file)\n",
    "    #writer.writerows(csv_rowlist)"
   ]
  },
  {
   "cell_type": "code",
   "execution_count": 16,
   "metadata": {},
   "outputs": [
    {
     "name": "stdout",
     "output_type": "stream",
     "text": [
      "[[-1.19888398e+01 -8.08406659e+00 -5.03340337e+00 -5.03340337e+00\n",
      "  -6.39472525e+00 -7.71511547e+00 -1.73590985e+00 -2.89699209e+00]\n",
      " [-6.11144018e-01 -4.02965816e+00  9.65528488e-03  9.65528488e-03\n",
      "   5.54721709e-01  1.77582198e-01 -2.69472783e+00  2.19975904e-01]]\n",
      "[-6.11030697 -0.79549245]\n"
     ]
    }
   ],
   "source": [
    "print(R2)\n",
    "print(R2_mean)"
   ]
  },
  {
   "cell_type": "code",
   "execution_count": 14,
   "metadata": {},
   "outputs": [
    {
     "data": {
      "text/plain": [
       "[<matplotlib.lines.Line2D at 0x2aa2c20a2b0>]"
      ]
     },
     "execution_count": 14,
     "metadata": {},
     "output_type": "execute_result"
    },
    {
     "data": {
      "image/png": "[encoded data removed]",
      "text/plain": [
       "<Figure size 432x288 with 1 Axes>"
      ]
     },
     "metadata": {
      "needs_background": "light"
     },
     "output_type": "display_data"
    }
   ],
   "source": [
    "plt.plot(y_valid[1:10,0], y_valid[1:10,1])\n",
    "plt.plot(y_valid_predicted_wf[1:10,0],y_valid_predicted_wf[1:10,1])"
   ]
  },
  {
   "cell_type": "code",
   "execution_count": null,
   "metadata": {},
   "outputs": [],
   "source": []
  }
 ],
 "metadata": {
  "kernelspec": {
   "display_name": "Python 3",
   "language": "python",
   "name": "python3"
  },
  "language_info": {
   "codemirror_mode": {
    "name": "ipython",
    "version": 3
   },
   "file_extension": ".py",
   "mimetype": "text/x-python",
   "name": "python",
   "nbconvert_exporter": "python",
   "pygments_lexer": "ipython3",
   "version": "3.7.0"
  }
 },
 "nbformat": 4,
 "nbformat_minor": 4
}
