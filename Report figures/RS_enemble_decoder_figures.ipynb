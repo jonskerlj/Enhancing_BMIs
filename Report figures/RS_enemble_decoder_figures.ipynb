{
 "cells": [
  {
   "cell_type": "code",
   "execution_count": 25,
   "metadata": {},
   "outputs": [],
   "source": [
    "## Import all necessery libraries\n",
    "import matplotlib.pyplot as plt\n",
    "import seaborn as sns\n",
    "import numpy as np\n",
    "import pandas as pd"
   ]
  },
  {
   "cell_type": "code",
   "execution_count": 26,
   "metadata": {},
   "outputs": [],
   "source": [
    "# Position results\n",
    "KF_M1 = {\n",
    "        \"Decoder\": pd.Series([\"KF\", \"KF\", \"KF\", \"KF\", \"KF\"]),\n",
    "        \"$R^2$\": pd.Series([0.374, 0.381, 0.403, 0.354, 0.364]),\n",
    "        \"Data\": pd.Series([\"Position\", \"Position\", \"Position\", \"Position\", \"Position\"])\n",
    "   }\n",
    "KF_M1_df = pd.DataFrame(KF_M1)\n",
    "KF_M1_PMd = {\n",
    "        \"Decoder\": pd.Series([\"KF\", \"KF\", \"KF\", \"KF\", \"KF\"]),\n",
    "        \"$R^2$\": pd.Series([0.376, 0.391, 0.416, 0.458, 0.447]),\n",
    "        \"Data\": pd.Series([\"Velocity\", \"Velocity\", \"Velocity\", \"Velocity\", \"Velocity\"])\n",
    "   }\n",
    "KF_M1_PMd_df = pd.DataFrame(KF_M1_PMd)\n"
   ]
  },
  {
   "cell_type": "code",
   "execution_count": 27,
   "metadata": {},
   "outputs": [],
   "source": [
    "WF_M1 = {\n",
    "        \"Decoder\": pd.Series([\"WF\", \"WF\", \"WF\", \"WF\", \"WF\"]),\n",
    "        \"$R^2$\": pd.Series([0.228, 0.318, 0.315, 0.281, 0.328]),\n",
    "        \"Data\": pd.Series([\"Position\", \"Position\", \"Position\", \"Position\", \"Position\"])\n",
    "   }\n",
    "\n",
    "WF_M1_df = pd.DataFrame(WF_M1)\n",
    "WF_M1_PMd = {\n",
    "        \"Decoder\": pd.Series([\"WF\", \"WF\", \"WF\", \"WF\", \"WF\"]),\n",
    "        \"$R^2$\": pd.Series([0.385, 0.475, 0.544, 0.544, 0.402]),\n",
    "        \"Data\": pd.Series([\"Velocity\", \"Velocity\", \"Velocity\", \"Velocity\", \"Velocity\"])\n",
    "   }\n",
    "WF_M1_PMd_df = pd.DataFrame(WF_M1_PMd)\n"
   ]
  },
  {
   "cell_type": "code",
   "execution_count": 28,
   "metadata": {},
   "outputs": [],
   "source": [
    "FF_M1 = {\n",
    "        \"Decoder\": pd.Series([\"FFNN\", \"FFNN\", \"FFNN\", \"FFNN\", \"FFNN\"]),\n",
    "        \"$R^2$\": pd.Series([0.396, 0.394, 0.441, 0.471, 0.452]),\n",
    "        \"Data\": pd.Series([\"Position\", \"Position\", \"Position\", \"Position\", \"Position\"])\n",
    "   }\n",
    "FF_M1_df = pd.DataFrame(FF_M1)\n",
    "FF_M1_PMd = {\n",
    "        \"Decoder\": pd.Series([\"FFNN\", \"FFNN\", \"FFNN\", \"FFNN\", \"FFNN\"]),\n",
    "        \"$R^2$\": pd.Series([0.594, 0.603, 0.645, 0.641, 0.647]),\n",
    "        \"Data\": pd.Series([\"Velocity\", \"Velocity\", \"Velocity\", \"Velocity\", \"Velocity\"])\n",
    "   }\n",
    "FF_M1_PMd_df = pd.DataFrame(FF_M1_PMd)"
   ]
  },
  {
   "cell_type": "code",
   "execution_count": 29,
   "metadata": {},
   "outputs": [],
   "source": [
    "LS_M1 = {\n",
    "        \"Decoder\": pd.Series([\"LSTM\", \"LSTM\", \"LSTM\", \"LSTM\",\"LSTM\"]),\n",
    "        \"$R^2$\": pd.Series([0.408, 0.430, 0.451, 0.500, 0.467]),\n",
    "        \"Data\": pd.Series([\"Position\", \"Position\", \"Position\", \"Position\", \"Position\"])\n",
    "   }\n",
    "LS_M1_df = pd.DataFrame(LS_M1)\n",
    "LS_M1_PMd = {\n",
    "        \"Decoder\": pd.Series([\"LSTM\", \"LSTM\", \"LSTM\", \"LSTM\",\"LSTM\"]),\n",
    "        \"$R^2$\": pd.Series([0.594, 0.591, 0.615, 0.646, 0.605]),\n",
    "        \"Data\": pd.Series([\"Velocity\", \"Velocity\", \"Velocity\", \"Velocity\", \"Velocity\"])\n",
    "   }\n",
    "LS_M1_PMd_df = pd.DataFrame(LS_M1_PMd)"
   ]
  },
  {
   "cell_type": "code",
   "execution_count": 42,
   "metadata": {},
   "outputs": [
    {
     "name": "stderr",
     "output_type": "stream",
     "text": [
      "The PostScript backend does not support transparency; partially transparent artists will be rendered opaque.\n",
      "The PostScript backend does not support transparency; partially transparent artists will be rendered opaque.\n"
     ]
    },
    {
     "data": {
      "image/png": "[encoded data removed]",
      "text/plain": [
       "<Figure size 432x288 with 1 Axes>"
      ]
     },
     "metadata": {},
     "output_type": "display_data"
    }
   ],
   "source": [
    "my_pal = {\"Position\": \"r\", \"Velocity\": \"c\"}\n",
    "pos_res = KF_M1_df.append([KF_M1_PMd_df, WF_M1_df, WF_M1_PMd_df,FF_M1_df, FF_M1_PMd_df, LS_M1_df, LS_M1_PMd_df], ignore_index = True)\n",
    "sns.set_palette(\"muted\")\n",
    "sns.set_style(\"whitegrid\")\n",
    "ax = sns.boxplot(x=\"Decoder\", y=\"$R^2$\", hue=\"Data\", data = pos_res, showfliers = False, linewidth=1, palette = my_pal)\n",
    "[ax.axvline(x+.5,color=(0.7, 0.7, 0.7), linewidth=1) for x in ax.get_xticks()]\n",
    "plt.legend(loc=\"best\")\n",
    "#plt.ylim([0.5, 0.85])\n",
    "plt.savefig('figures/R2_SR_ensemble.png')\n",
    "plt.savefig('figures/R2_SR_ensemble.eps', format='eps')\n",
    "plt.show()"
   ]
  },
  {
   "cell_type": "code",
   "execution_count": null,
   "metadata": {},
   "outputs": [],
   "source": []
  }
 ],
 "metadata": {
  "kernelspec": {
   "display_name": "Python 3",
   "language": "python",
   "name": "python3"
  },
  "language_info": {
   "codemirror_mode": {
    "name": "ipython",
    "version": 3
   },
   "file_extension": ".py",
   "mimetype": "text/x-python",
   "name": "python",
   "nbconvert_exporter": "python",
   "pygments_lexer": "ipython3",
   "version": "3.7.0"
  }
 },
 "nbformat": 4,
 "nbformat_minor": 4
}
