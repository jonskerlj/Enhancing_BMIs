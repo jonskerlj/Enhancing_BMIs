{
 "cells": [
  {
   "cell_type": "code",
   "execution_count": 1,
   "metadata": {},
   "outputs": [],
   "source": [
    "## Import all necessery libraries\n",
    "import matplotlib.pyplot as plt\n",
    "import seaborn as sns\n",
    "import numpy as np\n",
    "import pandas as pd"
   ]
  },
  {
   "cell_type": "code",
   "execution_count": 47,
   "metadata": {},
   "outputs": [],
   "source": [
    "# Position results\n",
    "KF_M1 = {\n",
    "        \"Decoder\": pd.Series([\"KF\", \"KF\", \"KF\", \"KF\", \"KF\"]),\n",
    "        \"$R^2$\": pd.Series([0.666, 0.7310, 0.759, 0.746, 0.696]),\n",
    "        \"Data\": pd.Series([\"M1\", \"M1\", \"M1\", \"M1\", \"M1\"])\n",
    "   }\n",
    "KF_M1_df = pd.DataFrame(KF_M1)\n",
    "KF_M1_PMd = {\n",
    "        \"Decoder\": pd.Series([\"KF\", \"KF\", \"KF\", \"KF\", \"KF\"]),\n",
    "        \"$R^2$\": pd.Series([0.820, 0.795, 0.811, 0.826, 0.791]),\n",
    "        \"Data\": pd.Series([\"M1 with PMd\", \"M1 with PMd\", \"M1 with PMd\", \"M1 with PMd\",\"M1 with PMd\"])\n",
    "   }\n",
    "KF_M1_PMd_df = pd.DataFrame(KF_M1_PMd)\n",
    "\n",
    "KF_ensemble = {\n",
    "        \"Decoder\": pd.Series([\"KF\", \"KF\", \"KF\", \"KF\", \"KF\"]),\n",
    "        \"$R^2$\": pd.Series([0.776, 0.792, 0.785, 0.796, 0.773]),\n",
    "        \"Data\": pd.Series([\"Ensemble\", \"Ensemble\", \"Ensemble\", \"Ensemble\", \"Ensemble\"])\n",
    "   }\n",
    "KF_ensemble_df = pd.DataFrame(KF_ensemble)\n"
   ]
  },
  {
   "cell_type": "code",
   "execution_count": 48,
   "metadata": {},
   "outputs": [],
   "source": [
    "WF_M1 = {\n",
    "        \"Decoder\": pd.Series([\"WF\", \"WF\", \"WF\", \"WF\", \"WF\"]),\n",
    "        \"$R^2$\": pd.Series([0.790, 0.804, 0.786, 0.813, 0.823]),\n",
    "        \"Data\": pd.Series([\"M1\", \"M1\", \"M1\", \"M1\", \"M1\"])\n",
    "   }\n",
    "\n",
    "WF_M1_df = pd.DataFrame(WF_M1)\n",
    "WF_M1_PMd = {\n",
    "        \"Decoder\": pd.Series([\"WF\", \"WF\", \"WF\", \"WF\", \"WF\"]),\n",
    "        \"$R^2$\": pd.Series([0.869, 0.868, 0.847, 0.860, 0.875]),\n",
    "        \"Data\": pd.Series([\"M1 with PMd\", \"M1 with PMd\", \"M1 with PMd\", \"M1 with PMd\",\"M1 with PMd\"])\n",
    "   }\n",
    "WF_M1_PMd_df = pd.DataFrame(WF_M1_PMd)\n",
    "\n",
    "WF_ensemble = {\n",
    "        \"Decoder\": pd.Series([\"WF\", \"WF\", \"WF\", \"WF\", \"WF\"]),\n",
    "        \"$R^2$\": pd.Series([0.825, 0.830, 0.818, 0.835, 0.815]),\n",
    "        \"Data\": pd.Series([\"Ensemble\", \"Ensemble\", \"Ensemble\", \"Ensemble\", \"Ensemble\"])\n",
    "   }\n",
    "WF_ensemble_df = pd.DataFrame(WF_ensemble)\n"
   ]
  },
  {
   "cell_type": "code",
   "execution_count": 49,
   "metadata": {},
   "outputs": [],
   "source": [
    "FF_M1 = {\n",
    "        \"Decoder\": pd.Series([\"FFNN\", \"FFNN\", \"FFNN\", \"FFNN\", \"FFNN\"]),\n",
    "        \"$R^2$\": pd.Series([0.898, 0.897, 0.873, 0.890, 0.899]),\n",
    "        \"Data\": pd.Series([\"M1\", \"M1\", \"M1\", \"M1\", \"M1\"])\n",
    "   }\n",
    "FF_M1_df = pd.DataFrame(FF_M1)\n",
    "FF_M1_PMd = {\n",
    "        \"Decoder\": pd.Series([\"FFNN\", \"FFNN\", \"FFNN\", \"FFNN\", \"FFNN\"]),\n",
    "        \"$R^2$\": pd.Series([0.939, 0.931, 0.904, 0.918, 0.933]),\n",
    "        \"Data\": pd.Series([\"M1 with PMd\", \"M1 with PMd\", \"M1 with PMd\", \"M1 with PMd\",\"M1 with PMd\"])\n",
    "   }\n",
    "FF_M1_PMd_df = pd.DataFrame(FF_M1_PMd)\n",
    "\n",
    "FF_ensemble = {\n",
    "        \"Decoder\": pd.Series([\"FFNN\", \"FFNN\", \"FFNN\", \"FFNN\", \"FFNN\"]),\n",
    "        \"$R^2$\": pd.Series([0.883, 0.892, 0.878, 0.887, 0.872]),\n",
    "        \"Data\": pd.Series([\"Ensemble\", \"Ensemble\", \"Ensemble\", \"Ensemble\", \"Ensemble\"])\n",
    "   }\n",
    "FF_ensemble_df = pd.DataFrame(FF_ensemble)"
   ]
  },
  {
   "cell_type": "code",
   "execution_count": 50,
   "metadata": {},
   "outputs": [],
   "source": [
    "LS_M1 = {\n",
    "        \"Decoder\": pd.Series([\"LSTM\", \"LSTM\", \"LSTM\", \"LSTM\",\"LSTM\"]),\n",
    "        \"$R^2$\": pd.Series([0.955, 0.947, 0.941, 0.952, 0.943]),\n",
    "        \"Data\": pd.Series([\"M1\", \"M1\", \"M1\", \"M1\", \"M1\"])\n",
    "   }\n",
    "LS_M1_df = pd.DataFrame(LS_M1)\n",
    "LS_M1_PMd = {\n",
    "        \"Decoder\": pd.Series([\"LSTM\", \"LSTM\", \"LSTM\", \"LSTM\",\"LSTM\"]),\n",
    "        \"$R^2$\": pd.Series([0.976, 0.973, 0.969, 0.975, 0.970]),\n",
    "        \"Data\": pd.Series([\"M1 with PMd\", \"M1 with PMd\", \"M1 with PMd\", \"M1 with PMd\",\"M1 with PMd\"])\n",
    "   }\n",
    "LS_M1_PMd_df = pd.DataFrame(LS_M1_PMd)\n",
    "\n",
    "LS_ensemble = {\n",
    "        \"Decoder\": pd.Series([\"LSTM\", \"LSTM\", \"LSTM\", \"LSTM\",\"LSTM\"]),\n",
    "        \"$R^2$\": pd.Series([0.878, 0.864, 0.884, 0.873, 0.881]),\n",
    "        \"Data\": pd.Series([\"Ensemble\", \"Ensemble\", \"Ensemble\", \"Ensemble\", \"Ensemble\"])\n",
    "   }\n",
    "LS_ensemble_df = pd.DataFrame(LS_ensemble)"
   ]
  },
  {
   "cell_type": "code",
   "execution_count": 51,
   "metadata": {},
   "outputs": [
    {
     "name": "stderr",
     "output_type": "stream",
     "text": [
      "The PostScript backend does not support transparency; partially transparent artists will be rendered opaque.\n",
      "The PostScript backend does not support transparency; partially transparent artists will be rendered opaque.\n"
     ]
    },
    {
     "data": {
      "image/png": "[encoded data removed]",
      "text/plain": [
       "<Figure size 432x288 with 1 Axes>"
      ]
     },
     "metadata": {},
     "output_type": "display_data"
    }
   ],
   "source": [
    "pos_res = KF_M1_df.append([KF_M1_PMd_df, KF_ensemble_df, WF_M1_df, WF_M1_PMd_df, WF_ensemble_df,FF_M1_df, FF_M1_PMd_df,FF_ensemble_df, LS_M1_df, LS_M1_PMd_df, LS_ensemble_df], ignore_index = True)\n",
    "sns.set_palette(\"colorblind\")\n",
    "sns.set_style(\"whitegrid\")\n",
    "ax = sns.boxplot(x=\"Decoder\", y=\"$R^2$\", hue=\"Data\", data = pos_res, showfliers = False, linewidth=1)\n",
    "[ax.axvline(x+.5,color=(0.7, 0.7, 0.7), linewidth=1) for x in ax.get_xticks()]\n",
    "plt.legend(loc=\"best\")\n",
    "plt.savefig('figures/R2_CO_pos.png')\n",
    "plt.savefig('figures/R2_CO_pos.eps', format='eps')\n",
    "plt.show()\n"
   ]
  },
  {
   "cell_type": "code",
   "execution_count": 52,
   "metadata": {},
   "outputs": [],
   "source": [
    "# Velocity results\n",
    "KF_M1 = {\n",
    "        \"Decoder\": pd.Series([\"KF\", \"KF\", \"KF\", \"KF\", \"KF\"]),\n",
    "        \"$R^2$\": pd.Series([0.731, 0.672, 0.666, 0.7460, 0.712]),\n",
    "        \"Data\": pd.Series([\"M1\", \"M1\", \"M1\", \"M1\", \"M1\"])\n",
    "   }\n",
    "KF_M1_df = pd.DataFrame(KF_M1)\n",
    "KF_M1_PMd = {\n",
    "        \"Decoder\": pd.Series([\"KF\", \"KF\", \"KF\", \"KF\", \"KF\"]),\n",
    "        \"$R^2$\": pd.Series([0.799, 0.783, 0.775, 0.815, 0.806]),\n",
    "        \"Data\": pd.Series([\"M1 with PMd\", \"M1 with PMd\", \"M1 with PMd\", \"M1 with PMd\",\"M1 with PMd\"])\n",
    "   }\n",
    "KF_M1_PMd_df = pd.DataFrame(KF_M1_PMd)\n",
    "\n",
    "\n",
    "KF_ensemble = {\n",
    "        \"Decoder\": pd.Series([\"KF\", \"KF\", \"KF\", \"KF\", \"KF\"]),\n",
    "        \"$R^2$\": pd.Series([0.762, 0.780, 0.772, 0.767, 0.750]),\n",
    "        \"Data\": pd.Series([\"Ensemble\", \"Ensemble\", \"Ensemble\", \"Ensemble\", \"Ensemble\"])\n",
    "   }\n",
    "KF_ensemble_df = pd.DataFrame(KF_ensemble)"
   ]
  },
  {
   "cell_type": "code",
   "execution_count": 53,
   "metadata": {},
   "outputs": [],
   "source": [
    "WF_M1 = {\n",
    "        \"Decoder\": pd.Series([\"WF\", \"WF\", \"WF\", \"WF\", \"WF\"]),\n",
    "        \"$R^2$\": pd.Series([0.821, 0.837, 0.834, 0.830, 0.845]),\n",
    "        \"Data\": pd.Series([\"M1\", \"M1\", \"M1\", \"M1\", \"M1\"])\n",
    "   }\n",
    "WF_M1_df = pd.DataFrame(WF_M1)\n",
    "WF_M1_PMd = {\n",
    "        \"Decoder\": pd.Series([\"WF\", \"WF\", \"WF\", \"WF\", \"WF\"]),\n",
    "        \"$R^2$\": pd.Series([0.884, 0.890, 0.886, 0.880, 0.905]),\n",
    "        \"Data\": pd.Series([\"M1 with PMd\", \"M1 with PMd\", \"M1 with PMd\", \"M1 with PMd\",\"M1 with PMd\"])\n",
    "   }\n",
    "WF_M1_PMd_df = pd.DataFrame(WF_M1_PMd)\n",
    "\n",
    "WF_ensemble = {\n",
    "        \"Decoder\": pd.Series([\"WF\", \"WF\", \"WF\", \"WF\", \"WF\"]),\n",
    "        \"$R^2$\": pd.Series([0.820, 0.837, 0.852, 0.845, 0.830]),\n",
    "        \"Data\": pd.Series([\"Ensemble\", \"Ensemble\", \"Ensemble\", \"Ensemble\", \"Ensemble\"])\n",
    "   }\n",
    "WF_ensemble_df = pd.DataFrame(WF_ensemble)"
   ]
  },
  {
   "cell_type": "code",
   "execution_count": 54,
   "metadata": {},
   "outputs": [],
   "source": [
    "FF_M1 = {\n",
    "        \"Decoder\": pd.Series([\"FFNN\", \"FFNN\", \"FFNN\", \"FFNN\", \"FFNN\"]),\n",
    "        \"$R^2$\": pd.Series([0.914, 0.908, 0.920, 0.915, 0.930]),\n",
    "        \"Data\": pd.Series([\"M1\", \"M1\", \"M1\", \"M1\", \"M1\"])\n",
    "   }\n",
    "FF_M1_df = pd.DataFrame(FF_M1)\n",
    "FF_M1_PMd = {\n",
    "        \"Decoder\": pd.Series([\"FFNN\", \"FFNN\", \"FFNN\", \"FFNN\", \"FFNN\"]),\n",
    "        \"$R^2$\": pd.Series([0.935, 0.940, 0.932, 0.925, 0.946]),\n",
    "        \"Data\": pd.Series([\"M1 with PMd\", \"M1 with PMd\", \"M1 with PMd\", \"M1 with PMd\",\"M1 with PMd\"])\n",
    "   }\n",
    "FF_M1_PMd_df = pd.DataFrame(FF_M1_PMd)\n",
    "\n",
    "FF_ensemble = {\n",
    "        \"Decoder\": pd.Series([\"FFNN\", \"FFNN\", \"FFNN\", \"FFNN\", \"FFNN\"]),\n",
    "        \"$R^2$\": pd.Series([0.889, 0.895, 0.892, 0.886, 0.898]),\n",
    "        \"Data\": pd.Series([\"Ensemble\", \"Ensemble\", \"Ensemble\", \"Ensemble\", \"Ensemble\"])\n",
    "   }\n",
    "FF_ensemble_df = pd.DataFrame(FF_ensemble)"
   ]
  },
  {
   "cell_type": "code",
   "execution_count": 55,
   "metadata": {},
   "outputs": [],
   "source": [
    "LS_M1 = {\n",
    "        \"Decoder\": pd.Series([\"LSTM\", \"LSTM\", \"LSTM\", \"LSTM\",\"LSTM\"]),\n",
    "        \"$R^2$\": pd.Series([0.939, 0.950, 0.945, 0.935, 0.952]),\n",
    "        \"Data\": pd.Series([\"M1\", \"M1\", \"M1\", \"M1\", \"M1\"])\n",
    "   }\n",
    "LS_M1_df = pd.DataFrame(LS_M1)\n",
    "LS_M1_PMd = {\n",
    "        \"Decoder\": pd.Series([\"LSTM\", \"LSTM\", \"LSTM\", \"LSTM\",\"LSTM\"]),\n",
    "        \"$R^2$\": pd.Series([0.954, 0.957, 0.953, 0.949, 0.960]),\n",
    "        \"Data\": pd.Series([\"M1 with PMd\", \"M1 with PMd\", \"M1 with PMd\", \"M1 with PMd\",\"M1 with PMd\"])\n",
    "   }\n",
    "LS_M1_PMd_df = pd.DataFrame(LS_M1_PMd)\n",
    "\n",
    "LS_ensemble = {\n",
    "        \"Decoder\": pd.Series([\"LSTM\", \"LSTM\", \"LSTM\", \"LSTM\",\"LSTM\"]),\n",
    "        \"$R^2$\": pd.Series([0.875, 0.888, 0.902, 0.883, 0.892]),\n",
    "        \"Data\": pd.Series([\"Ensemble\", \"Ensemble\", \"Ensemble\", \"Ensemble\", \"Ensemble\"])\n",
    "   }\n",
    "LS_ensemble_df = pd.DataFrame(LS_ensemble)"
   ]
  },
  {
   "cell_type": "code",
   "execution_count": 56,
   "metadata": {},
   "outputs": [
    {
     "name": "stderr",
     "output_type": "stream",
     "text": [
      "The PostScript backend does not support transparency; partially transparent artists will be rendered opaque.\n",
      "The PostScript backend does not support transparency; partially transparent artists will be rendered opaque.\n"
     ]
    },
    {
     "data": {
      "image/png": "[encoded data removed]",
      "text/plain": [
       "<Figure size 432x288 with 1 Axes>"
      ]
     },
     "metadata": {},
     "output_type": "display_data"
    }
   ],
   "source": [
    "vel_res = KF_M1_df.append([KF_M1_PMd_df,KF_ensemble_df, WF_M1_df, WF_M1_PMd_df,WF_ensemble_df, FF_M1_df, FF_M1_PMd_df, FF_ensemble_df,LS_M1_df, LS_M1_PMd_df, LS_ensemble_df], ignore_index = True)\n",
    "sns.set_style(\"whitegrid\")\n",
    "ax = sns.boxplot(x=\"Decoder\", y=\"$R^2$\", hue=\"Data\", data = vel_res, showfliers = False, linewidth=1)\n",
    "[ax.axvline(x+.5,color=(0.7, 0.7, 0.7), linewidth=1) for x in ax.get_xticks()]\n",
    "plt.savefig('figures/R2_CO_vel.png')\n",
    "plt.savefig('figures/R2_CO_vel.eps', format='eps')\n",
    "plt.show()\n"
   ]
  },
  {
   "cell_type": "code",
   "execution_count": null,
   "metadata": {},
   "outputs": [],
   "source": []
  }
 ],
 "metadata": {
  "kernelspec": {
   "display_name": "Python 3",
   "language": "python",
   "name": "python3"
  },
  "language_info": {
   "codemirror_mode": {
    "name": "ipython",
    "version": 3
   },
   "file_extension": ".py",
   "mimetype": "text/x-python",
   "name": "python",
   "nbconvert_exporter": "python",
   "pygments_lexer": "ipython3",
   "version": "3.7.0"
  }
 },
 "nbformat": 4,
 "nbformat_minor": 4
}
