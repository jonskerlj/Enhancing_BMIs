{
 "cells": [
  {
   "cell_type": "code",
   "execution_count": 1,
   "metadata": {},
   "outputs": [],
   "source": [
    "## Import all necessery libraries\n",
    "import matplotlib.pyplot as plt\n",
    "import seaborn as sns\n",
    "import numpy as np\n",
    "import pandas as pd"
   ]
  },
  {
   "cell_type": "code",
   "execution_count": 2,
   "metadata": {},
   "outputs": [],
   "source": [
    "# Position results\n",
    "KF_M1 = {\n",
    "        \"Decoder\": pd.Series([\"KF\", \"KF\", \"KF\", \"KF\", \"KF\"]),\n",
    "        \"Prediction Accuracy ($R^2$)\": pd.Series([0.611, 0.591, 0.632, 0.621, 0.599]),\n",
    "        \"Data\": pd.Series([\"M1\", \"M1\", \"M1\", \"M1\", \"M1\"])\n",
    "   }\n",
    "KF_M1_df = pd.DataFrame(KF_M1)\n",
    "KF_M1_PMd = {\n",
    "        \"Decoder\": pd.Series([\"KF\", \"KF\", \"KF\", \"KF\", \"KF\"]),\n",
    "        \"Prediction Accuracy ($R^2$)\": pd.Series([0.655, 0.643, 0.684, 0.669, 0.639]),\n",
    "        \"Data\": pd.Series([\"M1 with PMd\", \"M1 with PMd\", \"M1 with PMd\", \"M1 with PMd\",\"M1 with PMd\"])\n",
    "   }\n",
    "KF_M1_PMd_df = pd.DataFrame(KF_M1_PMd)\n",
    "\n"
   ]
  },
  {
   "cell_type": "code",
   "execution_count": 3,
   "metadata": {},
   "outputs": [],
   "source": [
    "WF_M1 = {\n",
    "        \"Decoder\": pd.Series([\"WF\", \"WF\", \"WF\", \"WF\", \"WF\"]),\n",
    "        \"Prediction Accuracy ($R^2$)\": pd.Series([0.594, 0.602, 0.607, 0.597, 0.584]),\n",
    "        \"Data\": pd.Series([\"M1\", \"M1\", \"M1\", \"M1\", \"M1\"])\n",
    "   }\n",
    "\n",
    "WF_M1_df = pd.DataFrame(WF_M1)\n",
    "WF_M1_PMd = {\n",
    "        \"Decoder\": pd.Series([\"WF\", \"WF\", \"WF\", \"WF\", \"WF\"]),\n",
    "        \"Prediction Accuracy ($R^2$)\": pd.Series([0.652, 0.668, 0.672, 0.645, 0.621]),\n",
    "        \"Data\": pd.Series([\"M1 with PMd\", \"M1 with PMd\", \"M1 with PMd\", \"M1 with PMd\",\"M1 with PMd\"])\n",
    "   }\n",
    "WF_M1_PMd_df = pd.DataFrame(WF_M1_PMd)\n"
   ]
  },
  {
   "cell_type": "code",
   "execution_count": 4,
   "metadata": {},
   "outputs": [],
   "source": [
    "FF_M1 = {\n",
    "        \"Decoder\": pd.Series([\"FFNN\", \"FFNN\", \"FFNN\", \"FFNN\", \"FFNN\"]),\n",
    "        \"Prediction Accuracy ($R^2$)\": pd.Series([0.610, 0.625, 0.645, 0.602, 0.639]),\n",
    "        \"Data\": pd.Series([\"M1\", \"M1\", \"M1\", \"M1\", \"M1\"])\n",
    "   }\n",
    "FF_M1_df = pd.DataFrame(FF_M1)\n",
    "FF_M1_PMd = {\n",
    "        \"Decoder\": pd.Series([\"FFNN\", \"FFNN\", \"FFNN\", \"FFNN\", \"FFNN\"]),\n",
    "        \"Prediction Accuracy ($R^2$)\": pd.Series([0.640, 0.654, 0.674, 0.631, 0.656]),\n",
    "        \"Data\": pd.Series([\"M1 with PMd\", \"M1 with PMd\", \"M1 with PMd\", \"M1 with PMd\",\"M1 with PMd\"])\n",
    "   }\n",
    "FF_M1_PMd_df = pd.DataFrame(FF_M1_PMd)\n"
   ]
  },
  {
   "cell_type": "code",
   "execution_count": 5,
   "metadata": {},
   "outputs": [],
   "source": [
    "LS_M1 = {\n",
    "        \"Decoder\": pd.Series([\"LSTM\", \"LSTM\", \"LSTM\", \"LSTM\",\"LSTM\"]),\n",
    "        \"Prediction Accuracy ($R^2$)\": pd.Series([0.582, 0.602, 0.610, 0.592, 0.598]),\n",
    "        \"Data\": pd.Series([\"M1\", \"M1\", \"M1\", \"M1\", \"M1\"])\n",
    "   }\n",
    "LS_M1_df = pd.DataFrame(LS_M1)\n",
    "LS_M1_PMd = {\n",
    "        \"Decoder\": pd.Series([\"LSTM\", \"LSTM\", \"LSTM\", \"LSTM\",\"LSTM\"]),\n",
    "        \"Prediction Accuracy ($R^2$)\": pd.Series([0.638, 0.684, 0.674, 0.656, 0.667]),\n",
    "        \"Data\": pd.Series([\"M1 with PMd\", \"M1 with PMd\", \"M1 with PMd\", \"M1 with PMd\",\"M1 with PMd\"])\n",
    "   }\n",
    "LS_M1_PMd_df = pd.DataFrame(LS_M1_PMd)\n"
   ]
  },
  {
   "cell_type": "code",
   "execution_count": 6,
   "metadata": {},
   "outputs": [
    {
     "name": "stderr",
     "output_type": "stream",
     "text": [
      "The PostScript backend does not support transparency; partially transparent artists will be rendered opaque.\n",
      "The PostScript backend does not support transparency; partially transparent artists will be rendered opaque.\n"
     ]
    },
    {
     "data": {
      "image/png": "[encoded data removed]",
      "text/plain": [
       "<Figure size 432x288 with 1 Axes>"
      ]
     },
     "metadata": {},
     "output_type": "display_data"
    }
   ],
   "source": [
    "pos_res = KF_M1_df.append([KF_M1_PMd_df, WF_M1_df, WF_M1_PMd_df,FF_M1_df, FF_M1_PMd_df, LS_M1_df, LS_M1_PMd_df], ignore_index = True)\n",
    "sns.set_palette(\"colorblind\")\n",
    "sns.set_style(\"whitegrid\")\n",
    "ax = sns.boxplot(x=\"Decoder\", y=\"Prediction Accuracy ($R^2$)\", hue=\"Data\", data = pos_res, showfliers = False, linewidth=1)\n",
    "[ax.axvline(x+.5,color=(0.7, 0.7, 0.7), linewidth=1) for x in ax.get_xticks()]\n",
    "plt.legend(loc=\"upper left\")\n",
    "plt.ylim([0.5, 0.85])\n",
    "plt.savefig('figures/R2_SR_pos.png')\n",
    "plt.savefig('figures/R2_SR_pos.eps', format='eps')\n",
    "plt.show()\n"
   ]
  },
  {
   "cell_type": "code",
   "execution_count": 7,
   "metadata": {},
   "outputs": [],
   "source": [
    "# Velocity results\n",
    "KF_M1 = {\n",
    "        \"Decoder\": pd.Series([\"KF\", \"KF\", \"KF\", \"KF\", \"KF\"]),\n",
    "        \"Prediction Accuracy ($R^2$)\": pd.Series([0.568, 0.610, 0.581, 0.640, 0.619]),\n",
    "        \"Data\": pd.Series([\"M1\", \"M1\", \"M1\", \"M1\", \"M1\"])\n",
    "   }\n",
    "KF_M1_df = pd.DataFrame(KF_M1)\n",
    "KF_M1_PMd = {\n",
    "        \"Decoder\": pd.Series([\"KF\", \"KF\", \"KF\", \"KF\", \"KF\"]),\n",
    "        \"Prediction Accuracy ($R^2$)\": pd.Series([0.598, 0.630, 0.607, 0.649, 0.628]),\n",
    "        \"Data\": pd.Series([\"M1 with PMd\", \"M1 with PMd\", \"M1 with PMd\", \"M1 with PMd\",\"M1 with PMd\"])\n",
    "   }\n",
    "KF_M1_PMd_df = pd.DataFrame(KF_M1_PMd)\n",
    "\n"
   ]
  },
  {
   "cell_type": "code",
   "execution_count": 8,
   "metadata": {},
   "outputs": [],
   "source": [
    "WF_M1 = {\n",
    "        \"Decoder\": pd.Series([\"WF\", \"WF\", \"WF\", \"WF\", \"WF\"]),\n",
    "        \"Prediction Accuracy ($R^2$)\": pd.Series([0.705, 0.724, 0.715, 0.728, 0.720]),\n",
    "        \"Data\": pd.Series([\"M1\", \"M1\", \"M1\", \"M1\", \"M1\"])\n",
    "   }\n",
    "WF_M1_df = pd.DataFrame(WF_M1)\n",
    "WF_M1_PMd = {\n",
    "        \"Decoder\": pd.Series([\"WF\", \"WF\", \"WF\", \"WF\", \"WF\"]),\n",
    "        \"Prediction Accuracy ($R^2$)\": pd.Series([0.735, 0.750, 0.736, 0.743, 0.738]),\n",
    "        \"Data\": pd.Series([\"M1 with PMd\", \"M1 with PMd\", \"M1 with PMd\", \"M1 with PMd\",\"M1 with PMd\"])\n",
    "   }\n",
    "WF_M1_PMd_df = pd.DataFrame(WF_M1_PMd)\n"
   ]
  },
  {
   "cell_type": "code",
   "execution_count": 9,
   "metadata": {},
   "outputs": [],
   "source": [
    "FF_M1 = {\n",
    "        \"Decoder\": pd.Series([\"FFNN\", \"FFNN\", \"FFNN\", \"FFNN\", \"FFNN\"]),\n",
    "        \"Prediction Accuracy ($R^2$)\": pd.Series([0.773, 0.797, 0.788, 0.782, 0.766]),\n",
    "        \"Data\": pd.Series([\"M1\", \"M1\", \"M1\", \"M1\", \"M1\"])\n",
    "   }\n",
    "FF_M1_df = pd.DataFrame(FF_M1)\n",
    "FF_M1_PMd = {\n",
    "        \"Decoder\": pd.Series([\"FFNN\", \"FFNN\", \"FFNN\", \"FFNN\", \"FFNN\"]),\n",
    "        \"Prediction Accuracy ($R^2$)\": pd.Series([0.800, 0.825, 0.815, 0.808, 0.786]),\n",
    "        \"Data\": pd.Series([\"M1 with PMd\", \"M1 with PMd\", \"M1 with PMd\", \"M1 with PMd\",\"M1 with PMd\"])\n",
    "   }\n",
    "FF_M1_PMd_df = pd.DataFrame(FF_M1_PMd)\n"
   ]
  },
  {
   "cell_type": "code",
   "execution_count": 10,
   "metadata": {},
   "outputs": [],
   "source": [
    "LS_M1 = {\n",
    "        \"Decoder\": pd.Series([\"LSTM\", \"LSTM\", \"LSTM\", \"LSTM\",\"LSTM\"]),\n",
    "        \"Prediction Accuracy ($R^2$)\": pd.Series([0.792, 0.755, 0.796, 0.762, 0.787]),\n",
    "        \"Data\": pd.Series([\"M1\", \"M1\", \"M1\", \"M1\", \"M1\"])\n",
    "   }\n",
    "LS_M1_df = pd.DataFrame(LS_M1)\n",
    "LS_M1_PMd = {\n",
    "        \"Decoder\": pd.Series([\"LSTM\", \"LSTM\", \"LSTM\", \"LSTM\",\"LSTM\"]),\n",
    "        \"Prediction Accuracy ($R^2$)\": pd.Series([0.820, 0.825, 0.842, 0.831, 0.835]),\n",
    "        \"Data\": pd.Series([\"M1 with PMd\", \"M1 with PMd\", \"M1 with PMd\", \"M1 with PMd\",\"M1 with PMd\"])\n",
    "   }\n",
    "LS_M1_PMd_df = pd.DataFrame(LS_M1_PMd)\n"
   ]
  },
  {
   "cell_type": "code",
   "execution_count": 11,
   "metadata": {},
   "outputs": [
    {
     "name": "stderr",
     "output_type": "stream",
     "text": [
      "The PostScript backend does not support transparency; partially transparent artists will be rendered opaque.\n",
      "The PostScript backend does not support transparency; partially transparent artists will be rendered opaque.\n"
     ]
    },
    {
     "data": {
      "image/png": "[encoded data removed]",
      "text/plain": [
       "<Figure size 432x288 with 1 Axes>"
      ]
     },
     "metadata": {},
     "output_type": "display_data"
    }
   ],
   "source": [
    "vel_res = KF_M1_df.append([KF_M1_PMd_df, WF_M1_df, WF_M1_PMd_df, FF_M1_df, FF_M1_PMd_df,LS_M1_df, LS_M1_PMd_df], ignore_index = True)\n",
    "sns.set_style(\"whitegrid\")\n",
    "ax = sns.boxplot(x=\"Decoder\", y=\"Prediction Accuracy ($R^2$)\", hue=\"Data\", data = vel_res, showfliers = False, linewidth=1)\n",
    "[ax.axvline(x+.5,color=(0.7, 0.7, 0.7), linewidth=1) for x in ax.get_xticks()]\n",
    "plt.legend(loc=\"best\")\n",
    "plt.ylim([0.5, 0.85])\n",
    "plt.savefig('figures/R2_SR_vel.png')\n",
    "plt.savefig('figures/R2_SR_vel.eps', format='eps')\n",
    "plt.show()\n"
   ]
  },
  {
   "cell_type": "code",
   "execution_count": null,
   "metadata": {},
   "outputs": [],
   "source": []
  }
 ],
 "metadata": {
  "kernelspec": {
   "display_name": "Python 3",
   "language": "python",
   "name": "python3"
  },
  "language_info": {
   "codemirror_mode": {
    "name": "ipython",
    "version": 3
   },
   "file_extension": ".py",
   "mimetype": "text/x-python",
   "name": "python",
   "nbconvert_exporter": "python",
   "pygments_lexer": "ipython3",
   "version": "3.7.0"
  }
 },
 "nbformat": 4,
 "nbformat_minor": 4
}
