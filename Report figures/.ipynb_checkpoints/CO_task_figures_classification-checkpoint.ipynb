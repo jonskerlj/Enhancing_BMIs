{
 "cells": [
  {
   "cell_type": "code",
   "execution_count": 2,
   "metadata": {},
   "outputs": [],
   "source": [
    "## Import all necessery libraries\n",
    "import matplotlib.pyplot as plt\n",
    "import seaborn as sns\n",
    "import numpy as np\n",
    "import pandas as pd"
   ]
  },
  {
   "cell_type": "code",
   "execution_count": 37,
   "metadata": {},
   "outputs": [],
   "source": [
    "# Position results\n",
    "KF_cl = {\n",
    "        \"Decoder\": pd.Series([\"KF\", \"KF\", \"KF\", \"KF\", \"KF\"]),\n",
    "        \"Prediction Accuracy ($R^2$)\": pd.Series([0.776, 0.792, 0.785, 0.796, 0.773]),\n",
    "        \"Data\": pd.Series([\"Real classifier\", \"Real classifier\", \"Real classifier\", \"Real classifier\", \"Real classifier\"])\n",
    "   }\n",
    "KF_cl_df = pd.DataFrame(KF_cl)\n",
    "KF_100 = {\n",
    "        \"Decoder\": pd.Series([\"KF\", \"KF\", \"KF\", \"KF\", \"KF\"]),\n",
    "        \"Prediction Accuracy ($R^2$)\": pd.Series([0.873, 0.862, 0.858, 0.868, 0.870]),\n",
    "        \"Data\": pd.Series([\"Perfect classifier\", \"Perfect classifier\", \"Perfect classifier\", \"Perfect classifier\", \"Perfect classifier\"])\n",
    "   }\n",
    "KF_100_df = pd.DataFrame(KF_100)\n",
    "\n"
   ]
  },
  {
   "cell_type": "code",
   "execution_count": 38,
   "metadata": {},
   "outputs": [],
   "source": [
    "WF_cl = {\n",
    "        \"Decoder\": pd.Series([\"WF\", \"WF\", \"WF\", \"WF\", \"WF\"]),\n",
    "        \"Prediction Accuracy ($R^2$)\": pd.Series([0.825, 0.830, 0.818, 0.835, 0.815]),\n",
    "        \"Data\": pd.Series([\"Real classifier\", \"Real classifier\", \"Real classifier\", \"Real classifier\", \"Real classifier\"])\n",
    "   }\n",
    "\n",
    "WF_cl_df = pd.DataFrame(WF_cl)\n",
    "WF_100 = {\n",
    "        \"Decoder\": pd.Series([\"WF\", \"WF\", \"WF\", \"WF\", \"WF\"]),\n",
    "        \"Prediction Accuracy ($R^2$)\": pd.Series([0.905, 0.883, 0.871, 0.889, 0.875]),\n",
    "        \"Data\": pd.Series([\"Perfect classifier\", \"Perfect classifier\", \"Perfect classifier\", \"Perfect classifier\", \"Perfect classifier\"])\n",
    "   }\n",
    "WF_100_df = pd.DataFrame(WF_100)\n"
   ]
  },
  {
   "cell_type": "code",
   "execution_count": 39,
   "metadata": {},
   "outputs": [],
   "source": [
    "FF_cl = {\n",
    "        \"Decoder\": pd.Series([\"FFNN\", \"FFNN\", \"FFNN\", \"FFNN\", \"FFNN\"]),\n",
    "        \"$Prediction Accuracy ($R^2$)$\": pd.Series([0.883, 0.892, 0.878, 0.887, 0.872]),\n",
    "        \"Data\": pd.Series([\"Real classifier\", \"Real classifier\", \"Real classifier\", \"Real classifier\", \"Real classifier\"])\n",
    "   }\n",
    "FF_cl_df = pd.DataFrame(FF_cl)\n",
    "FF_100 = {\n",
    "        \"Decoder\": pd.Series([\"FFNN\", \"FFNN\", \"FFNN\", \"FFNN\", \"FFNN\"]),\n",
    "        \"Prediction Accuracy ($R^2$)\": pd.Series([0.936, 0.921, 0.932, 0.928, 0.913]),\n",
    "        \"Data\": pd.Series([\"Perfect classifier\", \"Perfect classifier\", \"Perfect classifier\", \"Perfect classifier\", \"Perfect classifier\"])\n",
    "   }\n",
    "FF_100_df = pd.DataFrame(FF_100)\n"
   ]
  },
  {
   "cell_type": "code",
   "execution_count": 40,
   "metadata": {},
   "outputs": [],
   "source": [
    "LS_cl = {\n",
    "        \"Decoder\": pd.Series([\"LSTM\", \"LSTM\", \"LSTM\", \"LSTM\",\"LSTM\"]),\n",
    "        \"$Prediction Accuracy ($R^2$)$\": pd.Series([0.878, 0.864, 0.884, 0.873, 0.881]),\n",
    "        \"Data\": pd.Series([\"Real classifier\", \"Real classifier\", \"Real classifier\", \"Real classifier\", \"Real classifier\"])\n",
    "   }\n",
    "LS_cl_df = pd.DataFrame(LS_cl)\n",
    "LS_100 = {\n",
    "        \"Decoder\": pd.Series([\"LSTM\", \"LSTM\", \"LSTM\", \"LSTM\",\"LSTM\"]),\n",
    "        \"Prediction Accuracy ($R^2$)\": pd.Series([0.956, 0.948, 0.943, 0.960, 0.952]),\n",
    "        \"Data\": pd.Series([\"Perfect classifier\", \"Perfect classifier\", \"Perfect classifier\", \"Perfect classifier\", \"Perfect classifier\"])\n",
    "   }\n",
    "LS_100_df = pd.DataFrame(LS_100)"
   ]
  },
  {
   "cell_type": "code",
   "execution_count": 42,
   "metadata": {},
   "outputs": [
    {
     "name": "stderr",
     "output_type": "stream",
     "text": [
      "The PostScript backend does not support transparency; partially transparent artists will be rendered opaque.\n",
      "The PostScript backend does not support transparency; partially transparent artists will be rendered opaque.\n"
     ]
    },
    {
     "data": {
      "image/png": "[encoded data removed]",
      "text/plain": [
       "<Figure size 432x288 with 1 Axes>"
      ]
     },
     "metadata": {},
     "output_type": "display_data"
    }
   ],
   "source": [
    "pos_res = KF_cl_df.append([KF_100_df,WF_cl_df, WF_100_df, FF_cl_df, FF_100_df, LS_cl_df, LS_100_df], ignore_index = True)\n",
    "sns.set_palette(\"colorblind\")\n",
    "sns.set_style(\"whitegrid\")\n",
    "ax = sns.boxplot(x=\"Decoder\", y=\"Prediction Accuracy ($R^2$)\", hue=\"Data\", data = pos_res, showfliers = False, linewidth=1)\n",
    "[ax.axvline(x+.5,color=(0.7, 0.7, 0.7), linewidth=1) for x in ax.get_xticks()]\n",
    "plt.legend(loc=\"upper left\")\n",
    "plt.ylim([0.70, 1])\n",
    "plt.savefig('figures/R2_CO_pos_class.png')\n",
    "plt.savefig('figures/R2_CO_pos_class.eps', format='eps')\n",
    "plt.show()\n"
   ]
  },
  {
   "cell_type": "code",
   "execution_count": 32,
   "metadata": {},
   "outputs": [],
   "source": [
    "# Velocity results\n",
    "# Position results\n",
    "KF_cl = {\n",
    "        \"Decoder\": pd.Series([\"KF\", \"KF\", \"KF\", \"KF\", \"KF\"]),\n",
    "        \"Prediction Accuracy ($R^2$)\": pd.Series([0.762, 0.780, 0.772, 0.767, 0.750]),\n",
    "        \"Data\": pd.Series([\"Real classifier\", \"Real classifier\", \"Real classifier\", \"Real classifier\", \"Real classifier\"])\n",
    "   }\n",
    "KF_cl_df = pd.DataFrame(KF_cl)\n",
    "KF_100 = {\n",
    "        \"Decoder\": pd.Series([\"KF\", \"KF\", \"KF\", \"KF\", \"KF\"]),\n",
    "        \"Prediction Accuracy ($R^2$)\": pd.Series([0.851, 0.845, 0.832, 0.838, 0.840]),\n",
    "        \"Data\": pd.Series([\"Perfect classifier\", \"Perfect classifier\", \"Perfect classifier\", \"Perfect classifier\", \"Perfect classifier\"])\n",
    "   }\n",
    "KF_100_df = pd.DataFrame(KF_100)\n"
   ]
  },
  {
   "cell_type": "code",
   "execution_count": 33,
   "metadata": {},
   "outputs": [],
   "source": [
    "WF_cl = {\n",
    "        \"Decoder\": pd.Series([\"WF\", \"WF\", \"WF\", \"WF\", \"WF\"]),\n",
    "        \"Prediction Accuracy ($R^2$)\": pd.Series([0.820, 0.837, 0.852, 0.845, 0.830]),\n",
    "        \"Data\": pd.Series([\"Real classifier\", \"Real classifier\", \"Real classifier\", \"Real classifier\", \"Real classifier\"])\n",
    "   }\n",
    "\n",
    "WF_cl_df = pd.DataFrame(WF_cl)\n",
    "WF_100 = {\n",
    "        \"Decoder\": pd.Series([\"WF\", \"WF\", \"WF\", \"WF\", \"WF\"]),\n",
    "        \"Prediction Accuracy ($R^2$)\": pd.Series([0.870, 0.882, 0.875, 0.885, 0.862]),\n",
    "        \"Data\": pd.Series([\"Perfect classifier\", \"Perfect classifier\", \"Perfect classifier\", \"Perfect classifier\", \"Perfect classifier\"])\n",
    "   }\n",
    "WF_100_df = pd.DataFrame(WF_100)"
   ]
  },
  {
   "cell_type": "code",
   "execution_count": 34,
   "metadata": {},
   "outputs": [],
   "source": [
    "FF_cl = {\n",
    "        \"Decoder\": pd.Series([\"FFNN\", \"FFNN\", \"FFNN\", \"FFNN\", \"FFNN\"]),\n",
    "        \"Prediction Accuracy ($R^2$)\": pd.Series([0.889, 0.895, 0.892, 0.886, 0.898]),\n",
    "        \"Data\": pd.Series([\"Real classifier\", \"Real classifier\", \"Real classifier\", \"Real classifier\", \"Real classifier\"])\n",
    "   }\n",
    "FF_cl_df = pd.DataFrame(FF_cl)\n",
    "FF_100 = {\n",
    "        \"Decoder\": pd.Series([\"FFNN\", \"FFNN\", \"FFNN\", \"FFNN\", \"FFNN\"]),\n",
    "        \"Prediction Accuracy ($R^2$)\": pd.Series([0.941, 0.932, 0.936, 0.925, 0.943]),\n",
    "        \"Data\": pd.Series([\"Perfect classifier\", \"Perfect classifier\", \"Perfect classifier\", \"Perfect classifier\", \"Perfect classifier\"])\n",
    "   }\n",
    "FF_100_df = pd.DataFrame(FF_100)"
   ]
  },
  {
   "cell_type": "code",
   "execution_count": 35,
   "metadata": {},
   "outputs": [],
   "source": [
    "LS_cl = {\n",
    "        \"Decoder\": pd.Series([\"LSTM\", \"LSTM\", \"LSTM\", \"LSTM\",\"LSTM\"]),\n",
    "        \"Prediction Accuracy ($R^2$)\": pd.Series([0.875, 0.888, 0.902, 0.883, 0.892]),\n",
    "        \"Data\": pd.Series([\"Real classifier\", \"Real classifier\", \"Real classifier\", \"Real classifier\", \"Real classifier\"])\n",
    "   }\n",
    "LS_cl_df = pd.DataFrame(LS_cl)\n",
    "LS_100 = {\n",
    "        \"Decoder\": pd.Series([\"LSTM\", \"LSTM\", \"LSTM\", \"LSTM\",\"LSTM\"]),\n",
    "        \"Prediction Accuracy ($R^2$)\": pd.Series([0.941, 0.931, 0.945, 0.921, 0.938]),\n",
    "        \"Data\": pd.Series([\"Perfect classifier\", \"Perfect classifier\", \"Perfect classifier\", \"Perfect classifier\", \"Perfect classifier\"])\n",
    "   }\n",
    "LS_100_df = pd.DataFrame(LS_100)"
   ]
  },
  {
   "cell_type": "code",
   "execution_count": 36,
   "metadata": {},
   "outputs": [
    {
     "name": "stderr",
     "output_type": "stream",
     "text": [
      "The PostScript backend does not support transparency; partially transparent artists will be rendered opaque.\n",
      "The PostScript backend does not support transparency; partially transparent artists will be rendered opaque.\n"
     ]
    },
    {
     "data": {
      "image/png": "[encoded data removed]",
      "text/plain": [
       "<Figure size 432x288 with 1 Axes>"
      ]
     },
     "metadata": {},
     "output_type": "display_data"
    }
   ],
   "source": [
    "vel_res = KF_cl_df.append([KF_100_df,WF_cl_df, WF_100_df, FF_cl_df, FF_100_df, LS_cl_df, LS_100_df], ignore_index = True)\n",
    "sns.set_style(\"whitegrid\")\n",
    "ax = sns.boxplot(x=\"Decoder\", y=\"Prediction Accuracy ($R^2$)\", hue=\"Data\", data = vel_res, showfliers = False, linewidth=1)\n",
    "[ax.axvline(x+.5,color=(0.7, 0.7, 0.7), linewidth=1) for x in ax.get_xticks()]\n",
    "plt.legend(loc=\"upper left\")\n",
    "plt.ylim([0.70, 1])\n",
    "plt.savefig('figures/R2_CO_vel_class.png')\n",
    "plt.savefig('figures/R2_CO_vel_class.eps', format='eps')\n",
    "plt.show()\n"
   ]
  },
  {
   "cell_type": "code",
   "execution_count": null,
   "metadata": {},
   "outputs": [],
   "source": []
  }
 ],
 "metadata": {
  "kernelspec": {
   "display_name": "Python 3",
   "language": "python",
   "name": "python3"
  },
  "language_info": {
   "codemirror_mode": {
    "name": "ipython",
    "version": 3
   },
   "file_extension": ".py",
   "mimetype": "text/x-python",
   "name": "python",
   "nbconvert_exporter": "python",
   "pygments_lexer": "ipython3",
   "version": "3.7.0"
  }
 },
 "nbformat": 4,
 "nbformat_minor": 4
}
