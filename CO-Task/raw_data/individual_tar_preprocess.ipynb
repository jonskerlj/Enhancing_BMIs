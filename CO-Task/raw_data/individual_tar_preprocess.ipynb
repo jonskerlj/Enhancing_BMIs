{
 "cells": [
  {
   "cell_type": "code",
   "execution_count": 2,
   "metadata": {},
   "outputs": [],
   "source": [
    "import pandas as pd\n",
    "import numpy as np\n",
    "import xarray as xr\n",
    "\n",
    "import os\n",
    "from tqdm.auto import tqdm\n",
    "\n",
    "import matplotlib.pyplot as plt\n",
    "import seaborn as sns\n",
    "\n",
    "from pyaldata import *"
   ]
  },
  {
   "cell_type": "code",
   "execution_count": 18,
   "metadata": {},
   "outputs": [],
   "source": [
    "# Load data\n",
    "data_dir = \"\"\n",
    "fname = os.path.join(data_dir, \"Chewie_CO_arranged.mat\")"
   ]
  },
  {
   "cell_type": "code",
   "execution_count": 19,
   "metadata": {},
   "outputs": [],
   "source": [
    "# load TrialData .mat file into a DataFrame\n",
    "df = mat2dataframe(fname, shift_idx_fields=True)"
   ]
  },
  {
   "cell_type": "code",
   "execution_count": 20,
   "metadata": {},
   "outputs": [],
   "source": [
    "# Get number of trials for each direction\n",
    "data_dir = \"\"\n",
    "fname = os.path.join(data_dir, \"arranged_sizes.mat\")"
   ]
  },
  {
   "cell_type": "code",
   "execution_count": 21,
   "metadata": {},
   "outputs": [],
   "source": [
    "# Array that stores the number of trials for each target direction\n",
    "sizes = scipy.io.loadmat(fname, simplify_cells = True)['sizes']"
   ]
  },
  {
   "cell_type": "code",
   "execution_count": 22,
   "metadata": {},
   "outputs": [],
   "source": [
    "# Keep only successful trials\n",
    "df = select_trials(df, \"result == 'R'\")"
   ]
  },
  {
   "cell_type": "code",
   "execution_count": 23,
   "metadata": {},
   "outputs": [],
   "source": [
    "# Preprocessing\n",
    "# combine time bins into longer ones, e.g. group 3 time bins together\n",
    "td = combine_time_bins(df, 3)"
   ]
  },
  {
   "cell_type": "code",
   "execution_count": 24,
   "metadata": {},
   "outputs": [
    {
     "name": "stdout",
     "output_type": "stream",
     "text": [
      "original:  (393, 88)\n",
      "removed:   (131, 63)\n"
     ]
    }
   ],
   "source": [
    "# Remove low-firing neurons\n",
    "td = remove_low_firing_neurons(td, \"M1_spikes\",  5)\n",
    "td = remove_low_firing_neurons(td, \"PMd_spikes\", 5)\n",
    "\n",
    "print(\"original: \", df.M1_spikes[0].shape)\n",
    "print(\"removed:  \", td.M1_spikes[0].shape)"
   ]
  },
  {
   "cell_type": "code",
   "execution_count": 25,
   "metadata": {},
   "outputs": [],
   "source": [
    "# Smooting the signal\n",
    "td = smooth_signals(td, [\"M1_spikes\", \"PMd_spikes\"], std=0.05)"
   ]
  },
  {
   "cell_type": "code",
   "execution_count": 26,
   "metadata": {},
   "outputs": [],
   "source": [
    "# Combine M1 and PMd\n",
    "td = merge_signals(td, [\"M1_spikes\", \"PMd_spikes\"], \"both_spikes\")"
   ]
  },
  {
   "cell_type": "code",
   "execution_count": 27,
   "metadata": {},
   "outputs": [
    {
     "name": "stdout",
     "output_type": "stream",
     "text": [
      "(29328, 2)\n",
      "(29328, 2)\n",
      "(29328, 63)\n",
      "(29328, 183)\n",
      "[38, 39, 41, 42, 41, 40, 41, 43, 40, 44, 39, 39, 50, 42, 42, 39, 39, 38, 41, 41, 42, 38, 44, 40, 41, 42, 40, 41, 39, 40, 39, 43, 41, 42, 43, 41, 42, 39, 41, 40, 42, 41, 41, 38, 42, 39, 40, 40, 40, 43, 38, 41, 39, 38, 39, 39, 40, 40, 38, 45, 39, 34, 39, 38, 36, 40, 40, 38, 40, 40, 40, 40, 38, 37, 38, 38, 37, 38, 39, 38, 42, 38, 38, 43, 39, 38, 41, 47, 36, 41, 39, 37, 41, 41, 35, 38, 42, 43, 39, 38, 38, 37, 38, 40, 39, 42, 36, 38, 48, 38, 40, 36, 38, 38, 38, 37, 43, 41, 38, 41, 38, 41, 37, 40, 39, 39, 40, 38, 46, 45, 37, 40, 38, 42, 39, 41, 37, 38, 37, 37, 38, 41, 35, 36, 43, 38, 38, 39, 36, 39, 44, 39, 39, 39, 35, 41, 42, 37, 40, 43, 43, 46, 37, 37, 45, 37, 39, 36, 36, 40, 38, 38, 39, 39, 37, 40, 38, 37, 40, 40, 36, 40, 39, 37, 43, 38, 41, 38, 41, 45, 38, 39, 39, 41, 36, 40, 45, 36, 47, 39, 38, 38, 39, 44, 40, 41, 40, 41, 40, 39, 40, 41, 42, 40, 46, 40, 42, 40, 41, 41, 37, 38, 40, 39, 44, 41, 41, 39, 44, 42, 40, 43, 38, 41, 44, 42, 40, 48, 40, 40, 41, 40, 41, 40, 43, 47, 44, 47, 41, 41, 42, 39, 39, 41, 41, 37, 41, 37, 38, 38, 39, 39, 38, 47, 44, 41, 38, 37, 37, 41, 43, 44, 37, 43, 41, 39, 47, 39, 39, 40, 43, 40, 44, 39, 42, 47, 44, 41, 41, 39, 39, 43, 40, 38, 42, 40, 39, 42, 38, 42, 42, 43, 41, 41, 40, 41, 40, 41, 39, 39, 40, 40, 38, 43, 38, 43, 44, 42, 45, 40, 41, 42, 41, 46, 43, 41, 41, 40, 39, 39, 41, 40, 42, 42, 45, 40, 42, 43, 38, 41, 41, 40, 42, 41, 43, 39, 40, 46, 39, 44, 44, 39, 40, 46, 39, 44, 41, 40, 39, 39, 40, 43, 41, 41, 41, 42, 41, 42, 42, 38, 47, 45, 39, 39, 37, 50, 36, 38, 39, 36, 38, 37, 40, 40, 44, 39, 39, 41, 41, 43, 42, 39, 39, 40, 40, 40, 38, 37, 36, 38, 36, 39, 41, 39, 43, 36, 37, 38, 36, 35, 44, 49, 42, 36, 40, 47, 40, 36, 39, 38, 38, 37, 35, 39, 39, 49, 39, 42, 37, 39, 38, 36, 39, 39, 37, 45, 35, 38, 42, 36, 38, 40, 41, 42, 38, 36, 38, 37, 36, 37, 38, 38, 37, 47, 43, 38, 38, 36, 37, 39, 40, 45, 38, 37, 37, 36, 39, 39, 38, 37, 39, 37, 41, 38, 38, 40, 41, 37, 41, 38, 37, 36, 40, 39, 38, 40, 36, 38, 39, 36, 37, 38, 38, 44, 45, 38, 37, 37, 36, 38, 37, 38, 39, 40, 39, 40, 41, 39, 38, 39, 35, 35, 38, 38, 39, 41, 36, 38, 37, 37, 37, 33, 36, 35, 36, 37, 40, 36, 35, 37, 37, 36, 36, 35, 37, 36, 37, 36, 44, 35, 36, 36, 35, 34, 38, 38, 39, 38, 39, 39, 40, 40, 41, 38, 40, 44, 38, 39, 39, 46, 43, 38, 39, 39, 38, 41, 37, 41, 39, 40, 38, 35, 38, 38, 41, 41, 40, 39, 40, 40, 39, 39, 38, 38, 42, 41, 38, 40, 40, 40, 41, 40, 42, 40, 41, 38, 43, 38, 38, 40, 38, 38, 37, 39, 38, 37, 40, 40, 40, 39, 39, 38, 39, 41, 39, 43, 48, 39, 49, 37, 38, 37, 37, 39, 40, 39, 39, 39, 36, 37, 38, 40, 37, 35, 37, 36, 36, 39, 39, 37, 35, 37, 37, 37, 38, 37, 38, 38, 44, 39, 38, 39, 38, 39, 39, 38, 38, 40, 37, 38, 43, 40, 40, 40, 39, 38, 40, 38, 40, 38, 41, 41, 42, 40, 40, 40, 41, 43, 39, 39, 39, 42, 40, 41, 40, 42, 40, 39, 40, 42, 41, 38, 36, 38, 39, 38, 41, 41, 40, 38, 41, 39, 39, 39, 39, 40, 40, 40, 41, 42, 41, 41, 39, 37, 41, 39, 42, 39, 40, 39, 39, 40, 36, 37, 38, 37, 38, 39, 39, 36, 40, 39, 36, 39, 41, 37, 38, 42, 40, 38]\n"
     ]
    }
   ],
   "source": [
    "N = td.shape[0]\n",
    "\n",
    "# variable that stores the number of bins for each trial as a separate element in a list\n",
    "trial_len = []\n",
    "for i in range(N):\n",
    "    # get indicies from the go cue to the end of the trial\n",
    "    idx_e = int(td.idx_trial_end[i])\n",
    "    idx_s = int(td.idx_go_cue[i])\n",
    "    \n",
    "    # get position\n",
    "    pos = td.pos[i]\n",
    "    pos = pos[idx_s:idx_e,:]\n",
    "    \n",
    "    # get velocities for this trial\n",
    "    vel = td.vel[i]\n",
    "    vel = vel[idx_s:idx_e,:]\n",
    "        \n",
    "    # get M1 spikes\n",
    "    M1 = td.M1_spikes[i]\n",
    "    M1 = M1[idx_s:idx_e,:]\n",
    "    \n",
    "    # get M1&PMd spikes\n",
    "    M1_PMd = td.both_spikes[i]\n",
    "    M1_PMd = M1_PMd[idx_s:idx_e,:]\n",
    "    \n",
    "    \n",
    "    if (i == 0):\n",
    "        grouped_pos = pos\n",
    "        grouped_vel = vel\n",
    "        grouped_M1 = M1\n",
    "        grouped_M1_PMd = M1_PMd\n",
    "    else:\n",
    "        grouped_pos = np.append(grouped_pos, pos, axis=0)\n",
    "        grouped_vel = np.append(grouped_vel, vel, axis=0)\n",
    "        grouped_M1 = np.append(grouped_M1, M1, axis=0)\n",
    "        grouped_M1_PMd = np.append(grouped_M1_PMd, M1_PMd, axis=0)\n",
    "     \n",
    "    trial_len.append(idx_e-idx_s)\n",
    "\n",
    "# Double check that sizes match\n",
    "print(grouped_pos.shape)    \n",
    "print(grouped_vel.shape)\n",
    "print(grouped_M1.shape)\n",
    "print(grouped_M1_PMd.shape)\n",
    "print(trial_len)"
   ]
  },
  {
   "cell_type": "code",
   "execution_count": 29,
   "metadata": {},
   "outputs": [],
   "source": [
    "# Save the data in right format\n",
    "import pickle\n",
    "\n",
    "data_folder='../preprocessed_data/' #FOLDER YOU WANT TO SAVE THE DATA TO\n",
    "\n",
    "with open(data_folder+'individual_tar_data.pickle','wb') as f:\n",
    "    pickle.dump([grouped_M1, grouped_M1_PMd, grouped_pos, grouped_vel, sizes, trial_len],f)"
   ]
  },
  {
   "cell_type": "code",
   "execution_count": null,
   "metadata": {},
   "outputs": [],
   "source": []
  }
 ],
 "metadata": {
  "kernelspec": {
   "display_name": "Python 3",
   "language": "python",
   "name": "python3"
  },
  "language_info": {
   "codemirror_mode": {
    "name": "ipython",
    "version": 3
   },
   "file_extension": ".py",
   "mimetype": "text/x-python",
   "name": "python",
   "nbconvert_exporter": "python",
   "pygments_lexer": "ipython3",
   "version": "3.7.0"
  }
 },
 "nbformat": 4,
 "nbformat_minor": 4
}
