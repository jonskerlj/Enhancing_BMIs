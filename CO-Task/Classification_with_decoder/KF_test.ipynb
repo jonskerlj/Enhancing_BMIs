{
 "cells": [
  {
   "cell_type": "code",
   "execution_count": 1,
   "metadata": {},
   "outputs": [],
   "source": [
    "#Import standard packages\n",
    "import pandas as pd\n",
    "import numpy as np\n",
    "import xarray as xr\n",
    "import math\n",
    "import os\n",
    "\n",
    "from pyaldata import *\n",
    "\n",
    "import matplotlib.pyplot as plt\n",
    "import seaborn as sns\n",
    "%matplotlib inline\n",
    "from scipy import io\n",
    "from scipy import stats\n",
    "from sklearn.metrics import r2_score\n",
    "import pickle\n",
    "from tqdm import tqdm\n",
    "import csv\n",
    "\n",
    "#Import function to get the covariate matrix that includes spike history from previous bins\n",
    "from Neural_Decoding.preprocessing_funcs import get_spikes_with_history\n",
    "\n",
    "\n",
    "#Import decoder functions\n",
    "from Neural_Decoding.decoders import KalmanFilterDecoder"
   ]
  },
  {
   "cell_type": "code",
   "execution_count": 2,
   "metadata": {},
   "outputs": [],
   "source": [
    "#Get Data in the correct format\n",
    "#enter the folder where the data is\n",
    "folder='../preprocessed_data/'\n",
    "\n",
    "with open(folder+'all_data.pickle','rb') as f:\n",
    "    #If using python 3\n",
    "    M1, PMd, M1_PMd,pos_binned,vels_binned=pickle.load(f,encoding='latin1') \n"
   ]
  },
  {
   "cell_type": "code",
   "execution_count": 3,
   "metadata": {},
   "outputs": [],
   "source": [
    "# Function that reassigns different angles into classes from 1 to 8\n",
    "# going anticlockwise starting from +x direction\n",
    "def determine_angle(angle):\n",
    "    if angle == 0:\n",
    "        return 1\n",
    "    elif angle == math.pi/4:\n",
    "        return 2\n",
    "    elif angle == math.pi/2:\n",
    "        return 3\n",
    "    elif angle == 3*math.pi/4:\n",
    "        return 4\n",
    "    elif angle == math.pi:\n",
    "        return 5\n",
    "    elif angle == -3*math.pi/4:\n",
    "        return 6\n",
    "    elif angle == -math.pi/2:\n",
    "        return 7\n",
    "    elif angle == -math.pi/4:\n",
    "        return 8"
   ]
  },
  {
   "cell_type": "code",
   "execution_count": 4,
   "metadata": {},
   "outputs": [
    {
     "name": "stderr",
     "output_type": "stream",
     "text": [
      "c:\\users\\jon\\documents\\biomedical engineering - ic\\4. letnik\\final year project\\python\\pyaldata\\pyaldata\\tools.py:979: UserWarning: Assuming spikes are actually spikes and dividing by bin size.\n",
      "  utils.warnings.warn(\"Assuming spikes are actually spikes and dividing by bin size.\")\n"
     ]
    }
   ],
   "source": [
    "# Load data\n",
    "import os\n",
    "data_dir = '../raw_data/'\n",
    "fname = os.path.join(data_dir, \"Chewie_CO_CS_2016-10-14.mat\")\n",
    "\n",
    "# load TrialData .mat file into a DataFrame\n",
    "df = mat2dataframe(fname, shift_idx_fields=True)\n",
    "\n",
    "# Keep only successful trials\n",
    "df = select_trials(df, \"result == 'R'\")\n",
    "\n",
    "# Import the whole data set\n",
    "# combine time bins into longer ones\n",
    "td_full = combine_time_bins(df, 3)\n",
    "\n",
    "# Remove low-firing neurons\n",
    "td_full = remove_low_firing_neurons(td_full, \"M1_spikes\",  5)\n",
    "td_full = remove_low_firing_neurons(td_full, \"PMd_spikes\", 5)\n",
    "\n",
    "# Get the signal from idx_go_cue\n",
    "df.idx_movement_on = df.idx_movement_on.astype(int)\n",
    "td_full = restrict_to_interval(td_full, start_point_name='idx_go_cue', end_point_name='idx_trial_end')\n",
    "\n",
    "\n",
    "td_full = smooth_signals(td_full, [\"M1_spikes\", \"PMd_spikes\"], std=0.05)\n",
    "\n",
    "# Get the data in the right format\n",
    "N_full = td_full.shape[0]\n",
    "\n",
    "lengths = []\n",
    "angle = []\n",
    "for i in range(N_full):\n",
    "    # get position\n",
    "    pos = td_full.pos[i]\n",
    "    lengths.append(pos.shape[0])\n",
    "    angle.append(determine_angle(td_full.target_direction[i]))"
   ]
  },
  {
   "cell_type": "code",
   "execution_count": 6,
   "metadata": {},
   "outputs": [
    {
     "name": "stdout",
     "output_type": "stream",
     "text": [
      "(30068, 63) (30068, 1)\n"
     ]
    }
   ],
   "source": [
    "angle_data = np.zeros(shape=(M1.shape[0],1))\n",
    "start = 0\n",
    "for (idx,duration) in enumerate(lengths):\n",
    "    end = start + duration\n",
    "    angle_data[start:end] = angle[idx]\n",
    "    \n",
    "    \n",
    "    start = end\n",
    "\n",
    "\n",
    "print(M1.shape, angle_data.shape)\n"
   ]
  },
  {
   "cell_type": "code",
   "execution_count": 10,
   "metadata": {},
   "outputs": [
    {
     "name": "stderr",
     "output_type": "stream",
     "text": [
      "100%|████████████████████████████████████████████████████████████████████████████████████| 1/1 [00:02<00:00,  2.78s/it]\n"
     ]
    }
   ],
   "source": [
    "## Do preprocessing and run the decoder for different neural data sets\n",
    "#neural_data_combined = [M1, PMd, M1_PMd]\n",
    "neural_data_combined = [M1]\n",
    "kinematics = [pos_binned, vels_binned]\n",
    "\n",
    "# User \n",
    "lag=0 #What time bin of spikes should be used relative to the output\n",
    "#(lag=-1 means use the spikes 1 bin before the output)\n",
    "\n",
    "# variable which stores R^2 values\n",
    "R2 = np.empty((3,2))\n",
    "# index variable\n",
    "for i in tqdm(range(1)):\n",
    "    neural_data = neural_data_combined[i]\n",
    "    \n",
    "    # Formatting for KF\n",
    "    # Input\n",
    "    #The covariate is simply the matrix of firing rates for all neurons over time\n",
    "    X_kf=neural_data\n",
    "    # Output\n",
    "    #The final output covariates include position, velocity, and acceleration\n",
    "    y_kf=np.concatenate((pos_binned,vels_binned),axis=1)\n",
    "    \n",
    "    # Take into account lag (if it applies to the analysis)\n",
    "    num_examples=X_kf.shape[0]\n",
    "\n",
    "    #Re-align data to take lag into account\n",
    "    if lag<0:\n",
    "        y_kf=y_kf[-lag:,:]\n",
    "        X_kf=X_kf[0:num_examples+lag,:]\n",
    "    if lag>0:\n",
    "        y_kf=y_kf[0:num_examples-lag,:]\n",
    "        X_kf=X_kf[lag:num_examples,:]\n",
    "        \n",
    "    # Splitting data into training/testing/validation sets\n",
    "    #Set what part of data should be part of the training/testing/validation sets\n",
    "    training_range=[0, 0.7]\n",
    "    testing_range=[0.7, 0.85]\n",
    "    valid_range=[0.85,1]\n",
    "    \n",
    "    # Split data for KF\n",
    "    #Number of examples after taking into account bins removed for lag alignment\n",
    "    num_examples_kf=X_kf.shape[0]\n",
    "\n",
    "    #Note that each range has a buffer of 1 bin at the beginning and end\n",
    "    #This makes it so that the different sets don't include overlapping data\n",
    "    training_set=np.arange(int(np.round(training_range[0]*num_examples_kf))+1,int(np.round(training_range[1]*num_examples_kf))-1)\n",
    "    testing_set=np.arange(int(np.round(testing_range[0]*num_examples_kf))+1,int(np.round(testing_range[1]*num_examples_kf))-1)\n",
    "    valid_set=np.arange(int(np.round(valid_range[0]*num_examples_kf))+1,int(np.round(valid_range[1]*num_examples_kf))-1)\n",
    "    \n",
    "    angle_train = np.arange(int(np.round(training_range[0]*num_examples_kf))+1,int(np.round(training_range[1]*num_examples_kf))-1)\n",
    "    angle_valid = np.arange(int(np.round(valid_range[0]*num_examples_kf))+1,int(np.round(valid_range[1]*num_examples_kf))-1)\n",
    "    angle_train = np.expand_dims(angle_train, axis=1)\n",
    "    angle_valid = np.expand_dims(angle_valid, axis=1)\n",
    "    \n",
    "    #Get training data\n",
    "    X_kf_train=X_kf[training_set,:]\n",
    "    y_kf_train=y_kf[training_set,:]\n",
    "\n",
    "    #Get testing data\n",
    "    X_kf_test=X_kf[testing_set,:]\n",
    "    y_kf_test=y_kf[testing_set,:]\n",
    "\n",
    "    #Get validation data\n",
    "    X_kf_valid=X_kf[valid_set,:]\n",
    "    y_kf_valid=y_kf[valid_set,:]\n",
    "    \n",
    "    #  Preprocessing: Normalization and zero-centering\n",
    "    #Z-score inputs \n",
    "    X_kf_train_mean=np.nanmean(X_kf_train,axis=0)\n",
    "    X_kf_train_std=np.nanstd(X_kf_train,axis=0)\n",
    "    X_kf_train=(X_kf_train-X_kf_train_mean)/X_kf_train_std\n",
    "    X_kf_test=(X_kf_test-X_kf_train_mean)/X_kf_train_std\n",
    "    X_kf_valid=(X_kf_valid-X_kf_train_mean)/X_kf_train_std\n",
    "    \n",
    "    X_kf_train = np.hstack((X_kf_train, angle_train))\n",
    "    X_kf_valid = np.hstack((X_kf_valid, angle_valid))\n",
    "    \n",
    "    #Zero-center outputs\n",
    "    y_kf_train_mean=np.mean(y_kf_train,axis=0)\n",
    "    y_kf_train=y_kf_train-y_kf_train_mean\n",
    "    y_kf_test=y_kf_test-y_kf_train_mean\n",
    "    y_kf_valid=y_kf_valid-y_kf_train_mean\n",
    "    \n",
    "    \n",
    "    # Run the decoders\n",
    "    # 1. Kalman filter\n",
    "    #Declare model\n",
    "    model_kf=KalmanFilterDecoder(C=1) #There is one optional parameter that is set to the default in this example (see ReadMe)\n",
    "\n",
    "    #Fit model\n",
    "    model_kf.fit(X_kf_train,y_kf_train)\n",
    "\n",
    "    #Get predictions\n",
    "    y_valid_predicted_kf=model_kf.predict(X_kf_valid,y_kf_valid)\n",
    "    \n",
    "    R2_pos = r2_score(y_kf_valid[:,0:2],y_valid_predicted_kf[:,0:2], multioutput='variance_weighted')\n",
    "    R2_vel = r2_score(y_kf_valid[:,2:4],y_valid_predicted_kf[:,2:4], multioutput='variance_weighted')\n",
    "    \n",
    "    R2[i,:] = R2_pos, R2_vel"
   ]
  },
  {
   "cell_type": "code",
   "execution_count": 15,
   "metadata": {},
   "outputs": [],
   "source": [
    "# Export the data into a csv file for further analysis\n",
    "#csv_rowlist = [['','Kalman Filter'], ['R^2 values','Position', 'Velocity'], ['M1', R2[0,0], R2[0,1]], ['PMd',  R2[1,0], R2[1,1]],['M1 & PMd', R2[2,0], R2[2,1]]]\n",
    "\n",
    "#export_path = '../Results/KF_raw.csv'\n",
    "#with open(export_path, 'w', newline='') as file:\n",
    "#    writer = csv.writer(file)\n",
    "#    writer.writerows(csv_rowlist)"
   ]
  },
  {
   "cell_type": "code",
   "execution_count": 9,
   "metadata": {},
   "outputs": [
    {
     "name": "stdout",
     "output_type": "stream",
     "text": [
      "[[0.66590544 0.73053529]\n",
      " [0.64718672 0.63680953]\n",
      " [0.81982633 0.79923576]]\n"
     ]
    }
   ],
   "source": [
    "print(R2)"
   ]
  },
  {
   "cell_type": "code",
   "execution_count": 11,
   "metadata": {},
   "outputs": [
    {
     "name": "stdout",
     "output_type": "stream",
     "text": [
      "[[0.67963619 0.73138787]\n",
      " [0.64718672 0.63680953]\n",
      " [0.81982633 0.79923576]]\n"
     ]
    }
   ],
   "source": [
    "print(R2)"
   ]
  },
  {
   "cell_type": "code",
   "execution_count": null,
   "metadata": {},
   "outputs": [],
   "source": []
  }
 ],
 "metadata": {
  "kernelspec": {
   "display_name": "Python 3",
   "language": "python",
   "name": "python3"
  },
  "language_info": {
   "codemirror_mode": {
    "name": "ipython",
    "version": 3
   },
   "file_extension": ".py",
   "mimetype": "text/x-python",
   "name": "python",
   "nbconvert_exporter": "python",
   "pygments_lexer": "ipython3",
   "version": "3.7.0"
  }
 },
 "nbformat": 4,
 "nbformat_minor": 4
}
