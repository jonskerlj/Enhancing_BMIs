{
 "cells": [
  {
   "cell_type": "code",
   "execution_count": 1,
   "metadata": {},
   "outputs": [],
   "source": [
    "#Import standard packages\n",
    "import numpy as np\n",
    "import matplotlib.pyplot as plt\n",
    "%matplotlib inline\n",
    "from scipy import io\n",
    "from scipy import stats\n",
    "from sklearn.metrics import r2_score\n",
    "import pickle\n",
    "from tqdm import tqdm\n",
    "import csv\n",
    "\n",
    "#Import function to get the covariate matrix that includes spike history from previous bins\n",
    "from Neural_Decoding.preprocessing_funcs import get_spikes_with_history\n",
    "\n",
    "#Import metrics\n",
    "from Neural_Decoding.metrics import get_R2\n",
    "from Neural_Decoding.metrics import get_rho\n",
    "\n",
    "#Import hyperparameter optimization packages\n",
    "try:\n",
    "    from hyperopt import fmin, hp, Trials, tpe, STATUS_OK\n",
    "except ImportError:\n",
    "    print(\"\\nWARNING: hyperopt package is not installed. You will be unable to use section 5.\")\n",
    "    pass\n",
    "\n",
    "#Import decoder functions\n",
    "from Neural_Decoding.decoders import DenseNNDecoder"
   ]
  },
  {
   "cell_type": "code",
   "execution_count": 2,
   "metadata": {},
   "outputs": [],
   "source": [
    "#Get Data in the correct format\n",
    "#enter the folder where the data is\n",
    "folder='../preprocessed_data/'\n",
    "\n",
    "with open(folder+'all_data.pickle','rb') as f:\n",
    "    #If using python 3\n",
    "    M1, PMd, M1_PMd,pos_binned,vels_binned=pickle.load(f,encoding='latin1') "
   ]
  },
  {
   "cell_type": "code",
   "execution_count": 10,
   "metadata": {},
   "outputs": [
    {
     "name": "stderr",
     "output_type": "stream",
     "text": [
      "\r",
      "  0%|                                                                                            | 0/3 [00:00<?, ?it/s]"
     ]
    },
    {
     "name": "stdout",
     "output_type": "stream",
     "text": [
      "\n",
      "  0%|                                                                            | 0/1 [00:00<?, ?trial/s, best loss=?]\u001b[A\n",
      "100%|█████████████████████████████████████████████████| 1/1 [00:27<00:00, 27.63s/trial, best loss: -0.9404643705247733]\u001b[A\n",
      "\n",
      "  0%|                                                                            | 0/1 [00:00<?, ?trial/s, best loss=?]\u001b[A\n",
      "100%|█████████████████████████████████████████████████| 1/1 [00:25<00:00, 25.52s/trial, best loss: -0.9364576753226013]\u001b[A\n"
     ]
    },
    {
     "name": "stderr",
     "output_type": "stream",
     "text": [
      "\r",
      " 33%|████████████████████████████                                                        | 1/3 [01:26<02:52, 86.43s/it]"
     ]
    },
    {
     "name": "stdout",
     "output_type": "stream",
     "text": [
      "\n",
      "  0%|                                                                            | 0/1 [00:00<?, ?trial/s, best loss=?]\u001b[A\n",
      "100%|█████████████████████████████████████████████████| 1/1 [00:06<00:00,  6.62s/trial, best loss: -0.8995538942896331]\u001b[A\n",
      "\n",
      "  0%|                                                                            | 0/1 [00:00<?, ?trial/s, best loss=?]\u001b[A\n",
      "100%|████████████████████████████████████████████████| 1/1 [01:40<00:00, 100.09s/trial, best loss: -0.9254836033227389]\u001b[A\n"
     ]
    },
    {
     "name": "stderr",
     "output_type": "stream",
     "text": [
      "\r",
      " 67%|███████████████████████████████████████████████████████▎                           | 2/3 [04:12<02:13, 133.53s/it]"
     ]
    },
    {
     "name": "stdout",
     "output_type": "stream",
     "text": [
      "\n",
      "  0%|                                                                            | 0/1 [00:00<?, ?trial/s, best loss=?]\u001b[A\n",
      "100%|██████████████████████████████████████████████████| 1/1 [01:55<00:00, 115.91s/trial, best loss: -0.96284368897074]\u001b[A\n",
      "\n",
      "  0%|                                                                            | 0/1 [00:00<?, ?trial/s, best loss=?]\u001b[A\n",
      "100%|████████████████████████████████████████████████| 1/1 [02:43<00:00, 163.28s/trial, best loss: -0.9388984096198465]\u001b[A\n"
     ]
    },
    {
     "name": "stderr",
     "output_type": "stream",
     "text": [
      "100%|███████████████████████████████████████████████████████████████████████████████████| 3/3 [12:03<00:00, 241.12s/it]\n"
     ]
    }
   ],
   "source": [
    "neural_data_combined = [M1, PMd, M1_PMd]\n",
    "kinematics = [pos_binned, vels_binned]\n",
    "\n",
    "test = [pos_binned]\n",
    "R2 = np.empty((3,2))\n",
    "\n",
    "for row in tqdm(range(3)):\n",
    "    neural_data = neural_data_combined[row]\n",
    "    col = 0\n",
    "    for output in kinematics:\n",
    "        # Preprocess data\n",
    "        bins_before=6 #How many bins of neural data prior to the output are used for decoding\n",
    "        bins_current=1 #Whether to use concurrent time bin of neural data\n",
    "        bins_after=0 #How many bins of neural data after the output are used for decoding\n",
    "\n",
    "        # Format for recurrent neural networks (SimpleRNN, GRU, LSTM)\n",
    "        # Function to get the covariate matrix that includes spike history from previous bins\n",
    "        X=get_spikes_with_history(neural_data,bins_before,bins_after,bins_current)\n",
    "\n",
    "        # Format for Wiener Filter, Wiener Cascade, XGBoost, and Dense Neural Network\n",
    "        #Put in \"flat\" format, so each \"neuron / time\" is a single feature\n",
    "        X_flat=X.reshape(X.shape[0],(X.shape[1]*X.shape[2]))\n",
    "        \n",
    "        # Output covariates\n",
    "        #Set decoding output\n",
    "        y=output\n",
    "        \n",
    "        #Set what part of data should be part of the training/testing/validation sets\n",
    "        training_range=[0, 0.8]\n",
    "        testing_range=[0.8,0.9]\n",
    "        valid_range=[0.9,1]\n",
    "        \n",
    "        \n",
    "        num_examples=X.shape[0]\n",
    "\n",
    "        #Note that each range has a buffer of\"bins_before\" bins at the beginning, and \"bins_after\" bins at the end\n",
    "        #This makes it so that the different sets don't include overlapping neural data\n",
    "        training_set=np.arange(int(np.round(training_range[0]*num_examples))+bins_before,int(np.round(training_range[1]*num_examples))-bins_after)\n",
    "        testing_set=np.arange(int(np.round(testing_range[0]*num_examples))+bins_before,int(np.round(testing_range[1]*num_examples))-bins_after)\n",
    "        valid_set=np.arange(int(np.round(valid_range[0]*num_examples))+bins_before,int(np.round(valid_range[1]*num_examples))-bins_after)\n",
    "\n",
    "        #Get training data\n",
    "        X_train=X[training_set,:,:]\n",
    "        X_flat_train=X_flat[training_set,:]\n",
    "        y_train=y[training_set,:]\n",
    "\n",
    "        #Get testing data\n",
    "        X_test=X[testing_set,:,:]\n",
    "        X_flat_test=X_flat[testing_set,:]\n",
    "        y_test=y[testing_set,:]\n",
    "\n",
    "        #Get validation data\n",
    "        X_valid=X[valid_set,:,:]\n",
    "        X_flat_valid=X_flat[valid_set,:]\n",
    "        y_valid=y[valid_set,:]\n",
    "        \n",
    "        # Process covariates\n",
    "        #Z-score \"X\" inputs. \n",
    "        X_train_mean=np.nanmean(X_train,axis=0)\n",
    "        X_train_std=np.nanstd(X_train,axis=0)\n",
    "        X_train=(X_train-X_train_mean)/X_train_std\n",
    "        X_test=(X_test-X_train_mean)/X_train_std\n",
    "        X_valid=(X_valid-X_train_mean)/X_train_std\n",
    "\n",
    "        #Z-score \"X_flat\" inputs. \n",
    "        X_flat_train_mean=np.nanmean(X_flat_train,axis=0)\n",
    "        X_flat_train_std=np.nanstd(X_flat_train,axis=0)\n",
    "        X_flat_train=(X_flat_train-X_flat_train_mean)/X_flat_train_std\n",
    "        X_flat_test=(X_flat_test-X_flat_train_mean)/X_flat_train_std\n",
    "        X_flat_valid=(X_flat_valid-X_flat_train_mean)/X_flat_train_std\n",
    "\n",
    "        #Zero-center outputs\n",
    "        y_train_mean=np.mean(y_train,axis=0)\n",
    "        y_train=y_train-y_train_mean\n",
    "        y_test=y_test-y_train_mean\n",
    "        y_valid=y_valid-y_train_mean\n",
    "        \n",
    "        \n",
    "        #Do optimization\n",
    "        # Define parameters for hyperoptimisation\n",
    "        def dnn_evaluate2(params):\n",
    "            #Put parameters in proper format\n",
    "            num_units=int(params['num_units'])\n",
    "            frac_dropout=float(params['frac_dropout'])\n",
    "            n_epochs=int(params['n_epochs'])\n",
    "            model_dnn=DenseNNDecoder(units=[num_units,num_units],dropout=frac_dropout,num_epochs=n_epochs) #Define model\n",
    "            model_dnn.fit(X_flat_train,y_train) #Fit model\n",
    "            y_valid_predicted_dnn=model_dnn.predict(X_flat_valid) #Get validation set predictions\n",
    "            return -np.mean(get_R2(y_valid,y_valid_predicted_dnn)) #Return -R2 value of validation set\n",
    "\n",
    "        #The range of values I'll look at for the parameter\n",
    "        #\"hp.quniform\" will allow us to look at integer (rather than continuously spaced) values.\n",
    "        #So for \"num_units\", we are looking at values between 50 and 700 by 10 (50,60,70,...700)\n",
    "        #\"hp.uniform\" looks at continuously spaced values\n",
    "        space = {\n",
    "            'frac_dropout': hp.uniform('frac_dropout', 0., 0.5),\n",
    "            'num_units': hp.quniform('num_units', 50,700,10),\n",
    "            'n_epochs': hp.quniform('n_epochs', 2,15,1),\n",
    "        }\n",
    "\n",
    "        #object that holds iteration results\n",
    "        trials = Trials()\n",
    "        \n",
    "        #Set the number of evaluations below (20 in this example)\n",
    "        hyperoptBest = fmin(dnn_evaluate2, space, algo=tpe.suggest, max_evals=1, trials=trials)\n",
    "\n",
    "        #print(\"R2_validation\",-trials.best_trial['result']['loss'])\n",
    "        \n",
    "        #print(type(hyperoptBest['num_units']))\n",
    "        #print(type(hyperoptBest['frac_dropout']))\n",
    "        #print(type(hyperoptBest['n_epochs']))\n",
    "        #Declare model\n",
    "        model_dnn=DenseNNDecoder(units=int(hyperoptBest['num_units']),dropout=hyperoptBest['frac_dropout'],num_epochs=int(hyperoptBest['n_epochs']))\n",
    "\n",
    "        #Fit model\n",
    "        model_dnn.fit(X_flat_train,y_train)\n",
    "\n",
    "        #Get predictions\n",
    "        y_valid_predicted_dnn=model_dnn.predict(X_flat_valid)\n",
    "        \n",
    "        R2_vw = r2_score(y_valid,y_valid_predicted_dnn, multioutput='variance_weighted')\n",
    "        \n",
    "        # Store the R2 value\n",
    "        R2[row,col] = R2_vw\n",
    "        col += 1"
   ]
  },
  {
   "cell_type": "code",
   "execution_count": 40,
   "metadata": {},
   "outputs": [],
   "source": [
    "# Export the data into a csv file for further analysis\n",
    "csv_rowlist = [['','FFNN'], ['R^2 values','Position', 'Velocity'], ['M1', R2[0,0], R2[0,1]], ['PMd',  R2[1,0], R2[1,1]],['M1 & PMd', R2[2,0], R2[2,1]]]\n",
    "\n",
    "export_path = '../Results/FFNN_raw.csv'\n",
    "with open(export_path, 'w', newline='') as file:\n",
    "    writer = csv.writer(file)\n",
    "    writer.writerows(csv_rowlist)"
   ]
  },
  {
   "cell_type": "code",
   "execution_count": 11,
   "metadata": {},
   "outputs": [
    {
     "name": "stdout",
     "output_type": "stream",
     "text": [
      "[[0.8991437  0.9302906 ]\n",
      " [0.85696067 0.90162023]\n",
      " [0.9333233  0.94599952]]\n"
     ]
    }
   ],
   "source": [
    "print(R2)"
   ]
  },
  {
   "cell_type": "code",
   "execution_count": null,
   "metadata": {},
   "outputs": [],
   "source": []
  }
 ],
 "metadata": {
  "kernelspec": {
   "display_name": "Python 3",
   "language": "python",
   "name": "python3"
  },
  "language_info": {
   "codemirror_mode": {
    "name": "ipython",
    "version": 3
   },
   "file_extension": ".py",
   "mimetype": "text/x-python",
   "name": "python",
   "nbconvert_exporter": "python",
   "pygments_lexer": "ipython3",
   "version": "3.7.0"
  }
 },
 "nbformat": 4,
 "nbformat_minor": 4
}
